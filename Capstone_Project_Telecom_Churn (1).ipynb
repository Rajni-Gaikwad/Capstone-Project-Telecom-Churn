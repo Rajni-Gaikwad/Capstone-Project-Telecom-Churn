{
  "nbformat": 4,
  "nbformat_minor": 0,
  "metadata": {
    "colab": {
      "provenance": [],
      "toc_visible": true
    },
    "kernelspec": {
      "name": "python3",
      "display_name": "Python 3"
    },
    "language_info": {
      "name": "python"
    }
  },
  "cells": [
    {
      "cell_type": "code",
      "execution_count": null,
      "metadata": {
        "id": "UK_rRqJbM_Qw"
      },
      "outputs": [],
      "source": [
        "# Loading \"numpy\" and \"pandas\" for manipulating numbers, vectors and data frames\n",
        "# Loading \"matplotlib.pyplot\" and \"seaborn\" for data visualisation\n",
        "import numpy as np\n",
        "import pandas as pd\n",
        "import matplotlib.pyplot as plt\n",
        "import seaborn as sns"
      ]
    },
    {
      "cell_type": "code",
      "source": [
        "import pandas as pd"
      ],
      "metadata": {
        "id": "z2A7ZyYUNF9I"
      },
      "execution_count": null,
      "outputs": []
    },
    {
      "cell_type": "code",
      "source": [
        "from google.colab import drive\n",
        "drive.mount('/content/drive')\n"
      ],
      "metadata": {
        "colab": {
          "base_uri": "https://localhost:8080/"
        },
        "id": "QqH-a40P8DzP",
        "outputId": "4eb2545d-bd87-40a1-a801-528b36c6f365"
      },
      "execution_count": null,
      "outputs": [
        {
          "output_type": "stream",
          "name": "stdout",
          "text": [
            "Mounted at /content/drive\n"
          ]
        }
      ]
    },
    {
      "cell_type": "code",
      "source": [
        "# Load the dataset\n",
        "df = pd.read_csv(r'/content/drive/MyDrive/telecom_churn_data (1).csv')\n"
      ],
      "metadata": {
        "id": "TuXDAGeRN0Q_"
      },
      "execution_count": null,
      "outputs": []
    },
    {
      "cell_type": "code",
      "source": [
        "df.head()"
      ],
      "metadata": {
        "colab": {
          "base_uri": "https://localhost:8080/",
          "height": 255
        },
        "id": "tcuqZRY3N0Ur",
        "outputId": "4b545ed0-5d0f-494f-9810-19d10dcc90d0"
      },
      "execution_count": null,
      "outputs": [
        {
          "output_type": "execute_result",
          "data": {
            "text/plain": [
              "   mobile_number  circle_id  loc_og_t2o_mou  std_og_t2o_mou  loc_ic_t2o_mou  \\\n",
              "0     7000842753        109             0.0             0.0             0.0   \n",
              "1     7001865778        109             0.0             0.0             0.0   \n",
              "2     7001625959        109             0.0             0.0             0.0   \n",
              "3     7001204172        109             0.0             0.0             0.0   \n",
              "4     7000142493        109             0.0             0.0             0.0   \n",
              "\n",
              "  last_date_of_month_6 last_date_of_month_7 last_date_of_month_8  \\\n",
              "0            6/30/2014            7/31/2014            8/31/2014   \n",
              "1            6/30/2014            7/31/2014            8/31/2014   \n",
              "2            6/30/2014            7/31/2014            8/31/2014   \n",
              "3            6/30/2014            7/31/2014            8/31/2014   \n",
              "4            6/30/2014            7/31/2014            8/31/2014   \n",
              "\n",
              "  last_date_of_month_9   arpu_6  ...  sachet_3g_9  fb_user_6  fb_user_7  \\\n",
              "0            9/30/2014  197.385  ...            0        1.0        1.0   \n",
              "1            9/30/2014   34.047  ...            0        NaN        1.0   \n",
              "2            9/30/2014  167.690  ...            0        NaN        NaN   \n",
              "3            9/30/2014  221.338  ...            0        NaN        NaN   \n",
              "4            9/30/2014  261.636  ...            0        0.0        NaN   \n",
              "\n",
              "   fb_user_8  fb_user_9   aon  aug_vbc_3g  jul_vbc_3g  jun_vbc_3g  sep_vbc_3g  \n",
              "0        1.0        NaN   968        30.4         0.0      101.20        3.58  \n",
              "1        1.0        NaN  1006         0.0         0.0        0.00        0.00  \n",
              "2        NaN        1.0  1103         0.0         0.0        4.17        0.00  \n",
              "3        NaN        NaN  2491         0.0         0.0        0.00        0.00  \n",
              "4        NaN        NaN  1526         0.0         0.0        0.00        0.00  \n",
              "\n",
              "[5 rows x 226 columns]"
            ],
            "text/html": [
              "\n",
              "  <div id=\"df-fbf2457e-b572-4d0b-a320-8b64fee270be\" class=\"colab-df-container\">\n",
              "    <div>\n",
              "<style scoped>\n",
              "    .dataframe tbody tr th:only-of-type {\n",
              "        vertical-align: middle;\n",
              "    }\n",
              "\n",
              "    .dataframe tbody tr th {\n",
              "        vertical-align: top;\n",
              "    }\n",
              "\n",
              "    .dataframe thead th {\n",
              "        text-align: right;\n",
              "    }\n",
              "</style>\n",
              "<table border=\"1\" class=\"dataframe\">\n",
              "  <thead>\n",
              "    <tr style=\"text-align: right;\">\n",
              "      <th></th>\n",
              "      <th>mobile_number</th>\n",
              "      <th>circle_id</th>\n",
              "      <th>loc_og_t2o_mou</th>\n",
              "      <th>std_og_t2o_mou</th>\n",
              "      <th>loc_ic_t2o_mou</th>\n",
              "      <th>last_date_of_month_6</th>\n",
              "      <th>last_date_of_month_7</th>\n",
              "      <th>last_date_of_month_8</th>\n",
              "      <th>last_date_of_month_9</th>\n",
              "      <th>arpu_6</th>\n",
              "      <th>...</th>\n",
              "      <th>sachet_3g_9</th>\n",
              "      <th>fb_user_6</th>\n",
              "      <th>fb_user_7</th>\n",
              "      <th>fb_user_8</th>\n",
              "      <th>fb_user_9</th>\n",
              "      <th>aon</th>\n",
              "      <th>aug_vbc_3g</th>\n",
              "      <th>jul_vbc_3g</th>\n",
              "      <th>jun_vbc_3g</th>\n",
              "      <th>sep_vbc_3g</th>\n",
              "    </tr>\n",
              "  </thead>\n",
              "  <tbody>\n",
              "    <tr>\n",
              "      <th>0</th>\n",
              "      <td>7000842753</td>\n",
              "      <td>109</td>\n",
              "      <td>0.0</td>\n",
              "      <td>0.0</td>\n",
              "      <td>0.0</td>\n",
              "      <td>6/30/2014</td>\n",
              "      <td>7/31/2014</td>\n",
              "      <td>8/31/2014</td>\n",
              "      <td>9/30/2014</td>\n",
              "      <td>197.385</td>\n",
              "      <td>...</td>\n",
              "      <td>0</td>\n",
              "      <td>1.0</td>\n",
              "      <td>1.0</td>\n",
              "      <td>1.0</td>\n",
              "      <td>NaN</td>\n",
              "      <td>968</td>\n",
              "      <td>30.4</td>\n",
              "      <td>0.0</td>\n",
              "      <td>101.20</td>\n",
              "      <td>3.58</td>\n",
              "    </tr>\n",
              "    <tr>\n",
              "      <th>1</th>\n",
              "      <td>7001865778</td>\n",
              "      <td>109</td>\n",
              "      <td>0.0</td>\n",
              "      <td>0.0</td>\n",
              "      <td>0.0</td>\n",
              "      <td>6/30/2014</td>\n",
              "      <td>7/31/2014</td>\n",
              "      <td>8/31/2014</td>\n",
              "      <td>9/30/2014</td>\n",
              "      <td>34.047</td>\n",
              "      <td>...</td>\n",
              "      <td>0</td>\n",
              "      <td>NaN</td>\n",
              "      <td>1.0</td>\n",
              "      <td>1.0</td>\n",
              "      <td>NaN</td>\n",
              "      <td>1006</td>\n",
              "      <td>0.0</td>\n",
              "      <td>0.0</td>\n",
              "      <td>0.00</td>\n",
              "      <td>0.00</td>\n",
              "    </tr>\n",
              "    <tr>\n",
              "      <th>2</th>\n",
              "      <td>7001625959</td>\n",
              "      <td>109</td>\n",
              "      <td>0.0</td>\n",
              "      <td>0.0</td>\n",
              "      <td>0.0</td>\n",
              "      <td>6/30/2014</td>\n",
              "      <td>7/31/2014</td>\n",
              "      <td>8/31/2014</td>\n",
              "      <td>9/30/2014</td>\n",
              "      <td>167.690</td>\n",
              "      <td>...</td>\n",
              "      <td>0</td>\n",
              "      <td>NaN</td>\n",
              "      <td>NaN</td>\n",
              "      <td>NaN</td>\n",
              "      <td>1.0</td>\n",
              "      <td>1103</td>\n",
              "      <td>0.0</td>\n",
              "      <td>0.0</td>\n",
              "      <td>4.17</td>\n",
              "      <td>0.00</td>\n",
              "    </tr>\n",
              "    <tr>\n",
              "      <th>3</th>\n",
              "      <td>7001204172</td>\n",
              "      <td>109</td>\n",
              "      <td>0.0</td>\n",
              "      <td>0.0</td>\n",
              "      <td>0.0</td>\n",
              "      <td>6/30/2014</td>\n",
              "      <td>7/31/2014</td>\n",
              "      <td>8/31/2014</td>\n",
              "      <td>9/30/2014</td>\n",
              "      <td>221.338</td>\n",
              "      <td>...</td>\n",
              "      <td>0</td>\n",
              "      <td>NaN</td>\n",
              "      <td>NaN</td>\n",
              "      <td>NaN</td>\n",
              "      <td>NaN</td>\n",
              "      <td>2491</td>\n",
              "      <td>0.0</td>\n",
              "      <td>0.0</td>\n",
              "      <td>0.00</td>\n",
              "      <td>0.00</td>\n",
              "    </tr>\n",
              "    <tr>\n",
              "      <th>4</th>\n",
              "      <td>7000142493</td>\n",
              "      <td>109</td>\n",
              "      <td>0.0</td>\n",
              "      <td>0.0</td>\n",
              "      <td>0.0</td>\n",
              "      <td>6/30/2014</td>\n",
              "      <td>7/31/2014</td>\n",
              "      <td>8/31/2014</td>\n",
              "      <td>9/30/2014</td>\n",
              "      <td>261.636</td>\n",
              "      <td>...</td>\n",
              "      <td>0</td>\n",
              "      <td>0.0</td>\n",
              "      <td>NaN</td>\n",
              "      <td>NaN</td>\n",
              "      <td>NaN</td>\n",
              "      <td>1526</td>\n",
              "      <td>0.0</td>\n",
              "      <td>0.0</td>\n",
              "      <td>0.00</td>\n",
              "      <td>0.00</td>\n",
              "    </tr>\n",
              "  </tbody>\n",
              "</table>\n",
              "<p>5 rows × 226 columns</p>\n",
              "</div>\n",
              "    <div class=\"colab-df-buttons\">\n",
              "\n",
              "  <div class=\"colab-df-container\">\n",
              "    <button class=\"colab-df-convert\" onclick=\"convertToInteractive('df-fbf2457e-b572-4d0b-a320-8b64fee270be')\"\n",
              "            title=\"Convert this dataframe to an interactive table.\"\n",
              "            style=\"display:none;\">\n",
              "\n",
              "  <svg xmlns=\"http://www.w3.org/2000/svg\" height=\"24px\" viewBox=\"0 -960 960 960\">\n",
              "    <path d=\"M120-120v-720h720v720H120Zm60-500h600v-160H180v160Zm220 220h160v-160H400v160Zm0 220h160v-160H400v160ZM180-400h160v-160H180v160Zm440 0h160v-160H620v160ZM180-180h160v-160H180v160Zm440 0h160v-160H620v160Z\"/>\n",
              "  </svg>\n",
              "    </button>\n",
              "\n",
              "  <style>\n",
              "    .colab-df-container {\n",
              "      display:flex;\n",
              "      gap: 12px;\n",
              "    }\n",
              "\n",
              "    .colab-df-convert {\n",
              "      background-color: #E8F0FE;\n",
              "      border: none;\n",
              "      border-radius: 50%;\n",
              "      cursor: pointer;\n",
              "      display: none;\n",
              "      fill: #1967D2;\n",
              "      height: 32px;\n",
              "      padding: 0 0 0 0;\n",
              "      width: 32px;\n",
              "    }\n",
              "\n",
              "    .colab-df-convert:hover {\n",
              "      background-color: #E2EBFA;\n",
              "      box-shadow: 0px 1px 2px rgba(60, 64, 67, 0.3), 0px 1px 3px 1px rgba(60, 64, 67, 0.15);\n",
              "      fill: #174EA6;\n",
              "    }\n",
              "\n",
              "    .colab-df-buttons div {\n",
              "      margin-bottom: 4px;\n",
              "    }\n",
              "\n",
              "    [theme=dark] .colab-df-convert {\n",
              "      background-color: #3B4455;\n",
              "      fill: #D2E3FC;\n",
              "    }\n",
              "\n",
              "    [theme=dark] .colab-df-convert:hover {\n",
              "      background-color: #434B5C;\n",
              "      box-shadow: 0px 1px 3px 1px rgba(0, 0, 0, 0.15);\n",
              "      filter: drop-shadow(0px 1px 2px rgba(0, 0, 0, 0.3));\n",
              "      fill: #FFFFFF;\n",
              "    }\n",
              "  </style>\n",
              "\n",
              "    <script>\n",
              "      const buttonEl =\n",
              "        document.querySelector('#df-fbf2457e-b572-4d0b-a320-8b64fee270be button.colab-df-convert');\n",
              "      buttonEl.style.display =\n",
              "        google.colab.kernel.accessAllowed ? 'block' : 'none';\n",
              "\n",
              "      async function convertToInteractive(key) {\n",
              "        const element = document.querySelector('#df-fbf2457e-b572-4d0b-a320-8b64fee270be');\n",
              "        const dataTable =\n",
              "          await google.colab.kernel.invokeFunction('convertToInteractive',\n",
              "                                                    [key], {});\n",
              "        if (!dataTable) return;\n",
              "\n",
              "        const docLinkHtml = 'Like what you see? Visit the ' +\n",
              "          '<a target=\"_blank\" href=https://colab.research.google.com/notebooks/data_table.ipynb>data table notebook</a>'\n",
              "          + ' to learn more about interactive tables.';\n",
              "        element.innerHTML = '';\n",
              "        dataTable['output_type'] = 'display_data';\n",
              "        await google.colab.output.renderOutput(dataTable, element);\n",
              "        const docLink = document.createElement('div');\n",
              "        docLink.innerHTML = docLinkHtml;\n",
              "        element.appendChild(docLink);\n",
              "      }\n",
              "    </script>\n",
              "  </div>\n",
              "\n",
              "\n",
              "<div id=\"df-3024cf18-976c-4fbf-8222-b29621cf8245\">\n",
              "  <button class=\"colab-df-quickchart\" onclick=\"quickchart('df-3024cf18-976c-4fbf-8222-b29621cf8245')\"\n",
              "            title=\"Suggest charts\"\n",
              "            style=\"display:none;\">\n",
              "\n",
              "<svg xmlns=\"http://www.w3.org/2000/svg\" height=\"24px\"viewBox=\"0 0 24 24\"\n",
              "     width=\"24px\">\n",
              "    <g>\n",
              "        <path d=\"M19 3H5c-1.1 0-2 .9-2 2v14c0 1.1.9 2 2 2h14c1.1 0 2-.9 2-2V5c0-1.1-.9-2-2-2zM9 17H7v-7h2v7zm4 0h-2V7h2v10zm4 0h-2v-4h2v4z\"/>\n",
              "    </g>\n",
              "</svg>\n",
              "  </button>\n",
              "\n",
              "<style>\n",
              "  .colab-df-quickchart {\n",
              "      --bg-color: #E8F0FE;\n",
              "      --fill-color: #1967D2;\n",
              "      --hover-bg-color: #E2EBFA;\n",
              "      --hover-fill-color: #174EA6;\n",
              "      --disabled-fill-color: #AAA;\n",
              "      --disabled-bg-color: #DDD;\n",
              "  }\n",
              "\n",
              "  [theme=dark] .colab-df-quickchart {\n",
              "      --bg-color: #3B4455;\n",
              "      --fill-color: #D2E3FC;\n",
              "      --hover-bg-color: #434B5C;\n",
              "      --hover-fill-color: #FFFFFF;\n",
              "      --disabled-bg-color: #3B4455;\n",
              "      --disabled-fill-color: #666;\n",
              "  }\n",
              "\n",
              "  .colab-df-quickchart {\n",
              "    background-color: var(--bg-color);\n",
              "    border: none;\n",
              "    border-radius: 50%;\n",
              "    cursor: pointer;\n",
              "    display: none;\n",
              "    fill: var(--fill-color);\n",
              "    height: 32px;\n",
              "    padding: 0;\n",
              "    width: 32px;\n",
              "  }\n",
              "\n",
              "  .colab-df-quickchart:hover {\n",
              "    background-color: var(--hover-bg-color);\n",
              "    box-shadow: 0 1px 2px rgba(60, 64, 67, 0.3), 0 1px 3px 1px rgba(60, 64, 67, 0.15);\n",
              "    fill: var(--button-hover-fill-color);\n",
              "  }\n",
              "\n",
              "  .colab-df-quickchart-complete:disabled,\n",
              "  .colab-df-quickchart-complete:disabled:hover {\n",
              "    background-color: var(--disabled-bg-color);\n",
              "    fill: var(--disabled-fill-color);\n",
              "    box-shadow: none;\n",
              "  }\n",
              "\n",
              "  .colab-df-spinner {\n",
              "    border: 2px solid var(--fill-color);\n",
              "    border-color: transparent;\n",
              "    border-bottom-color: var(--fill-color);\n",
              "    animation:\n",
              "      spin 1s steps(1) infinite;\n",
              "  }\n",
              "\n",
              "  @keyframes spin {\n",
              "    0% {\n",
              "      border-color: transparent;\n",
              "      border-bottom-color: var(--fill-color);\n",
              "      border-left-color: var(--fill-color);\n",
              "    }\n",
              "    20% {\n",
              "      border-color: transparent;\n",
              "      border-left-color: var(--fill-color);\n",
              "      border-top-color: var(--fill-color);\n",
              "    }\n",
              "    30% {\n",
              "      border-color: transparent;\n",
              "      border-left-color: var(--fill-color);\n",
              "      border-top-color: var(--fill-color);\n",
              "      border-right-color: var(--fill-color);\n",
              "    }\n",
              "    40% {\n",
              "      border-color: transparent;\n",
              "      border-right-color: var(--fill-color);\n",
              "      border-top-color: var(--fill-color);\n",
              "    }\n",
              "    60% {\n",
              "      border-color: transparent;\n",
              "      border-right-color: var(--fill-color);\n",
              "    }\n",
              "    80% {\n",
              "      border-color: transparent;\n",
              "      border-right-color: var(--fill-color);\n",
              "      border-bottom-color: var(--fill-color);\n",
              "    }\n",
              "    90% {\n",
              "      border-color: transparent;\n",
              "      border-bottom-color: var(--fill-color);\n",
              "    }\n",
              "  }\n",
              "</style>\n",
              "\n",
              "  <script>\n",
              "    async function quickchart(key) {\n",
              "      const quickchartButtonEl =\n",
              "        document.querySelector('#' + key + ' button');\n",
              "      quickchartButtonEl.disabled = true;  // To prevent multiple clicks.\n",
              "      quickchartButtonEl.classList.add('colab-df-spinner');\n",
              "      try {\n",
              "        const charts = await google.colab.kernel.invokeFunction(\n",
              "            'suggestCharts', [key], {});\n",
              "      } catch (error) {\n",
              "        console.error('Error during call to suggestCharts:', error);\n",
              "      }\n",
              "      quickchartButtonEl.classList.remove('colab-df-spinner');\n",
              "      quickchartButtonEl.classList.add('colab-df-quickchart-complete');\n",
              "    }\n",
              "    (() => {\n",
              "      let quickchartButtonEl =\n",
              "        document.querySelector('#df-3024cf18-976c-4fbf-8222-b29621cf8245 button');\n",
              "      quickchartButtonEl.style.display =\n",
              "        google.colab.kernel.accessAllowed ? 'block' : 'none';\n",
              "    })();\n",
              "  </script>\n",
              "</div>\n",
              "\n",
              "    </div>\n",
              "  </div>\n"
            ],
            "application/vnd.google.colaboratory.intrinsic+json": {
              "type": "dataframe",
              "variable_name": "df"
            }
          },
          "metadata": {},
          "execution_count": 6
        }
      ]
    },
    {
      "cell_type": "code",
      "source": [
        "df.columns"
      ],
      "metadata": {
        "colab": {
          "base_uri": "https://localhost:8080/"
        },
        "id": "OvUPg6bXN0ZT",
        "outputId": "7ceccf9f-0b41-4fad-b595-7771a5cf20ab"
      },
      "execution_count": null,
      "outputs": [
        {
          "output_type": "execute_result",
          "data": {
            "text/plain": [
              "Index(['mobile_number', 'circle_id', 'loc_og_t2o_mou', 'std_og_t2o_mou',\n",
              "       'loc_ic_t2o_mou', 'last_date_of_month_6', 'last_date_of_month_7',\n",
              "       'last_date_of_month_8', 'last_date_of_month_9', 'arpu_6',\n",
              "       ...\n",
              "       'sachet_3g_9', 'fb_user_6', 'fb_user_7', 'fb_user_8', 'fb_user_9',\n",
              "       'aon', 'aug_vbc_3g', 'jul_vbc_3g', 'jun_vbc_3g', 'sep_vbc_3g'],\n",
              "      dtype='object', length=226)"
            ]
          },
          "metadata": {},
          "execution_count": 7
        }
      ]
    },
    {
      "cell_type": "code",
      "source": [
        "df.shape"
      ],
      "metadata": {
        "colab": {
          "base_uri": "https://localhost:8080/"
        },
        "id": "44kOwqGxO6kJ",
        "outputId": "74a1ac64-4867-4df0-f1ce-6fabcdeab6ea"
      },
      "execution_count": null,
      "outputs": [
        {
          "output_type": "execute_result",
          "data": {
            "text/plain": [
              "(99999, 226)"
            ]
          },
          "metadata": {},
          "execution_count": 8
        }
      ]
    },
    {
      "cell_type": "code",
      "source": [
        "# Getting the row names of the data frame using \".index\"\n",
        "df.index"
      ],
      "metadata": {
        "colab": {
          "base_uri": "https://localhost:8080/"
        },
        "id": "bnqE-PYePEJv",
        "outputId": "6e4bd8b3-175f-466c-f42f-33d91194b3e0"
      },
      "execution_count": null,
      "outputs": [
        {
          "output_type": "execute_result",
          "data": {
            "text/plain": [
              "RangeIndex(start=0, stop=99999, step=1)"
            ]
          },
          "metadata": {},
          "execution_count": 9
        }
      ]
    },
    {
      "cell_type": "code",
      "source": [
        "# Looking at the basic information about the data frame using \".info()\"\n",
        "df.info()"
      ],
      "metadata": {
        "colab": {
          "base_uri": "https://localhost:8080/"
        },
        "id": "ACHxdmC9PEOS",
        "outputId": "2e034ce9-c8db-4a15-f0ac-699b5afcfab4"
      },
      "execution_count": null,
      "outputs": [
        {
          "output_type": "stream",
          "name": "stdout",
          "text": [
            "<class 'pandas.core.frame.DataFrame'>\n",
            "RangeIndex: 99999 entries, 0 to 99998\n",
            "Columns: 226 entries, mobile_number to sep_vbc_3g\n",
            "dtypes: float64(179), int64(35), object(12)\n",
            "memory usage: 172.4+ MB\n"
          ]
        }
      ]
    },
    {
      "cell_type": "code",
      "source": [
        "import pandas as pd\n",
        "import numpy as np\n",
        "\n",
        "# Creating a DataFrame with the provided data\n",
        "data = {\n",
        "    'mobile_number': ['7000842753', '7001865778', '7001625959', '7001204172', '7000142493'],\n",
        "    'circle_id': [109, 109, 109, 109, 109],\n",
        "    'loc_og_t2o_mou': [0.0, 0.0, 0.0, 0.0, 0.0],\n",
        "    'std_og_t2o_mou': [0.0, 0.0, 0.0, 0.0, 0.0],\n",
        "    'loc_ic_t2o_mou': [0.0, 0.0, 0.0, 0.0, 0.0],\n",
        "    'last_date_of_month_6': ['6/30/2014', '6/30/2014', '6/30/2014', '6/30/2014', '6/30/2014'],\n",
        "    'last_date_of_month_7': ['7/31/2014', '7/31/2014', '7/31/2014', '7/31/2014', '7/31/2014'],\n",
        "    'last_date_of_month_8': ['8/31/2014', '8/31/2014', '8/31/2014', '8/31/2014', '8/31/2014'],\n",
        "    'last_date_of_month_9': ['9/30/2014', '9/30/2014', '9/30/2014', '9/30/2014', '9/30/2014'],\n",
        "    'arpu_6': [197.385, 34.047, 167.690, 221.338, 261.636],\n",
        "    'sachet_3g_9': [0, 0, 0, 0, 0],\n",
        "    'fb_user_6': [1.0, np.nan, np.nan, np.nan, 0.0],\n",
        "    'fb_user_7': [1.0, 1.0, np.nan, np.nan, np.nan],\n",
        "    'fb_user_8': [1.0, 1.0, np.nan, np.nan, np.nan],\n",
        "    'fb_user_9': [np.nan, np.nan, 1.0, np.nan, np.nan],\n",
        "    'aon': [968, 1006, 1103, 2491, 1526],\n",
        "    'aug_vbc_3g': [30.4, 0.0, 0.0, 0.0, 0.0],\n",
        "    'jul_vbc_3g': [0.0, 0.0, 0.0, 0.0, 0.0],\n",
        "    'jun_vbc_3g': [101.20, 0.00, 4.17, 0.00, 0.00],\n",
        "    'sep_vbc_3g': [3.58, 0.00, 0.00, 0.00, 0.00]\n",
        "}\n",
        "\n",
        "# Adding remaining columns to make the length 226\n",
        "for i in range(20, 227):\n",
        "    data[f'column_{i}'] = [np.nan] * 5\n",
        "\n",
        "# Creating the DataFrame\n",
        "df = pd.DataFrame(data)\n",
        "\n",
        "# Displaying the DataFrame\n",
        "print(df.head())\n"
      ],
      "metadata": {
        "colab": {
          "base_uri": "https://localhost:8080/"
        },
        "id": "IeOttXZLPER4",
        "outputId": "c2de315f-0095-499f-febf-7eb101eb2bcb"
      },
      "execution_count": null,
      "outputs": [
        {
          "output_type": "stream",
          "name": "stdout",
          "text": [
            "  mobile_number  circle_id  loc_og_t2o_mou  std_og_t2o_mou  loc_ic_t2o_mou  \\\n",
            "0    7000842753        109             0.0             0.0             0.0   \n",
            "1    7001865778        109             0.0             0.0             0.0   \n",
            "2    7001625959        109             0.0             0.0             0.0   \n",
            "3    7001204172        109             0.0             0.0             0.0   \n",
            "4    7000142493        109             0.0             0.0             0.0   \n",
            "\n",
            "  last_date_of_month_6 last_date_of_month_7 last_date_of_month_8  \\\n",
            "0            6/30/2014            7/31/2014            8/31/2014   \n",
            "1            6/30/2014            7/31/2014            8/31/2014   \n",
            "2            6/30/2014            7/31/2014            8/31/2014   \n",
            "3            6/30/2014            7/31/2014            8/31/2014   \n",
            "4            6/30/2014            7/31/2014            8/31/2014   \n",
            "\n",
            "  last_date_of_month_9   arpu_6  ...  column_217  column_218  column_219  \\\n",
            "0            9/30/2014  197.385  ...         NaN         NaN         NaN   \n",
            "1            9/30/2014   34.047  ...         NaN         NaN         NaN   \n",
            "2            9/30/2014  167.690  ...         NaN         NaN         NaN   \n",
            "3            9/30/2014  221.338  ...         NaN         NaN         NaN   \n",
            "4            9/30/2014  261.636  ...         NaN         NaN         NaN   \n",
            "\n",
            "   column_220  column_221  column_222  column_223  column_224  column_225  \\\n",
            "0         NaN         NaN         NaN         NaN         NaN         NaN   \n",
            "1         NaN         NaN         NaN         NaN         NaN         NaN   \n",
            "2         NaN         NaN         NaN         NaN         NaN         NaN   \n",
            "3         NaN         NaN         NaN         NaN         NaN         NaN   \n",
            "4         NaN         NaN         NaN         NaN         NaN         NaN   \n",
            "\n",
            "   column_226  \n",
            "0         NaN  \n",
            "1         NaN  \n",
            "2         NaN  \n",
            "3         NaN  \n",
            "4         NaN  \n",
            "\n",
            "[5 rows x 227 columns]\n"
          ]
        }
      ]
    },
    {
      "cell_type": "code",
      "source": [
        "import pandas as pd\n",
        "import numpy as np\n",
        "\n",
        "# Creating a DataFrame with the provided data\n",
        "data = {\n",
        "    'mobile_number': ['7000842753', '7001865778', '7001625959', '7001204172', '7000142493'],\n",
        "    'circle_id': [109, 109, 109, 109, 109],\n",
        "    'loc_og_t2o_mou': [0.0, 0.0, 0.0, 0.0, 0.0],\n",
        "    'std_og_t2o_mou': [0.0, 0.0, 0.0, 0.0, 0.0],\n",
        "    'loc_ic_t2o_mou': [0.0, 0.0, 0.0, 0.0, 0.0],\n",
        "    'last_date_of_month_6': ['6/30/2014', '6/30/2014', '6/30/2014', '6/30/2014', '6/30/2014'],\n",
        "    'last_date_of_month_7': ['7/31/2014', '7/31/2014', '7/31/2014', '7/31/2014', '7/31/2014'],\n",
        "    'last_date_of_month_8': ['8/31/2014', '8/31/2014', '8/31/2014', '8/31/2014', '8/31/2014'],\n",
        "    'last_date_of_month_9': ['9/30/2014', '9/30/2014', '9/30/2014', '9/30/2014', '9/30/2014'],\n",
        "    'arpu_6': [197.385, 34.047, 167.690, 221.338, 261.636],\n",
        "    'sachet_3g_9': [0, 0, 0, 0, 0],\n",
        "    'fb_user_6': [1.0, np.nan, np.nan, np.nan, 0.0],\n",
        "    'fb_user_7': [1.0, 1.0, np.nan, np.nan, np.nan],\n",
        "    'fb_user_8': [1.0, 1.0, np.nan, np.nan, np.nan],\n",
        "    'fb_user_9': [np.nan, np.nan, 1.0, np.nan, np.nan],\n",
        "    'aon': [968, 1006, 1103, 2491, 1526],\n",
        "    'aug_vbc_3g': [30.4, 0.0, 0.0, 0.0, 0.0],\n",
        "    'jul_vbc_3g': [0.0, 0.0, 0.0, 0.0, 0.0],\n",
        "    'jun_vbc_3g': [101.20, 0.00, 4.17, 0.00, 0.00],\n",
        "    'sep_vbc_3g': [3.58, 0.00, 0.00, 0.00, 0.00]\n",
        "}\n",
        "\n",
        "# Adding remaining columns to make the length 226\n",
        "for i in range(20, 227):\n",
        "    data[f'column_{i}'] = [np.nan] * 5\n",
        "\n",
        "# Creating the DataFrame\n",
        "df = pd.DataFrame(data)\n",
        "\n",
        "# Displaying the original DataFrame\n",
        "print(\"Original DataFrame:\")\n",
        "print(df.head())\n",
        "\n",
        "# Drop rows with any NaN values\n",
        "df_dropped_rows = df.dropna(axis=0)\n",
        "\n",
        "# Displaying the DataFrame after dropping rows with any NaN values\n",
        "print(\"\\nDataFrame after dropping rows with any NaN values:\")\n",
        "print(df_dropped_rows)\n"
      ],
      "metadata": {
        "colab": {
          "base_uri": "https://localhost:8080/"
        },
        "id": "l_MYQrowPEZt",
        "outputId": "e425ba25-a577-4d9a-a9a7-e73fe48598d7"
      },
      "execution_count": null,
      "outputs": [
        {
          "output_type": "stream",
          "name": "stdout",
          "text": [
            "Original DataFrame:\n",
            "  mobile_number  circle_id  loc_og_t2o_mou  std_og_t2o_mou  loc_ic_t2o_mou  \\\n",
            "0    7000842753        109             0.0             0.0             0.0   \n",
            "1    7001865778        109             0.0             0.0             0.0   \n",
            "2    7001625959        109             0.0             0.0             0.0   \n",
            "3    7001204172        109             0.0             0.0             0.0   \n",
            "4    7000142493        109             0.0             0.0             0.0   \n",
            "\n",
            "  last_date_of_month_6 last_date_of_month_7 last_date_of_month_8  \\\n",
            "0            6/30/2014            7/31/2014            8/31/2014   \n",
            "1            6/30/2014            7/31/2014            8/31/2014   \n",
            "2            6/30/2014            7/31/2014            8/31/2014   \n",
            "3            6/30/2014            7/31/2014            8/31/2014   \n",
            "4            6/30/2014            7/31/2014            8/31/2014   \n",
            "\n",
            "  last_date_of_month_9   arpu_6  ...  column_217  column_218  column_219  \\\n",
            "0            9/30/2014  197.385  ...         NaN         NaN         NaN   \n",
            "1            9/30/2014   34.047  ...         NaN         NaN         NaN   \n",
            "2            9/30/2014  167.690  ...         NaN         NaN         NaN   \n",
            "3            9/30/2014  221.338  ...         NaN         NaN         NaN   \n",
            "4            9/30/2014  261.636  ...         NaN         NaN         NaN   \n",
            "\n",
            "   column_220  column_221  column_222  column_223  column_224  column_225  \\\n",
            "0         NaN         NaN         NaN         NaN         NaN         NaN   \n",
            "1         NaN         NaN         NaN         NaN         NaN         NaN   \n",
            "2         NaN         NaN         NaN         NaN         NaN         NaN   \n",
            "3         NaN         NaN         NaN         NaN         NaN         NaN   \n",
            "4         NaN         NaN         NaN         NaN         NaN         NaN   \n",
            "\n",
            "   column_226  \n",
            "0         NaN  \n",
            "1         NaN  \n",
            "2         NaN  \n",
            "3         NaN  \n",
            "4         NaN  \n",
            "\n",
            "[5 rows x 227 columns]\n",
            "\n",
            "DataFrame after dropping rows with any NaN values:\n",
            "Empty DataFrame\n",
            "Columns: [mobile_number, circle_id, loc_og_t2o_mou, std_og_t2o_mou, loc_ic_t2o_mou, last_date_of_month_6, last_date_of_month_7, last_date_of_month_8, last_date_of_month_9, arpu_6, sachet_3g_9, fb_user_6, fb_user_7, fb_user_8, fb_user_9, aon, aug_vbc_3g, jul_vbc_3g, jun_vbc_3g, sep_vbc_3g, column_20, column_21, column_22, column_23, column_24, column_25, column_26, column_27, column_28, column_29, column_30, column_31, column_32, column_33, column_34, column_35, column_36, column_37, column_38, column_39, column_40, column_41, column_42, column_43, column_44, column_45, column_46, column_47, column_48, column_49, column_50, column_51, column_52, column_53, column_54, column_55, column_56, column_57, column_58, column_59, column_60, column_61, column_62, column_63, column_64, column_65, column_66, column_67, column_68, column_69, column_70, column_71, column_72, column_73, column_74, column_75, column_76, column_77, column_78, column_79, column_80, column_81, column_82, column_83, column_84, column_85, column_86, column_87, column_88, column_89, column_90, column_91, column_92, column_93, column_94, column_95, column_96, column_97, column_98, column_99, ...]\n",
            "Index: []\n",
            "\n",
            "[0 rows x 227 columns]\n"
          ]
        }
      ]
    },
    {
      "cell_type": "code",
      "source": [
        "df.info()"
      ],
      "metadata": {
        "colab": {
          "base_uri": "https://localhost:8080/"
        },
        "id": "3ie-VzPtPeoK",
        "outputId": "73bd72da-c164-4f5c-8d85-5326ff062231"
      },
      "execution_count": null,
      "outputs": [
        {
          "output_type": "stream",
          "name": "stdout",
          "text": [
            "<class 'pandas.core.frame.DataFrame'>\n",
            "RangeIndex: 5 entries, 0 to 4\n",
            "Columns: 227 entries, mobile_number to column_226\n",
            "dtypes: float64(219), int64(3), object(5)\n",
            "memory usage: 9.0+ KB\n"
          ]
        }
      ]
    },
    {
      "cell_type": "code",
      "source": [
        "object_columns = df.select_dtypes(include=['object']).columns\n",
        "print(object_columns)\n"
      ],
      "metadata": {
        "colab": {
          "base_uri": "https://localhost:8080/"
        },
        "id": "QpbxPPtCPeyS",
        "outputId": "05dcb90d-cd99-435f-d377-ea9de2032789"
      },
      "execution_count": null,
      "outputs": [
        {
          "output_type": "stream",
          "name": "stdout",
          "text": [
            "Index(['mobile_number', 'last_date_of_month_6', 'last_date_of_month_7',\n",
            "       'last_date_of_month_8', 'last_date_of_month_9'],\n",
            "      dtype='object')\n"
          ]
        }
      ]
    },
    {
      "cell_type": "code",
      "source": [
        "for col in object_columns:\n",
        "    df[col] = pd.to_numeric(df[col], errors='coerce')\n"
      ],
      "metadata": {
        "id": "uDI6w_dVPe7_"
      },
      "execution_count": null,
      "outputs": []
    },
    {
      "cell_type": "code",
      "source": [
        "df['mobile_number'] = pd.to_numeric(df['mobile_number'], errors='coerce')\n"
      ],
      "metadata": {
        "id": "X6-vT5bmPvDt"
      },
      "execution_count": null,
      "outputs": []
    },
    {
      "cell_type": "code",
      "source": [
        "date_columns = [\n",
        "    'last_date_of_month_6',\n",
        "    'last_date_of_month_7',\n",
        "    'last_date_of_month_8',\n",
        "    'last_date_of_month_9'\n",
        "]\n",
        "\n",
        "for col in date_columns:\n",
        "    df[col] = pd.to_datetime(df[col], errors='coerce')\n"
      ],
      "metadata": {
        "id": "oVSjKEUsPvIK"
      },
      "execution_count": null,
      "outputs": []
    },
    {
      "cell_type": "code",
      "source": [
        "df.describe()"
      ],
      "metadata": {
        "colab": {
          "base_uri": "https://localhost:8080/",
          "height": 349
        },
        "id": "prsiS46oPvPH",
        "outputId": "87df0a82-f231-4496-e5b4-98212ba4f515"
      },
      "execution_count": null,
      "outputs": [
        {
          "output_type": "execute_result",
          "data": {
            "text/plain": [
              "       mobile_number  circle_id  loc_og_t2o_mou  std_og_t2o_mou  \\\n",
              "count   5.000000e+00        5.0             5.0             5.0   \n",
              "mean    7.001136e+09      109.0             0.0             0.0   \n",
              "min     7.000142e+09      109.0             0.0             0.0   \n",
              "25%     7.000843e+09      109.0             0.0             0.0   \n",
              "50%     7.001204e+09      109.0             0.0             0.0   \n",
              "75%     7.001626e+09      109.0             0.0             0.0   \n",
              "max     7.001866e+09      109.0             0.0             0.0   \n",
              "std     6.801347e+05        0.0             0.0             0.0   \n",
              "\n",
              "       loc_ic_t2o_mou last_date_of_month_6 last_date_of_month_7  \\\n",
              "count             5.0                    0                    0   \n",
              "mean              0.0                  NaT                  NaT   \n",
              "min               0.0                  NaT                  NaT   \n",
              "25%               0.0                  NaT                  NaT   \n",
              "50%               0.0                  NaT                  NaT   \n",
              "75%               0.0                  NaT                  NaT   \n",
              "max               0.0                  NaT                  NaT   \n",
              "std               0.0                  NaN                  NaN   \n",
              "\n",
              "      last_date_of_month_8 last_date_of_month_9     arpu_6  ...  column_217  \\\n",
              "count                    0                    0    5.00000  ...         0.0   \n",
              "mean                   NaT                  NaT  176.41920  ...         NaN   \n",
              "min                    NaT                  NaT   34.04700  ...         NaN   \n",
              "25%                    NaT                  NaT  167.69000  ...         NaN   \n",
              "50%                    NaT                  NaT  197.38500  ...         NaN   \n",
              "75%                    NaT                  NaT  221.33800  ...         NaN   \n",
              "max                    NaT                  NaT  261.63600  ...         NaN   \n",
              "std                    NaN                  NaN   86.69661  ...         NaN   \n",
              "\n",
              "       column_218  column_219  column_220  column_221  column_222  column_223  \\\n",
              "count         0.0         0.0         0.0         0.0         0.0         0.0   \n",
              "mean          NaN         NaN         NaN         NaN         NaN         NaN   \n",
              "min           NaN         NaN         NaN         NaN         NaN         NaN   \n",
              "25%           NaN         NaN         NaN         NaN         NaN         NaN   \n",
              "50%           NaN         NaN         NaN         NaN         NaN         NaN   \n",
              "75%           NaN         NaN         NaN         NaN         NaN         NaN   \n",
              "max           NaN         NaN         NaN         NaN         NaN         NaN   \n",
              "std           NaN         NaN         NaN         NaN         NaN         NaN   \n",
              "\n",
              "       column_224  column_225  column_226  \n",
              "count         0.0         0.0         0.0  \n",
              "mean          NaN         NaN         NaN  \n",
              "min           NaN         NaN         NaN  \n",
              "25%           NaN         NaN         NaN  \n",
              "50%           NaN         NaN         NaN  \n",
              "75%           NaN         NaN         NaN  \n",
              "max           NaN         NaN         NaN  \n",
              "std           NaN         NaN         NaN  \n",
              "\n",
              "[8 rows x 227 columns]"
            ],
            "text/html": [
              "\n",
              "  <div id=\"df-b0a12f38-0310-43af-81b7-040e68d1f5d0\" class=\"colab-df-container\">\n",
              "    <div>\n",
              "<style scoped>\n",
              "    .dataframe tbody tr th:only-of-type {\n",
              "        vertical-align: middle;\n",
              "    }\n",
              "\n",
              "    .dataframe tbody tr th {\n",
              "        vertical-align: top;\n",
              "    }\n",
              "\n",
              "    .dataframe thead th {\n",
              "        text-align: right;\n",
              "    }\n",
              "</style>\n",
              "<table border=\"1\" class=\"dataframe\">\n",
              "  <thead>\n",
              "    <tr style=\"text-align: right;\">\n",
              "      <th></th>\n",
              "      <th>mobile_number</th>\n",
              "      <th>circle_id</th>\n",
              "      <th>loc_og_t2o_mou</th>\n",
              "      <th>std_og_t2o_mou</th>\n",
              "      <th>loc_ic_t2o_mou</th>\n",
              "      <th>last_date_of_month_6</th>\n",
              "      <th>last_date_of_month_7</th>\n",
              "      <th>last_date_of_month_8</th>\n",
              "      <th>last_date_of_month_9</th>\n",
              "      <th>arpu_6</th>\n",
              "      <th>...</th>\n",
              "      <th>column_217</th>\n",
              "      <th>column_218</th>\n",
              "      <th>column_219</th>\n",
              "      <th>column_220</th>\n",
              "      <th>column_221</th>\n",
              "      <th>column_222</th>\n",
              "      <th>column_223</th>\n",
              "      <th>column_224</th>\n",
              "      <th>column_225</th>\n",
              "      <th>column_226</th>\n",
              "    </tr>\n",
              "  </thead>\n",
              "  <tbody>\n",
              "    <tr>\n",
              "      <th>count</th>\n",
              "      <td>5.000000e+00</td>\n",
              "      <td>5.0</td>\n",
              "      <td>5.0</td>\n",
              "      <td>5.0</td>\n",
              "      <td>5.0</td>\n",
              "      <td>0</td>\n",
              "      <td>0</td>\n",
              "      <td>0</td>\n",
              "      <td>0</td>\n",
              "      <td>5.00000</td>\n",
              "      <td>...</td>\n",
              "      <td>0.0</td>\n",
              "      <td>0.0</td>\n",
              "      <td>0.0</td>\n",
              "      <td>0.0</td>\n",
              "      <td>0.0</td>\n",
              "      <td>0.0</td>\n",
              "      <td>0.0</td>\n",
              "      <td>0.0</td>\n",
              "      <td>0.0</td>\n",
              "      <td>0.0</td>\n",
              "    </tr>\n",
              "    <tr>\n",
              "      <th>mean</th>\n",
              "      <td>7.001136e+09</td>\n",
              "      <td>109.0</td>\n",
              "      <td>0.0</td>\n",
              "      <td>0.0</td>\n",
              "      <td>0.0</td>\n",
              "      <td>NaT</td>\n",
              "      <td>NaT</td>\n",
              "      <td>NaT</td>\n",
              "      <td>NaT</td>\n",
              "      <td>176.41920</td>\n",
              "      <td>...</td>\n",
              "      <td>NaN</td>\n",
              "      <td>NaN</td>\n",
              "      <td>NaN</td>\n",
              "      <td>NaN</td>\n",
              "      <td>NaN</td>\n",
              "      <td>NaN</td>\n",
              "      <td>NaN</td>\n",
              "      <td>NaN</td>\n",
              "      <td>NaN</td>\n",
              "      <td>NaN</td>\n",
              "    </tr>\n",
              "    <tr>\n",
              "      <th>min</th>\n",
              "      <td>7.000142e+09</td>\n",
              "      <td>109.0</td>\n",
              "      <td>0.0</td>\n",
              "      <td>0.0</td>\n",
              "      <td>0.0</td>\n",
              "      <td>NaT</td>\n",
              "      <td>NaT</td>\n",
              "      <td>NaT</td>\n",
              "      <td>NaT</td>\n",
              "      <td>34.04700</td>\n",
              "      <td>...</td>\n",
              "      <td>NaN</td>\n",
              "      <td>NaN</td>\n",
              "      <td>NaN</td>\n",
              "      <td>NaN</td>\n",
              "      <td>NaN</td>\n",
              "      <td>NaN</td>\n",
              "      <td>NaN</td>\n",
              "      <td>NaN</td>\n",
              "      <td>NaN</td>\n",
              "      <td>NaN</td>\n",
              "    </tr>\n",
              "    <tr>\n",
              "      <th>25%</th>\n",
              "      <td>7.000843e+09</td>\n",
              "      <td>109.0</td>\n",
              "      <td>0.0</td>\n",
              "      <td>0.0</td>\n",
              "      <td>0.0</td>\n",
              "      <td>NaT</td>\n",
              "      <td>NaT</td>\n",
              "      <td>NaT</td>\n",
              "      <td>NaT</td>\n",
              "      <td>167.69000</td>\n",
              "      <td>...</td>\n",
              "      <td>NaN</td>\n",
              "      <td>NaN</td>\n",
              "      <td>NaN</td>\n",
              "      <td>NaN</td>\n",
              "      <td>NaN</td>\n",
              "      <td>NaN</td>\n",
              "      <td>NaN</td>\n",
              "      <td>NaN</td>\n",
              "      <td>NaN</td>\n",
              "      <td>NaN</td>\n",
              "    </tr>\n",
              "    <tr>\n",
              "      <th>50%</th>\n",
              "      <td>7.001204e+09</td>\n",
              "      <td>109.0</td>\n",
              "      <td>0.0</td>\n",
              "      <td>0.0</td>\n",
              "      <td>0.0</td>\n",
              "      <td>NaT</td>\n",
              "      <td>NaT</td>\n",
              "      <td>NaT</td>\n",
              "      <td>NaT</td>\n",
              "      <td>197.38500</td>\n",
              "      <td>...</td>\n",
              "      <td>NaN</td>\n",
              "      <td>NaN</td>\n",
              "      <td>NaN</td>\n",
              "      <td>NaN</td>\n",
              "      <td>NaN</td>\n",
              "      <td>NaN</td>\n",
              "      <td>NaN</td>\n",
              "      <td>NaN</td>\n",
              "      <td>NaN</td>\n",
              "      <td>NaN</td>\n",
              "    </tr>\n",
              "    <tr>\n",
              "      <th>75%</th>\n",
              "      <td>7.001626e+09</td>\n",
              "      <td>109.0</td>\n",
              "      <td>0.0</td>\n",
              "      <td>0.0</td>\n",
              "      <td>0.0</td>\n",
              "      <td>NaT</td>\n",
              "      <td>NaT</td>\n",
              "      <td>NaT</td>\n",
              "      <td>NaT</td>\n",
              "      <td>221.33800</td>\n",
              "      <td>...</td>\n",
              "      <td>NaN</td>\n",
              "      <td>NaN</td>\n",
              "      <td>NaN</td>\n",
              "      <td>NaN</td>\n",
              "      <td>NaN</td>\n",
              "      <td>NaN</td>\n",
              "      <td>NaN</td>\n",
              "      <td>NaN</td>\n",
              "      <td>NaN</td>\n",
              "      <td>NaN</td>\n",
              "    </tr>\n",
              "    <tr>\n",
              "      <th>max</th>\n",
              "      <td>7.001866e+09</td>\n",
              "      <td>109.0</td>\n",
              "      <td>0.0</td>\n",
              "      <td>0.0</td>\n",
              "      <td>0.0</td>\n",
              "      <td>NaT</td>\n",
              "      <td>NaT</td>\n",
              "      <td>NaT</td>\n",
              "      <td>NaT</td>\n",
              "      <td>261.63600</td>\n",
              "      <td>...</td>\n",
              "      <td>NaN</td>\n",
              "      <td>NaN</td>\n",
              "      <td>NaN</td>\n",
              "      <td>NaN</td>\n",
              "      <td>NaN</td>\n",
              "      <td>NaN</td>\n",
              "      <td>NaN</td>\n",
              "      <td>NaN</td>\n",
              "      <td>NaN</td>\n",
              "      <td>NaN</td>\n",
              "    </tr>\n",
              "    <tr>\n",
              "      <th>std</th>\n",
              "      <td>6.801347e+05</td>\n",
              "      <td>0.0</td>\n",
              "      <td>0.0</td>\n",
              "      <td>0.0</td>\n",
              "      <td>0.0</td>\n",
              "      <td>NaN</td>\n",
              "      <td>NaN</td>\n",
              "      <td>NaN</td>\n",
              "      <td>NaN</td>\n",
              "      <td>86.69661</td>\n",
              "      <td>...</td>\n",
              "      <td>NaN</td>\n",
              "      <td>NaN</td>\n",
              "      <td>NaN</td>\n",
              "      <td>NaN</td>\n",
              "      <td>NaN</td>\n",
              "      <td>NaN</td>\n",
              "      <td>NaN</td>\n",
              "      <td>NaN</td>\n",
              "      <td>NaN</td>\n",
              "      <td>NaN</td>\n",
              "    </tr>\n",
              "  </tbody>\n",
              "</table>\n",
              "<p>8 rows × 227 columns</p>\n",
              "</div>\n",
              "    <div class=\"colab-df-buttons\">\n",
              "\n",
              "  <div class=\"colab-df-container\">\n",
              "    <button class=\"colab-df-convert\" onclick=\"convertToInteractive('df-b0a12f38-0310-43af-81b7-040e68d1f5d0')\"\n",
              "            title=\"Convert this dataframe to an interactive table.\"\n",
              "            style=\"display:none;\">\n",
              "\n",
              "  <svg xmlns=\"http://www.w3.org/2000/svg\" height=\"24px\" viewBox=\"0 -960 960 960\">\n",
              "    <path d=\"M120-120v-720h720v720H120Zm60-500h600v-160H180v160Zm220 220h160v-160H400v160Zm0 220h160v-160H400v160ZM180-400h160v-160H180v160Zm440 0h160v-160H620v160ZM180-180h160v-160H180v160Zm440 0h160v-160H620v160Z\"/>\n",
              "  </svg>\n",
              "    </button>\n",
              "\n",
              "  <style>\n",
              "    .colab-df-container {\n",
              "      display:flex;\n",
              "      gap: 12px;\n",
              "    }\n",
              "\n",
              "    .colab-df-convert {\n",
              "      background-color: #E8F0FE;\n",
              "      border: none;\n",
              "      border-radius: 50%;\n",
              "      cursor: pointer;\n",
              "      display: none;\n",
              "      fill: #1967D2;\n",
              "      height: 32px;\n",
              "      padding: 0 0 0 0;\n",
              "      width: 32px;\n",
              "    }\n",
              "\n",
              "    .colab-df-convert:hover {\n",
              "      background-color: #E2EBFA;\n",
              "      box-shadow: 0px 1px 2px rgba(60, 64, 67, 0.3), 0px 1px 3px 1px rgba(60, 64, 67, 0.15);\n",
              "      fill: #174EA6;\n",
              "    }\n",
              "\n",
              "    .colab-df-buttons div {\n",
              "      margin-bottom: 4px;\n",
              "    }\n",
              "\n",
              "    [theme=dark] .colab-df-convert {\n",
              "      background-color: #3B4455;\n",
              "      fill: #D2E3FC;\n",
              "    }\n",
              "\n",
              "    [theme=dark] .colab-df-convert:hover {\n",
              "      background-color: #434B5C;\n",
              "      box-shadow: 0px 1px 3px 1px rgba(0, 0, 0, 0.15);\n",
              "      filter: drop-shadow(0px 1px 2px rgba(0, 0, 0, 0.3));\n",
              "      fill: #FFFFFF;\n",
              "    }\n",
              "  </style>\n",
              "\n",
              "    <script>\n",
              "      const buttonEl =\n",
              "        document.querySelector('#df-b0a12f38-0310-43af-81b7-040e68d1f5d0 button.colab-df-convert');\n",
              "      buttonEl.style.display =\n",
              "        google.colab.kernel.accessAllowed ? 'block' : 'none';\n",
              "\n",
              "      async function convertToInteractive(key) {\n",
              "        const element = document.querySelector('#df-b0a12f38-0310-43af-81b7-040e68d1f5d0');\n",
              "        const dataTable =\n",
              "          await google.colab.kernel.invokeFunction('convertToInteractive',\n",
              "                                                    [key], {});\n",
              "        if (!dataTable) return;\n",
              "\n",
              "        const docLinkHtml = 'Like what you see? Visit the ' +\n",
              "          '<a target=\"_blank\" href=https://colab.research.google.com/notebooks/data_table.ipynb>data table notebook</a>'\n",
              "          + ' to learn more about interactive tables.';\n",
              "        element.innerHTML = '';\n",
              "        dataTable['output_type'] = 'display_data';\n",
              "        await google.colab.output.renderOutput(dataTable, element);\n",
              "        const docLink = document.createElement('div');\n",
              "        docLink.innerHTML = docLinkHtml;\n",
              "        element.appendChild(docLink);\n",
              "      }\n",
              "    </script>\n",
              "  </div>\n",
              "\n",
              "\n",
              "<div id=\"df-d1c7d436-ee29-4bd3-b254-d49326dcea4a\">\n",
              "  <button class=\"colab-df-quickchart\" onclick=\"quickchart('df-d1c7d436-ee29-4bd3-b254-d49326dcea4a')\"\n",
              "            title=\"Suggest charts\"\n",
              "            style=\"display:none;\">\n",
              "\n",
              "<svg xmlns=\"http://www.w3.org/2000/svg\" height=\"24px\"viewBox=\"0 0 24 24\"\n",
              "     width=\"24px\">\n",
              "    <g>\n",
              "        <path d=\"M19 3H5c-1.1 0-2 .9-2 2v14c0 1.1.9 2 2 2h14c1.1 0 2-.9 2-2V5c0-1.1-.9-2-2-2zM9 17H7v-7h2v7zm4 0h-2V7h2v10zm4 0h-2v-4h2v4z\"/>\n",
              "    </g>\n",
              "</svg>\n",
              "  </button>\n",
              "\n",
              "<style>\n",
              "  .colab-df-quickchart {\n",
              "      --bg-color: #E8F0FE;\n",
              "      --fill-color: #1967D2;\n",
              "      --hover-bg-color: #E2EBFA;\n",
              "      --hover-fill-color: #174EA6;\n",
              "      --disabled-fill-color: #AAA;\n",
              "      --disabled-bg-color: #DDD;\n",
              "  }\n",
              "\n",
              "  [theme=dark] .colab-df-quickchart {\n",
              "      --bg-color: #3B4455;\n",
              "      --fill-color: #D2E3FC;\n",
              "      --hover-bg-color: #434B5C;\n",
              "      --hover-fill-color: #FFFFFF;\n",
              "      --disabled-bg-color: #3B4455;\n",
              "      --disabled-fill-color: #666;\n",
              "  }\n",
              "\n",
              "  .colab-df-quickchart {\n",
              "    background-color: var(--bg-color);\n",
              "    border: none;\n",
              "    border-radius: 50%;\n",
              "    cursor: pointer;\n",
              "    display: none;\n",
              "    fill: var(--fill-color);\n",
              "    height: 32px;\n",
              "    padding: 0;\n",
              "    width: 32px;\n",
              "  }\n",
              "\n",
              "  .colab-df-quickchart:hover {\n",
              "    background-color: var(--hover-bg-color);\n",
              "    box-shadow: 0 1px 2px rgba(60, 64, 67, 0.3), 0 1px 3px 1px rgba(60, 64, 67, 0.15);\n",
              "    fill: var(--button-hover-fill-color);\n",
              "  }\n",
              "\n",
              "  .colab-df-quickchart-complete:disabled,\n",
              "  .colab-df-quickchart-complete:disabled:hover {\n",
              "    background-color: var(--disabled-bg-color);\n",
              "    fill: var(--disabled-fill-color);\n",
              "    box-shadow: none;\n",
              "  }\n",
              "\n",
              "  .colab-df-spinner {\n",
              "    border: 2px solid var(--fill-color);\n",
              "    border-color: transparent;\n",
              "    border-bottom-color: var(--fill-color);\n",
              "    animation:\n",
              "      spin 1s steps(1) infinite;\n",
              "  }\n",
              "\n",
              "  @keyframes spin {\n",
              "    0% {\n",
              "      border-color: transparent;\n",
              "      border-bottom-color: var(--fill-color);\n",
              "      border-left-color: var(--fill-color);\n",
              "    }\n",
              "    20% {\n",
              "      border-color: transparent;\n",
              "      border-left-color: var(--fill-color);\n",
              "      border-top-color: var(--fill-color);\n",
              "    }\n",
              "    30% {\n",
              "      border-color: transparent;\n",
              "      border-left-color: var(--fill-color);\n",
              "      border-top-color: var(--fill-color);\n",
              "      border-right-color: var(--fill-color);\n",
              "    }\n",
              "    40% {\n",
              "      border-color: transparent;\n",
              "      border-right-color: var(--fill-color);\n",
              "      border-top-color: var(--fill-color);\n",
              "    }\n",
              "    60% {\n",
              "      border-color: transparent;\n",
              "      border-right-color: var(--fill-color);\n",
              "    }\n",
              "    80% {\n",
              "      border-color: transparent;\n",
              "      border-right-color: var(--fill-color);\n",
              "      border-bottom-color: var(--fill-color);\n",
              "    }\n",
              "    90% {\n",
              "      border-color: transparent;\n",
              "      border-bottom-color: var(--fill-color);\n",
              "    }\n",
              "  }\n",
              "</style>\n",
              "\n",
              "  <script>\n",
              "    async function quickchart(key) {\n",
              "      const quickchartButtonEl =\n",
              "        document.querySelector('#' + key + ' button');\n",
              "      quickchartButtonEl.disabled = true;  // To prevent multiple clicks.\n",
              "      quickchartButtonEl.classList.add('colab-df-spinner');\n",
              "      try {\n",
              "        const charts = await google.colab.kernel.invokeFunction(\n",
              "            'suggestCharts', [key], {});\n",
              "      } catch (error) {\n",
              "        console.error('Error during call to suggestCharts:', error);\n",
              "      }\n",
              "      quickchartButtonEl.classList.remove('colab-df-spinner');\n",
              "      quickchartButtonEl.classList.add('colab-df-quickchart-complete');\n",
              "    }\n",
              "    (() => {\n",
              "      let quickchartButtonEl =\n",
              "        document.querySelector('#df-d1c7d436-ee29-4bd3-b254-d49326dcea4a button');\n",
              "      quickchartButtonEl.style.display =\n",
              "        google.colab.kernel.accessAllowed ? 'block' : 'none';\n",
              "    })();\n",
              "  </script>\n",
              "</div>\n",
              "\n",
              "    </div>\n",
              "  </div>\n"
            ],
            "application/vnd.google.colaboratory.intrinsic+json": {
              "type": "dataframe"
            }
          },
          "metadata": {},
          "execution_count": 18
        }
      ]
    },
    {
      "cell_type": "code",
      "source": [
        "print(df.columns)"
      ],
      "metadata": {
        "colab": {
          "base_uri": "https://localhost:8080/"
        },
        "id": "s9CT8VX5PvR6",
        "outputId": "f4ba5c67-08f1-4820-cfda-cd1643dbb77b"
      },
      "execution_count": null,
      "outputs": [
        {
          "output_type": "stream",
          "name": "stdout",
          "text": [
            "Index(['mobile_number', 'circle_id', 'loc_og_t2o_mou', 'std_og_t2o_mou',\n",
            "       'loc_ic_t2o_mou', 'last_date_of_month_6', 'last_date_of_month_7',\n",
            "       'last_date_of_month_8', 'last_date_of_month_9', 'arpu_6',\n",
            "       ...\n",
            "       'column_217', 'column_218', 'column_219', 'column_220', 'column_221',\n",
            "       'column_222', 'column_223', 'column_224', 'column_225', 'column_226'],\n",
            "      dtype='object', length=227)\n"
          ]
        }
      ]
    },
    {
      "cell_type": "code",
      "source": [
        "import pandas as pd\n",
        "import numpy as np\n",
        "\n",
        "# Example DataFrame creation (use your actual DataFrame)\n",
        "data = {\n",
        "    'mobile_number': ['7000842753', '7001865778', '7001625959', '7001204172', '7000142493'],\n",
        "    'circle_id': [109, 109, 109, 109, 109],\n",
        "    'loc_og_t2o_mou': [0.0, 0.0, 0.0, 0.0, 0.0],\n",
        "    'std_og_t2o_mou': [0.0, 0.0, 0.0, 0.0, 0.0],\n",
        "    'loc_ic_t2o_mou': [0.0, 0.0, 0.0, 0.0, 0.0],\n",
        "    'arpu_6': [197.385, 34.047, 167.690, 221.338, 261.636],\n",
        "    'sachet_3g_9': [0, 0, 0, 0, 0],\n",
        "    'fb_user_6': [1.0, np.nan, np.nan, np.nan, 0.0],\n",
        "    'fb_user_7': [1.0, 1.0, np.nan, np.nan, np.nan],\n",
        "    'fb_user_8': [1.0, 1.0, np.nan, np.nan, np.nan],\n",
        "    'fb_user_9': [np.nan, np.nan, 1.0, np.nan, np.nan],\n",
        "    'aon': [968, 1006, 1103, 2491, 1526],\n",
        "    'aug_vbc_3g': [30.4, 0.0, 0.0, 0.0, 0.0],\n",
        "    'jul_vbc_3g': [0.0, 0.0, 0.0, 0.0, 0.0],\n",
        "    'jun_vbc_3g': [101.20, 0.00, 4.17, 0.00, 0.00],\n",
        "    'sep_vbc_3g': [3.58, 0.00, 0.00, 0.00, 0.00]\n",
        "}\n",
        "\n",
        "# Creating the DataFrame\n",
        "df = pd.DataFrame(data)\n",
        "\n",
        "# Convert 'mobile_number' to string if not already\n",
        "df['mobile_number'] = df['mobile_number'].astype(str)\n",
        "\n",
        "# Convert other columns to numeric types\n",
        "numeric_columns = ['circle_id', 'loc_og_t2o_mou', 'std_og_t2o_mou', 'loc_ic_t2o_mou', 'arpu_6', 'sachet_3g_9', 'fb_user_6', 'fb_user_7', 'fb_user_8', 'fb_user_9', 'aon', 'aug_vbc_3g', 'jul_vbc_3g', 'jun_vbc_3g', 'sep_vbc_3g']\n",
        "df[numeric_columns] = df[numeric_columns].apply(pd.to_numeric, errors='coerce')\n",
        "\n",
        "# Verify DataFrame dtypes after cleaning\n",
        "print(df.dtypes)\n",
        "print(df.head())"
      ],
      "metadata": {
        "colab": {
          "base_uri": "https://localhost:8080/"
        },
        "id": "17dQN_M1PvWO",
        "outputId": "70a9f955-7943-468f-94e1-6e59a6d15470"
      },
      "execution_count": null,
      "outputs": [
        {
          "output_type": "stream",
          "name": "stdout",
          "text": [
            "mobile_number      object\n",
            "circle_id           int64\n",
            "loc_og_t2o_mou    float64\n",
            "std_og_t2o_mou    float64\n",
            "loc_ic_t2o_mou    float64\n",
            "arpu_6            float64\n",
            "sachet_3g_9         int64\n",
            "fb_user_6         float64\n",
            "fb_user_7         float64\n",
            "fb_user_8         float64\n",
            "fb_user_9         float64\n",
            "aon                 int64\n",
            "aug_vbc_3g        float64\n",
            "jul_vbc_3g        float64\n",
            "jun_vbc_3g        float64\n",
            "sep_vbc_3g        float64\n",
            "dtype: object\n",
            "  mobile_number  circle_id  loc_og_t2o_mou  std_og_t2o_mou  loc_ic_t2o_mou  \\\n",
            "0    7000842753        109             0.0             0.0             0.0   \n",
            "1    7001865778        109             0.0             0.0             0.0   \n",
            "2    7001625959        109             0.0             0.0             0.0   \n",
            "3    7001204172        109             0.0             0.0             0.0   \n",
            "4    7000142493        109             0.0             0.0             0.0   \n",
            "\n",
            "    arpu_6  sachet_3g_9  fb_user_6  fb_user_7  fb_user_8  fb_user_9   aon  \\\n",
            "0  197.385            0        1.0        1.0        1.0        NaN   968   \n",
            "1   34.047            0        NaN        1.0        1.0        NaN  1006   \n",
            "2  167.690            0        NaN        NaN        NaN        1.0  1103   \n",
            "3  221.338            0        NaN        NaN        NaN        NaN  2491   \n",
            "4  261.636            0        0.0        NaN        NaN        NaN  1526   \n",
            "\n",
            "   aug_vbc_3g  jul_vbc_3g  jun_vbc_3g  sep_vbc_3g  \n",
            "0        30.4         0.0      101.20        3.58  \n",
            "1         0.0         0.0        0.00        0.00  \n",
            "2         0.0         0.0        4.17        0.00  \n",
            "3         0.0         0.0        0.00        0.00  \n",
            "4         0.0         0.0        0.00        0.00  \n"
          ]
        }
      ]
    },
    {
      "cell_type": "code",
      "source": [],
      "metadata": {
        "id": "2zagaqDNO6yc"
      },
      "execution_count": null,
      "outputs": []
    },
    {
      "cell_type": "markdown",
      "source": [
        "# Handling Missing Data"
      ],
      "metadata": {
        "id": "kBwL70bEQWM8"
      }
    },
    {
      "cell_type": "code",
      "source": [
        "import pandas as pd\n",
        "import numpy as np\n",
        "\n",
        "# Assuming df is your DataFrame\n",
        "\n",
        "# Fill missing values in `fb_user_*` columns with 0\n",
        "fb_user_columns = ['fb_user_6', 'fb_user_7', 'fb_user_8', 'fb_user_9']\n",
        "df[fb_user_columns] = df[fb_user_columns].fillna(0)\n",
        "\n",
        "# Optionally, fill missing values in other columns or use imputation\n",
        "# For demonstration, filling all remaining NaNs with 0\n",
        "df.fillna(0, inplace=True)\n",
        "\n",
        "# Check for any remaining NaN values\n",
        "print(\"Remaining NaN values:\")\n",
        "print(df.isna().sum())\n",
        "\n",
        "# Summary statistics\n",
        "print(\"Summary statistics:\")\n",
        "print(df.describe())\n",
        "\n",
        "# Print the cleaned DataFrame\n",
        "print(df.head())\n"
      ],
      "metadata": {
        "colab": {
          "base_uri": "https://localhost:8080/"
        },
        "id": "cZ3z7imCO61L",
        "outputId": "eeb1c2cc-9288-49ca-d615-32ad8d29b44c"
      },
      "execution_count": null,
      "outputs": [
        {
          "output_type": "stream",
          "name": "stdout",
          "text": [
            "Remaining NaN values:\n",
            "mobile_number     0\n",
            "circle_id         0\n",
            "loc_og_t2o_mou    0\n",
            "std_og_t2o_mou    0\n",
            "loc_ic_t2o_mou    0\n",
            "arpu_6            0\n",
            "sachet_3g_9       0\n",
            "fb_user_6         0\n",
            "fb_user_7         0\n",
            "fb_user_8         0\n",
            "fb_user_9         0\n",
            "aon               0\n",
            "aug_vbc_3g        0\n",
            "jul_vbc_3g        0\n",
            "jun_vbc_3g        0\n",
            "sep_vbc_3g        0\n",
            "dtype: int64\n",
            "Summary statistics:\n",
            "       circle_id  loc_og_t2o_mou  std_og_t2o_mou  loc_ic_t2o_mou     arpu_6  \\\n",
            "count        5.0             5.0             5.0             5.0    5.00000   \n",
            "mean       109.0             0.0             0.0             0.0  176.41920   \n",
            "std          0.0             0.0             0.0             0.0   86.69661   \n",
            "min        109.0             0.0             0.0             0.0   34.04700   \n",
            "25%        109.0             0.0             0.0             0.0  167.69000   \n",
            "50%        109.0             0.0             0.0             0.0  197.38500   \n",
            "75%        109.0             0.0             0.0             0.0  221.33800   \n",
            "max        109.0             0.0             0.0             0.0  261.63600   \n",
            "\n",
            "       sachet_3g_9  fb_user_6  fb_user_7  fb_user_8  fb_user_9          aon  \\\n",
            "count          5.0   5.000000   5.000000   5.000000   5.000000     5.000000   \n",
            "mean           0.0   0.200000   0.400000   0.400000   0.200000  1418.800000   \n",
            "std            0.0   0.447214   0.547723   0.547723   0.447214   639.229771   \n",
            "min            0.0   0.000000   0.000000   0.000000   0.000000   968.000000   \n",
            "25%            0.0   0.000000   0.000000   0.000000   0.000000  1006.000000   \n",
            "50%            0.0   0.000000   0.000000   0.000000   0.000000  1103.000000   \n",
            "75%            0.0   0.000000   1.000000   1.000000   0.000000  1526.000000   \n",
            "max            0.0   1.000000   1.000000   1.000000   1.000000  2491.000000   \n",
            "\n",
            "       aug_vbc_3g  jul_vbc_3g  jun_vbc_3g  sep_vbc_3g  \n",
            "count    5.000000         5.0    5.000000    5.000000  \n",
            "mean     6.080000         0.0   21.074000    0.716000  \n",
            "std     13.595293         0.0   44.828176    1.601025  \n",
            "min      0.000000         0.0    0.000000    0.000000  \n",
            "25%      0.000000         0.0    0.000000    0.000000  \n",
            "50%      0.000000         0.0    0.000000    0.000000  \n",
            "75%      0.000000         0.0    4.170000    0.000000  \n",
            "max     30.400000         0.0  101.200000    3.580000  \n",
            "  mobile_number  circle_id  loc_og_t2o_mou  std_og_t2o_mou  loc_ic_t2o_mou  \\\n",
            "0    7000842753        109             0.0             0.0             0.0   \n",
            "1    7001865778        109             0.0             0.0             0.0   \n",
            "2    7001625959        109             0.0             0.0             0.0   \n",
            "3    7001204172        109             0.0             0.0             0.0   \n",
            "4    7000142493        109             0.0             0.0             0.0   \n",
            "\n",
            "    arpu_6  sachet_3g_9  fb_user_6  fb_user_7  fb_user_8  fb_user_9   aon  \\\n",
            "0  197.385            0        1.0        1.0        1.0        0.0   968   \n",
            "1   34.047            0        0.0        1.0        1.0        0.0  1006   \n",
            "2  167.690            0        0.0        0.0        0.0        1.0  1103   \n",
            "3  221.338            0        0.0        0.0        0.0        0.0  2491   \n",
            "4  261.636            0        0.0        0.0        0.0        0.0  1526   \n",
            "\n",
            "   aug_vbc_3g  jul_vbc_3g  jun_vbc_3g  sep_vbc_3g  \n",
            "0        30.4         0.0      101.20        3.58  \n",
            "1         0.0         0.0        0.00        0.00  \n",
            "2         0.0         0.0        4.17        0.00  \n",
            "3         0.0         0.0        0.00        0.00  \n",
            "4         0.0         0.0        0.00        0.00  \n"
          ]
        }
      ]
    },
    {
      "cell_type": "code",
      "source": [
        "# Print the type of data to ensure it is a DataFrame\n",
        "print(f\"Data type: {type(data)}\")\n"
      ],
      "metadata": {
        "colab": {
          "base_uri": "https://localhost:8080/"
        },
        "id": "8fD4ri3oQZ1V",
        "outputId": "cc164eda-107a-433d-dcb6-32cb10f18537"
      },
      "execution_count": null,
      "outputs": [
        {
          "output_type": "stream",
          "name": "stdout",
          "text": [
            "Data type: <class 'dict'>\n"
          ]
        }
      ]
    },
    {
      "cell_type": "code",
      "source": [
        "import pandas as pd\n",
        "\n",
        "# Assuming 'data' is your dictionary containing the data\n",
        "# Convert the dictionary to a DataFrame\n",
        "data = pd.DataFrame(data)\n",
        "\n",
        "# Print the type of data to ensure it is a DataFrame\n",
        "print(f\"Data type: {type(data)}\")\n",
        "\n",
        "# Check if data is a DataFrame (This should now be True)\n",
        "if not isinstance(data, pd.DataFrame):\n",
        "    raise TypeError(\"Data is not loaded as a DataFrame. Please check the CSV file and the read_csv function.\")\n",
        "\n",
        "# Print the first few rows to inspect the data\n",
        "print(data.head())\n",
        "\n",
        "# Now you can proceed with your DataFrame operations\n",
        "# ... (rest of your code)"
      ],
      "metadata": {
        "colab": {
          "base_uri": "https://localhost:8080/"
        },
        "id": "jm51Q9KPQaKk",
        "outputId": "9d7f362a-1a20-400e-a451-229eda5460ac"
      },
      "execution_count": null,
      "outputs": [
        {
          "output_type": "stream",
          "name": "stdout",
          "text": [
            "Data type: <class 'pandas.core.frame.DataFrame'>\n",
            "  mobile_number  circle_id  loc_og_t2o_mou  std_og_t2o_mou  loc_ic_t2o_mou  \\\n",
            "0    7000842753        109             0.0             0.0             0.0   \n",
            "1    7001865778        109             0.0             0.0             0.0   \n",
            "2    7001625959        109             0.0             0.0             0.0   \n",
            "3    7001204172        109             0.0             0.0             0.0   \n",
            "4    7000142493        109             0.0             0.0             0.0   \n",
            "\n",
            "    arpu_6  sachet_3g_9  fb_user_6  fb_user_7  fb_user_8  fb_user_9   aon  \\\n",
            "0  197.385            0        1.0        1.0        1.0        NaN   968   \n",
            "1   34.047            0        NaN        1.0        1.0        NaN  1006   \n",
            "2  167.690            0        NaN        NaN        NaN        1.0  1103   \n",
            "3  221.338            0        NaN        NaN        NaN        NaN  2491   \n",
            "4  261.636            0        0.0        NaN        NaN        NaN  1526   \n",
            "\n",
            "   aug_vbc_3g  jul_vbc_3g  jun_vbc_3g  sep_vbc_3g  \n",
            "0        30.4         0.0      101.20        3.58  \n",
            "1         0.0         0.0        0.00        0.00  \n",
            "2         0.0         0.0        4.17        0.00  \n",
            "3         0.0         0.0        0.00        0.00  \n",
            "4         0.0         0.0        0.00        0.00  \n"
          ]
        }
      ]
    },
    {
      "cell_type": "code",
      "source": [
        "print(df.columns)\n"
      ],
      "metadata": {
        "colab": {
          "base_uri": "https://localhost:8080/"
        },
        "id": "CQDcaPoCRB8b",
        "outputId": "9eb75e67-e741-41e2-fe40-408d5b92f549"
      },
      "execution_count": null,
      "outputs": [
        {
          "output_type": "stream",
          "name": "stdout",
          "text": [
            "Index(['mobile_number', 'circle_id', 'loc_og_t2o_mou', 'std_og_t2o_mou',\n",
            "       'loc_ic_t2o_mou', 'arpu_6', 'sachet_3g_9', 'fb_user_6', 'fb_user_7',\n",
            "       'fb_user_8', 'fb_user_9', 'aon', 'aug_vbc_3g', 'jul_vbc_3g',\n",
            "       'jun_vbc_3g', 'sep_vbc_3g'],\n",
            "      dtype='object')\n"
          ]
        }
      ]
    },
    {
      "cell_type": "code",
      "source": [
        "import pandas as pd\n",
        "\n",
        "# Load your actual DataFrame\n",
        "# df = pd.read_csv('your_dataset.csv')\n",
        "\n",
        "# Display current columns\n",
        "print(df.columns)\n",
        "\n",
        "# Placeholder logic for calculating total recharge amounts\n",
        "# You need to replace these with the actual column names from your dataset\n",
        "recharge_columns_june = [col for col in df.columns if 'rech_amt' in col and '_6' in col]\n",
        "recharge_columns_july = [col for col in df.columns if 'rech_amt' in col and '_7' in col]\n",
        "\n",
        "# Calculate total recharge amounts for June (6) and July (7)\n",
        "df['total_rech_amt_6'] = df[recharge_columns_june].sum(axis=1)\n",
        "df['total_rech_amt_7'] = df[recharge_columns_july].sum(axis=1)\n",
        "\n",
        "# Check if the columns are now present\n",
        "print(df[['total_rech_amt_6', 'total_rech_amt_7']].head())\n"
      ],
      "metadata": {
        "colab": {
          "base_uri": "https://localhost:8080/"
        },
        "id": "ILYlX8TTRCMh",
        "outputId": "42f00824-c915-4a1f-e17d-ac61c8dbc5ba"
      },
      "execution_count": null,
      "outputs": [
        {
          "output_type": "stream",
          "name": "stdout",
          "text": [
            "Index(['mobile_number', 'circle_id', 'loc_og_t2o_mou', 'std_og_t2o_mou',\n",
            "       'loc_ic_t2o_mou', 'arpu_6', 'sachet_3g_9', 'fb_user_6', 'fb_user_7',\n",
            "       'fb_user_8', 'fb_user_9', 'aon', 'aug_vbc_3g', 'jul_vbc_3g',\n",
            "       'jun_vbc_3g', 'sep_vbc_3g'],\n",
            "      dtype='object')\n",
            "   total_rech_amt_6  total_rech_amt_7\n",
            "0               0.0               0.0\n",
            "1               0.0               0.0\n",
            "2               0.0               0.0\n",
            "3               0.0               0.0\n",
            "4               0.0               0.0\n"
          ]
        }
      ]
    },
    {
      "cell_type": "code",
      "source": [
        "# Calculate the average recharge amount for the first two months\n",
        "df['avg_recharge_amt'] = (df['total_rech_amt_6'] + df['total_rech_amt_7']) / 2\n"
      ],
      "metadata": {
        "id": "SXhowkZkU7RS"
      },
      "execution_count": null,
      "outputs": []
    },
    {
      "cell_type": "code",
      "source": [
        "# Determine the 70th percentile of the average recharge amount\n",
        "percentile_70 = df['avg_recharge_amt'].quantile(0.70)\n",
        "print(f\"70th percentile of the average recharge amount: {percentile_70}\")\n"
      ],
      "metadata": {
        "colab": {
          "base_uri": "https://localhost:8080/"
        },
        "id": "CozcwJ8-U7gG",
        "outputId": "4405d882-bd54-4032-b982-ddf78c800f25"
      },
      "execution_count": null,
      "outputs": [
        {
          "output_type": "stream",
          "name": "stdout",
          "text": [
            "70th percentile of the average recharge amount: 0.0\n"
          ]
        }
      ]
    },
    {
      "cell_type": "code",
      "source": [
        "# Filter the DataFrame to include only high-value customers\n",
        "high_value_customers = df[df['avg_recharge_amt'] >= percentile_70]\n",
        "\n",
        "# Check the number of high-value customers\n",
        "print(f\"Number of high-value customers: {len(high_value_customers)}\")\n",
        "\n",
        "# Display the first few rows of the high-value customers DataFrame\n",
        "high_value_customers.head()\n"
      ],
      "metadata": {
        "colab": {
          "base_uri": "https://localhost:8080/",
          "height": 243
        },
        "id": "IhHrRMfuU7kg",
        "outputId": "27d8e0ff-c0c5-4b49-bc25-ca18600c0742"
      },
      "execution_count": null,
      "outputs": [
        {
          "output_type": "stream",
          "name": "stdout",
          "text": [
            "Number of high-value customers: 5\n"
          ]
        },
        {
          "output_type": "execute_result",
          "data": {
            "text/plain": [
              "  mobile_number  circle_id  loc_og_t2o_mou  std_og_t2o_mou  loc_ic_t2o_mou  \\\n",
              "0    7000842753        109             0.0             0.0             0.0   \n",
              "1    7001865778        109             0.0             0.0             0.0   \n",
              "2    7001625959        109             0.0             0.0             0.0   \n",
              "3    7001204172        109             0.0             0.0             0.0   \n",
              "4    7000142493        109             0.0             0.0             0.0   \n",
              "\n",
              "    arpu_6  sachet_3g_9  fb_user_6  fb_user_7  fb_user_8  fb_user_9   aon  \\\n",
              "0  197.385            0        1.0        1.0        1.0        0.0   968   \n",
              "1   34.047            0        0.0        1.0        1.0        0.0  1006   \n",
              "2  167.690            0        0.0        0.0        0.0        1.0  1103   \n",
              "3  221.338            0        0.0        0.0        0.0        0.0  2491   \n",
              "4  261.636            0        0.0        0.0        0.0        0.0  1526   \n",
              "\n",
              "   aug_vbc_3g  jul_vbc_3g  jun_vbc_3g  sep_vbc_3g  total_rech_amt_6  \\\n",
              "0        30.4         0.0      101.20        3.58               0.0   \n",
              "1         0.0         0.0        0.00        0.00               0.0   \n",
              "2         0.0         0.0        4.17        0.00               0.0   \n",
              "3         0.0         0.0        0.00        0.00               0.0   \n",
              "4         0.0         0.0        0.00        0.00               0.0   \n",
              "\n",
              "   total_rech_amt_7  avg_recharge_amt  \n",
              "0               0.0               0.0  \n",
              "1               0.0               0.0  \n",
              "2               0.0               0.0  \n",
              "3               0.0               0.0  \n",
              "4               0.0               0.0  "
            ],
            "text/html": [
              "\n",
              "  <div id=\"df-0f75482c-ad98-4eb9-bd5d-df08bdda355a\" class=\"colab-df-container\">\n",
              "    <div>\n",
              "<style scoped>\n",
              "    .dataframe tbody tr th:only-of-type {\n",
              "        vertical-align: middle;\n",
              "    }\n",
              "\n",
              "    .dataframe tbody tr th {\n",
              "        vertical-align: top;\n",
              "    }\n",
              "\n",
              "    .dataframe thead th {\n",
              "        text-align: right;\n",
              "    }\n",
              "</style>\n",
              "<table border=\"1\" class=\"dataframe\">\n",
              "  <thead>\n",
              "    <tr style=\"text-align: right;\">\n",
              "      <th></th>\n",
              "      <th>mobile_number</th>\n",
              "      <th>circle_id</th>\n",
              "      <th>loc_og_t2o_mou</th>\n",
              "      <th>std_og_t2o_mou</th>\n",
              "      <th>loc_ic_t2o_mou</th>\n",
              "      <th>arpu_6</th>\n",
              "      <th>sachet_3g_9</th>\n",
              "      <th>fb_user_6</th>\n",
              "      <th>fb_user_7</th>\n",
              "      <th>fb_user_8</th>\n",
              "      <th>fb_user_9</th>\n",
              "      <th>aon</th>\n",
              "      <th>aug_vbc_3g</th>\n",
              "      <th>jul_vbc_3g</th>\n",
              "      <th>jun_vbc_3g</th>\n",
              "      <th>sep_vbc_3g</th>\n",
              "      <th>total_rech_amt_6</th>\n",
              "      <th>total_rech_amt_7</th>\n",
              "      <th>avg_recharge_amt</th>\n",
              "    </tr>\n",
              "  </thead>\n",
              "  <tbody>\n",
              "    <tr>\n",
              "      <th>0</th>\n",
              "      <td>7000842753</td>\n",
              "      <td>109</td>\n",
              "      <td>0.0</td>\n",
              "      <td>0.0</td>\n",
              "      <td>0.0</td>\n",
              "      <td>197.385</td>\n",
              "      <td>0</td>\n",
              "      <td>1.0</td>\n",
              "      <td>1.0</td>\n",
              "      <td>1.0</td>\n",
              "      <td>0.0</td>\n",
              "      <td>968</td>\n",
              "      <td>30.4</td>\n",
              "      <td>0.0</td>\n",
              "      <td>101.20</td>\n",
              "      <td>3.58</td>\n",
              "      <td>0.0</td>\n",
              "      <td>0.0</td>\n",
              "      <td>0.0</td>\n",
              "    </tr>\n",
              "    <tr>\n",
              "      <th>1</th>\n",
              "      <td>7001865778</td>\n",
              "      <td>109</td>\n",
              "      <td>0.0</td>\n",
              "      <td>0.0</td>\n",
              "      <td>0.0</td>\n",
              "      <td>34.047</td>\n",
              "      <td>0</td>\n",
              "      <td>0.0</td>\n",
              "      <td>1.0</td>\n",
              "      <td>1.0</td>\n",
              "      <td>0.0</td>\n",
              "      <td>1006</td>\n",
              "      <td>0.0</td>\n",
              "      <td>0.0</td>\n",
              "      <td>0.00</td>\n",
              "      <td>0.00</td>\n",
              "      <td>0.0</td>\n",
              "      <td>0.0</td>\n",
              "      <td>0.0</td>\n",
              "    </tr>\n",
              "    <tr>\n",
              "      <th>2</th>\n",
              "      <td>7001625959</td>\n",
              "      <td>109</td>\n",
              "      <td>0.0</td>\n",
              "      <td>0.0</td>\n",
              "      <td>0.0</td>\n",
              "      <td>167.690</td>\n",
              "      <td>0</td>\n",
              "      <td>0.0</td>\n",
              "      <td>0.0</td>\n",
              "      <td>0.0</td>\n",
              "      <td>1.0</td>\n",
              "      <td>1103</td>\n",
              "      <td>0.0</td>\n",
              "      <td>0.0</td>\n",
              "      <td>4.17</td>\n",
              "      <td>0.00</td>\n",
              "      <td>0.0</td>\n",
              "      <td>0.0</td>\n",
              "      <td>0.0</td>\n",
              "    </tr>\n",
              "    <tr>\n",
              "      <th>3</th>\n",
              "      <td>7001204172</td>\n",
              "      <td>109</td>\n",
              "      <td>0.0</td>\n",
              "      <td>0.0</td>\n",
              "      <td>0.0</td>\n",
              "      <td>221.338</td>\n",
              "      <td>0</td>\n",
              "      <td>0.0</td>\n",
              "      <td>0.0</td>\n",
              "      <td>0.0</td>\n",
              "      <td>0.0</td>\n",
              "      <td>2491</td>\n",
              "      <td>0.0</td>\n",
              "      <td>0.0</td>\n",
              "      <td>0.00</td>\n",
              "      <td>0.00</td>\n",
              "      <td>0.0</td>\n",
              "      <td>0.0</td>\n",
              "      <td>0.0</td>\n",
              "    </tr>\n",
              "    <tr>\n",
              "      <th>4</th>\n",
              "      <td>7000142493</td>\n",
              "      <td>109</td>\n",
              "      <td>0.0</td>\n",
              "      <td>0.0</td>\n",
              "      <td>0.0</td>\n",
              "      <td>261.636</td>\n",
              "      <td>0</td>\n",
              "      <td>0.0</td>\n",
              "      <td>0.0</td>\n",
              "      <td>0.0</td>\n",
              "      <td>0.0</td>\n",
              "      <td>1526</td>\n",
              "      <td>0.0</td>\n",
              "      <td>0.0</td>\n",
              "      <td>0.00</td>\n",
              "      <td>0.00</td>\n",
              "      <td>0.0</td>\n",
              "      <td>0.0</td>\n",
              "      <td>0.0</td>\n",
              "    </tr>\n",
              "  </tbody>\n",
              "</table>\n",
              "</div>\n",
              "    <div class=\"colab-df-buttons\">\n",
              "\n",
              "  <div class=\"colab-df-container\">\n",
              "    <button class=\"colab-df-convert\" onclick=\"convertToInteractive('df-0f75482c-ad98-4eb9-bd5d-df08bdda355a')\"\n",
              "            title=\"Convert this dataframe to an interactive table.\"\n",
              "            style=\"display:none;\">\n",
              "\n",
              "  <svg xmlns=\"http://www.w3.org/2000/svg\" height=\"24px\" viewBox=\"0 -960 960 960\">\n",
              "    <path d=\"M120-120v-720h720v720H120Zm60-500h600v-160H180v160Zm220 220h160v-160H400v160Zm0 220h160v-160H400v160ZM180-400h160v-160H180v160Zm440 0h160v-160H620v160ZM180-180h160v-160H180v160Zm440 0h160v-160H620v160Z\"/>\n",
              "  </svg>\n",
              "    </button>\n",
              "\n",
              "  <style>\n",
              "    .colab-df-container {\n",
              "      display:flex;\n",
              "      gap: 12px;\n",
              "    }\n",
              "\n",
              "    .colab-df-convert {\n",
              "      background-color: #E8F0FE;\n",
              "      border: none;\n",
              "      border-radius: 50%;\n",
              "      cursor: pointer;\n",
              "      display: none;\n",
              "      fill: #1967D2;\n",
              "      height: 32px;\n",
              "      padding: 0 0 0 0;\n",
              "      width: 32px;\n",
              "    }\n",
              "\n",
              "    .colab-df-convert:hover {\n",
              "      background-color: #E2EBFA;\n",
              "      box-shadow: 0px 1px 2px rgba(60, 64, 67, 0.3), 0px 1px 3px 1px rgba(60, 64, 67, 0.15);\n",
              "      fill: #174EA6;\n",
              "    }\n",
              "\n",
              "    .colab-df-buttons div {\n",
              "      margin-bottom: 4px;\n",
              "    }\n",
              "\n",
              "    [theme=dark] .colab-df-convert {\n",
              "      background-color: #3B4455;\n",
              "      fill: #D2E3FC;\n",
              "    }\n",
              "\n",
              "    [theme=dark] .colab-df-convert:hover {\n",
              "      background-color: #434B5C;\n",
              "      box-shadow: 0px 1px 3px 1px rgba(0, 0, 0, 0.15);\n",
              "      filter: drop-shadow(0px 1px 2px rgba(0, 0, 0, 0.3));\n",
              "      fill: #FFFFFF;\n",
              "    }\n",
              "  </style>\n",
              "\n",
              "    <script>\n",
              "      const buttonEl =\n",
              "        document.querySelector('#df-0f75482c-ad98-4eb9-bd5d-df08bdda355a button.colab-df-convert');\n",
              "      buttonEl.style.display =\n",
              "        google.colab.kernel.accessAllowed ? 'block' : 'none';\n",
              "\n",
              "      async function convertToInteractive(key) {\n",
              "        const element = document.querySelector('#df-0f75482c-ad98-4eb9-bd5d-df08bdda355a');\n",
              "        const dataTable =\n",
              "          await google.colab.kernel.invokeFunction('convertToInteractive',\n",
              "                                                    [key], {});\n",
              "        if (!dataTable) return;\n",
              "\n",
              "        const docLinkHtml = 'Like what you see? Visit the ' +\n",
              "          '<a target=\"_blank\" href=https://colab.research.google.com/notebooks/data_table.ipynb>data table notebook</a>'\n",
              "          + ' to learn more about interactive tables.';\n",
              "        element.innerHTML = '';\n",
              "        dataTable['output_type'] = 'display_data';\n",
              "        await google.colab.output.renderOutput(dataTable, element);\n",
              "        const docLink = document.createElement('div');\n",
              "        docLink.innerHTML = docLinkHtml;\n",
              "        element.appendChild(docLink);\n",
              "      }\n",
              "    </script>\n",
              "  </div>\n",
              "\n",
              "\n",
              "<div id=\"df-8533a005-53bc-4fc2-8810-a2157af78d72\">\n",
              "  <button class=\"colab-df-quickchart\" onclick=\"quickchart('df-8533a005-53bc-4fc2-8810-a2157af78d72')\"\n",
              "            title=\"Suggest charts\"\n",
              "            style=\"display:none;\">\n",
              "\n",
              "<svg xmlns=\"http://www.w3.org/2000/svg\" height=\"24px\"viewBox=\"0 0 24 24\"\n",
              "     width=\"24px\">\n",
              "    <g>\n",
              "        <path d=\"M19 3H5c-1.1 0-2 .9-2 2v14c0 1.1.9 2 2 2h14c1.1 0 2-.9 2-2V5c0-1.1-.9-2-2-2zM9 17H7v-7h2v7zm4 0h-2V7h2v10zm4 0h-2v-4h2v4z\"/>\n",
              "    </g>\n",
              "</svg>\n",
              "  </button>\n",
              "\n",
              "<style>\n",
              "  .colab-df-quickchart {\n",
              "      --bg-color: #E8F0FE;\n",
              "      --fill-color: #1967D2;\n",
              "      --hover-bg-color: #E2EBFA;\n",
              "      --hover-fill-color: #174EA6;\n",
              "      --disabled-fill-color: #AAA;\n",
              "      --disabled-bg-color: #DDD;\n",
              "  }\n",
              "\n",
              "  [theme=dark] .colab-df-quickchart {\n",
              "      --bg-color: #3B4455;\n",
              "      --fill-color: #D2E3FC;\n",
              "      --hover-bg-color: #434B5C;\n",
              "      --hover-fill-color: #FFFFFF;\n",
              "      --disabled-bg-color: #3B4455;\n",
              "      --disabled-fill-color: #666;\n",
              "  }\n",
              "\n",
              "  .colab-df-quickchart {\n",
              "    background-color: var(--bg-color);\n",
              "    border: none;\n",
              "    border-radius: 50%;\n",
              "    cursor: pointer;\n",
              "    display: none;\n",
              "    fill: var(--fill-color);\n",
              "    height: 32px;\n",
              "    padding: 0;\n",
              "    width: 32px;\n",
              "  }\n",
              "\n",
              "  .colab-df-quickchart:hover {\n",
              "    background-color: var(--hover-bg-color);\n",
              "    box-shadow: 0 1px 2px rgba(60, 64, 67, 0.3), 0 1px 3px 1px rgba(60, 64, 67, 0.15);\n",
              "    fill: var(--button-hover-fill-color);\n",
              "  }\n",
              "\n",
              "  .colab-df-quickchart-complete:disabled,\n",
              "  .colab-df-quickchart-complete:disabled:hover {\n",
              "    background-color: var(--disabled-bg-color);\n",
              "    fill: var(--disabled-fill-color);\n",
              "    box-shadow: none;\n",
              "  }\n",
              "\n",
              "  .colab-df-spinner {\n",
              "    border: 2px solid var(--fill-color);\n",
              "    border-color: transparent;\n",
              "    border-bottom-color: var(--fill-color);\n",
              "    animation:\n",
              "      spin 1s steps(1) infinite;\n",
              "  }\n",
              "\n",
              "  @keyframes spin {\n",
              "    0% {\n",
              "      border-color: transparent;\n",
              "      border-bottom-color: var(--fill-color);\n",
              "      border-left-color: var(--fill-color);\n",
              "    }\n",
              "    20% {\n",
              "      border-color: transparent;\n",
              "      border-left-color: var(--fill-color);\n",
              "      border-top-color: var(--fill-color);\n",
              "    }\n",
              "    30% {\n",
              "      border-color: transparent;\n",
              "      border-left-color: var(--fill-color);\n",
              "      border-top-color: var(--fill-color);\n",
              "      border-right-color: var(--fill-color);\n",
              "    }\n",
              "    40% {\n",
              "      border-color: transparent;\n",
              "      border-right-color: var(--fill-color);\n",
              "      border-top-color: var(--fill-color);\n",
              "    }\n",
              "    60% {\n",
              "      border-color: transparent;\n",
              "      border-right-color: var(--fill-color);\n",
              "    }\n",
              "    80% {\n",
              "      border-color: transparent;\n",
              "      border-right-color: var(--fill-color);\n",
              "      border-bottom-color: var(--fill-color);\n",
              "    }\n",
              "    90% {\n",
              "      border-color: transparent;\n",
              "      border-bottom-color: var(--fill-color);\n",
              "    }\n",
              "  }\n",
              "</style>\n",
              "\n",
              "  <script>\n",
              "    async function quickchart(key) {\n",
              "      const quickchartButtonEl =\n",
              "        document.querySelector('#' + key + ' button');\n",
              "      quickchartButtonEl.disabled = true;  // To prevent multiple clicks.\n",
              "      quickchartButtonEl.classList.add('colab-df-spinner');\n",
              "      try {\n",
              "        const charts = await google.colab.kernel.invokeFunction(\n",
              "            'suggestCharts', [key], {});\n",
              "      } catch (error) {\n",
              "        console.error('Error during call to suggestCharts:', error);\n",
              "      }\n",
              "      quickchartButtonEl.classList.remove('colab-df-spinner');\n",
              "      quickchartButtonEl.classList.add('colab-df-quickchart-complete');\n",
              "    }\n",
              "    (() => {\n",
              "      let quickchartButtonEl =\n",
              "        document.querySelector('#df-8533a005-53bc-4fc2-8810-a2157af78d72 button');\n",
              "      quickchartButtonEl.style.display =\n",
              "        google.colab.kernel.accessAllowed ? 'block' : 'none';\n",
              "    })();\n",
              "  </script>\n",
              "</div>\n",
              "\n",
              "    </div>\n",
              "  </div>\n"
            ],
            "application/vnd.google.colaboratory.intrinsic+json": {
              "type": "dataframe",
              "variable_name": "high_value_customers",
              "summary": "{\n  \"name\": \"high_value_customers\",\n  \"rows\": 5,\n  \"fields\": [\n    {\n      \"column\": \"mobile_number\",\n      \"properties\": {\n        \"dtype\": \"string\",\n        \"num_unique_values\": 5,\n        \"samples\": [\n          \"7001865778\",\n          \"7000142493\",\n          \"7001625959\"\n        ],\n        \"semantic_type\": \"\",\n        \"description\": \"\"\n      }\n    },\n    {\n      \"column\": \"circle_id\",\n      \"properties\": {\n        \"dtype\": \"number\",\n        \"std\": 0,\n        \"min\": 109,\n        \"max\": 109,\n        \"num_unique_values\": 1,\n        \"samples\": [\n          109\n        ],\n        \"semantic_type\": \"\",\n        \"description\": \"\"\n      }\n    },\n    {\n      \"column\": \"loc_og_t2o_mou\",\n      \"properties\": {\n        \"dtype\": \"number\",\n        \"std\": 0.0,\n        \"min\": 0.0,\n        \"max\": 0.0,\n        \"num_unique_values\": 1,\n        \"samples\": [\n          0.0\n        ],\n        \"semantic_type\": \"\",\n        \"description\": \"\"\n      }\n    },\n    {\n      \"column\": \"std_og_t2o_mou\",\n      \"properties\": {\n        \"dtype\": \"number\",\n        \"std\": 0.0,\n        \"min\": 0.0,\n        \"max\": 0.0,\n        \"num_unique_values\": 1,\n        \"samples\": [\n          0.0\n        ],\n        \"semantic_type\": \"\",\n        \"description\": \"\"\n      }\n    },\n    {\n      \"column\": \"loc_ic_t2o_mou\",\n      \"properties\": {\n        \"dtype\": \"number\",\n        \"std\": 0.0,\n        \"min\": 0.0,\n        \"max\": 0.0,\n        \"num_unique_values\": 1,\n        \"samples\": [\n          0.0\n        ],\n        \"semantic_type\": \"\",\n        \"description\": \"\"\n      }\n    },\n    {\n      \"column\": \"arpu_6\",\n      \"properties\": {\n        \"dtype\": \"number\",\n        \"std\": 86.69660983971634,\n        \"min\": 34.047,\n        \"max\": 261.636,\n        \"num_unique_values\": 5,\n        \"samples\": [\n          34.047\n        ],\n        \"semantic_type\": \"\",\n        \"description\": \"\"\n      }\n    },\n    {\n      \"column\": \"sachet_3g_9\",\n      \"properties\": {\n        \"dtype\": \"number\",\n        \"std\": 0,\n        \"min\": 0,\n        \"max\": 0,\n        \"num_unique_values\": 1,\n        \"samples\": [\n          0\n        ],\n        \"semantic_type\": \"\",\n        \"description\": \"\"\n      }\n    },\n    {\n      \"column\": \"fb_user_6\",\n      \"properties\": {\n        \"dtype\": \"number\",\n        \"std\": 0.44721359549995804,\n        \"min\": 0.0,\n        \"max\": 1.0,\n        \"num_unique_values\": 2,\n        \"samples\": [\n          0.0\n        ],\n        \"semantic_type\": \"\",\n        \"description\": \"\"\n      }\n    },\n    {\n      \"column\": \"fb_user_7\",\n      \"properties\": {\n        \"dtype\": \"number\",\n        \"std\": 0.5477225575051662,\n        \"min\": 0.0,\n        \"max\": 1.0,\n        \"num_unique_values\": 2,\n        \"samples\": [\n          0.0\n        ],\n        \"semantic_type\": \"\",\n        \"description\": \"\"\n      }\n    },\n    {\n      \"column\": \"fb_user_8\",\n      \"properties\": {\n        \"dtype\": \"number\",\n        \"std\": 0.5477225575051662,\n        \"min\": 0.0,\n        \"max\": 1.0,\n        \"num_unique_values\": 2,\n        \"samples\": [\n          0.0\n        ],\n        \"semantic_type\": \"\",\n        \"description\": \"\"\n      }\n    },\n    {\n      \"column\": \"fb_user_9\",\n      \"properties\": {\n        \"dtype\": \"number\",\n        \"std\": 0.44721359549995804,\n        \"min\": 0.0,\n        \"max\": 1.0,\n        \"num_unique_values\": 2,\n        \"samples\": [\n          1.0\n        ],\n        \"semantic_type\": \"\",\n        \"description\": \"\"\n      }\n    },\n    {\n      \"column\": \"aon\",\n      \"properties\": {\n        \"dtype\": \"number\",\n        \"std\": 639,\n        \"min\": 968,\n        \"max\": 2491,\n        \"num_unique_values\": 5,\n        \"samples\": [\n          1006\n        ],\n        \"semantic_type\": \"\",\n        \"description\": \"\"\n      }\n    },\n    {\n      \"column\": \"aug_vbc_3g\",\n      \"properties\": {\n        \"dtype\": \"number\",\n        \"std\": 13.595293303198723,\n        \"min\": 0.0,\n        \"max\": 30.4,\n        \"num_unique_values\": 2,\n        \"samples\": [\n          0.0\n        ],\n        \"semantic_type\": \"\",\n        \"description\": \"\"\n      }\n    },\n    {\n      \"column\": \"jul_vbc_3g\",\n      \"properties\": {\n        \"dtype\": \"number\",\n        \"std\": 0.0,\n        \"min\": 0.0,\n        \"max\": 0.0,\n        \"num_unique_values\": 1,\n        \"samples\": [\n          0.0\n        ],\n        \"semantic_type\": \"\",\n        \"description\": \"\"\n      }\n    },\n    {\n      \"column\": \"jun_vbc_3g\",\n      \"properties\": {\n        \"dtype\": \"number\",\n        \"std\": 44.828176184181316,\n        \"min\": 0.0,\n        \"max\": 101.2,\n        \"num_unique_values\": 3,\n        \"samples\": [\n          101.2\n        ],\n        \"semantic_type\": \"\",\n        \"description\": \"\"\n      }\n    },\n    {\n      \"column\": \"sep_vbc_3g\",\n      \"properties\": {\n        \"dtype\": \"number\",\n        \"std\": 1.6010246718898493,\n        \"min\": 0.0,\n        \"max\": 3.58,\n        \"num_unique_values\": 2,\n        \"samples\": [\n          0.0\n        ],\n        \"semantic_type\": \"\",\n        \"description\": \"\"\n      }\n    },\n    {\n      \"column\": \"total_rech_amt_6\",\n      \"properties\": {\n        \"dtype\": \"number\",\n        \"std\": 0.0,\n        \"min\": 0.0,\n        \"max\": 0.0,\n        \"num_unique_values\": 1,\n        \"samples\": [\n          0.0\n        ],\n        \"semantic_type\": \"\",\n        \"description\": \"\"\n      }\n    },\n    {\n      \"column\": \"total_rech_amt_7\",\n      \"properties\": {\n        \"dtype\": \"number\",\n        \"std\": 0.0,\n        \"min\": 0.0,\n        \"max\": 0.0,\n        \"num_unique_values\": 1,\n        \"samples\": [\n          0.0\n        ],\n        \"semantic_type\": \"\",\n        \"description\": \"\"\n      }\n    },\n    {\n      \"column\": \"avg_recharge_amt\",\n      \"properties\": {\n        \"dtype\": \"number\",\n        \"std\": 0.0,\n        \"min\": 0.0,\n        \"max\": 0.0,\n        \"num_unique_values\": 1,\n        \"samples\": [\n          0.0\n        ],\n        \"semantic_type\": \"\",\n        \"description\": \"\"\n      }\n    }\n  ]\n}"
            }
          },
          "metadata": {},
          "execution_count": 28
        }
      ]
    },
    {
      "cell_type": "code",
      "source": [
        "# Ensure the filtered DataFrame has about 30k rows\n",
        "if len(high_value_customers) != 30000:\n",
        "    print(f\"Number of high-value customers is not exactly 30k. It is: {len(high_value_customers)}\")\n",
        "else:\n",
        "    print(\"Number of high-value customers is approximately 30k.\")\n"
      ],
      "metadata": {
        "colab": {
          "base_uri": "https://localhost:8080/"
        },
        "id": "OJUszD6kU7vc",
        "outputId": "4fcf9686-757d-43bc-c14a-7510a8b8ff57"
      },
      "execution_count": null,
      "outputs": [
        {
          "output_type": "stream",
          "name": "stdout",
          "text": [
            "Number of high-value customers is not exactly 30k. It is: 5\n"
          ]
        }
      ]
    },
    {
      "cell_type": "code",
      "source": [
        "feature_columns = high_value_customers.columns.difference(['mobile_number', 'avg_recharge_amt', 'churn'])\n",
        "target = 'churn'\n"
      ],
      "metadata": {
        "id": "_bO-G4D0VSIp"
      },
      "execution_count": null,
      "outputs": []
    },
    {
      "cell_type": "code",
      "source": [
        "df.columns"
      ],
      "metadata": {
        "colab": {
          "base_uri": "https://localhost:8080/"
        },
        "id": "-nEfOzrPVScm",
        "outputId": "a056f660-1d61-48a2-e86b-aae7aa8f8b13"
      },
      "execution_count": null,
      "outputs": [
        {
          "output_type": "execute_result",
          "data": {
            "text/plain": [
              "Index(['mobile_number', 'circle_id', 'loc_og_t2o_mou', 'std_og_t2o_mou',\n",
              "       'loc_ic_t2o_mou', 'arpu_6', 'sachet_3g_9', 'fb_user_6', 'fb_user_7',\n",
              "       'fb_user_8', 'fb_user_9', 'aon', 'aug_vbc_3g', 'jul_vbc_3g',\n",
              "       'jun_vbc_3g', 'sep_vbc_3g', 'total_rech_amt_6', 'total_rech_amt_7',\n",
              "       'avg_recharge_amt'],\n",
              "      dtype='object')"
            ]
          },
          "metadata": {},
          "execution_count": 33
        }
      ]
    },
    {
      "cell_type": "code",
      "source": [
        "# Define 'churn' column based on a significant drop in recharge amount\n",
        "threshold = 0.5  # Define a threshold for a significant drop, e.g., 50%\n",
        "df['churn'] = (df['total_rech_amt_7'] > 0) & (df['total_rech_amt_7'] * threshold > df['total_rech_amt_6'])\n"
      ],
      "metadata": {
        "id": "GtEwbIC1W9Kw"
      },
      "execution_count": null,
      "outputs": []
    },
    {
      "cell_type": "code",
      "source": [
        "# Calculate the average recharge amount for the first two months\n",
        "df['avg_recharge_amt'] = (df['total_rech_amt_6'] + df['total_rech_amt_7']) / 2\n",
        "\n",
        "# Determine the 70th percentile of the average recharge amount\n",
        "percentile_70 = df['avg_recharge_amt'].quantile(0.70)\n",
        "print(f\"70th percentile of the average recharge amount: {percentile_70}\")\n"
      ],
      "metadata": {
        "colab": {
          "base_uri": "https://localhost:8080/"
        },
        "id": "E4-z3kQfW9QA",
        "outputId": "e8285f73-bd5f-4f5f-c9bf-c113a2402534"
      },
      "execution_count": null,
      "outputs": [
        {
          "output_type": "stream",
          "name": "stdout",
          "text": [
            "70th percentile of the average recharge amount: 0.0\n"
          ]
        }
      ]
    },
    {
      "cell_type": "code",
      "source": [
        "# Filter the DataFrame to include only high-value customers\n",
        "high_value_customers = df[df['avg_recharge_amt'] >= percentile_70]\n",
        "\n",
        "# Check the number of high-value customers\n",
        "print(f\"Number of high-value customers: {len(high_value_customers)}\")\n",
        "\n",
        "# Display the first few rows of the high-value customers DataFrame\n",
        "high_value_customers.head()\n"
      ],
      "metadata": {
        "colab": {
          "base_uri": "https://localhost:8080/",
          "height": 243
        },
        "id": "xp4o7Kz3W9UG",
        "outputId": "5ec83db0-795c-4964-f7fb-7c94db0158f0"
      },
      "execution_count": null,
      "outputs": [
        {
          "output_type": "stream",
          "name": "stdout",
          "text": [
            "Number of high-value customers: 5\n"
          ]
        },
        {
          "output_type": "execute_result",
          "data": {
            "text/plain": [
              "  mobile_number  circle_id  loc_og_t2o_mou  std_og_t2o_mou  loc_ic_t2o_mou  \\\n",
              "0    7000842753        109             0.0             0.0             0.0   \n",
              "1    7001865778        109             0.0             0.0             0.0   \n",
              "2    7001625959        109             0.0             0.0             0.0   \n",
              "3    7001204172        109             0.0             0.0             0.0   \n",
              "4    7000142493        109             0.0             0.0             0.0   \n",
              "\n",
              "    arpu_6  sachet_3g_9  fb_user_6  fb_user_7  fb_user_8  fb_user_9   aon  \\\n",
              "0  197.385            0        1.0        1.0        1.0        0.0   968   \n",
              "1   34.047            0        0.0        1.0        1.0        0.0  1006   \n",
              "2  167.690            0        0.0        0.0        0.0        1.0  1103   \n",
              "3  221.338            0        0.0        0.0        0.0        0.0  2491   \n",
              "4  261.636            0        0.0        0.0        0.0        0.0  1526   \n",
              "\n",
              "   aug_vbc_3g  jul_vbc_3g  jun_vbc_3g  sep_vbc_3g  total_rech_amt_6  \\\n",
              "0        30.4         0.0      101.20        3.58               0.0   \n",
              "1         0.0         0.0        0.00        0.00               0.0   \n",
              "2         0.0         0.0        4.17        0.00               0.0   \n",
              "3         0.0         0.0        0.00        0.00               0.0   \n",
              "4         0.0         0.0        0.00        0.00               0.0   \n",
              "\n",
              "   total_rech_amt_7  avg_recharge_amt  churn  \n",
              "0               0.0               0.0  False  \n",
              "1               0.0               0.0  False  \n",
              "2               0.0               0.0  False  \n",
              "3               0.0               0.0  False  \n",
              "4               0.0               0.0  False  "
            ],
            "text/html": [
              "\n",
              "  <div id=\"df-1284ea54-eb1d-4348-b031-8fe45bd03ffc\" class=\"colab-df-container\">\n",
              "    <div>\n",
              "<style scoped>\n",
              "    .dataframe tbody tr th:only-of-type {\n",
              "        vertical-align: middle;\n",
              "    }\n",
              "\n",
              "    .dataframe tbody tr th {\n",
              "        vertical-align: top;\n",
              "    }\n",
              "\n",
              "    .dataframe thead th {\n",
              "        text-align: right;\n",
              "    }\n",
              "</style>\n",
              "<table border=\"1\" class=\"dataframe\">\n",
              "  <thead>\n",
              "    <tr style=\"text-align: right;\">\n",
              "      <th></th>\n",
              "      <th>mobile_number</th>\n",
              "      <th>circle_id</th>\n",
              "      <th>loc_og_t2o_mou</th>\n",
              "      <th>std_og_t2o_mou</th>\n",
              "      <th>loc_ic_t2o_mou</th>\n",
              "      <th>arpu_6</th>\n",
              "      <th>sachet_3g_9</th>\n",
              "      <th>fb_user_6</th>\n",
              "      <th>fb_user_7</th>\n",
              "      <th>fb_user_8</th>\n",
              "      <th>fb_user_9</th>\n",
              "      <th>aon</th>\n",
              "      <th>aug_vbc_3g</th>\n",
              "      <th>jul_vbc_3g</th>\n",
              "      <th>jun_vbc_3g</th>\n",
              "      <th>sep_vbc_3g</th>\n",
              "      <th>total_rech_amt_6</th>\n",
              "      <th>total_rech_amt_7</th>\n",
              "      <th>avg_recharge_amt</th>\n",
              "      <th>churn</th>\n",
              "    </tr>\n",
              "  </thead>\n",
              "  <tbody>\n",
              "    <tr>\n",
              "      <th>0</th>\n",
              "      <td>7000842753</td>\n",
              "      <td>109</td>\n",
              "      <td>0.0</td>\n",
              "      <td>0.0</td>\n",
              "      <td>0.0</td>\n",
              "      <td>197.385</td>\n",
              "      <td>0</td>\n",
              "      <td>1.0</td>\n",
              "      <td>1.0</td>\n",
              "      <td>1.0</td>\n",
              "      <td>0.0</td>\n",
              "      <td>968</td>\n",
              "      <td>30.4</td>\n",
              "      <td>0.0</td>\n",
              "      <td>101.20</td>\n",
              "      <td>3.58</td>\n",
              "      <td>0.0</td>\n",
              "      <td>0.0</td>\n",
              "      <td>0.0</td>\n",
              "      <td>False</td>\n",
              "    </tr>\n",
              "    <tr>\n",
              "      <th>1</th>\n",
              "      <td>7001865778</td>\n",
              "      <td>109</td>\n",
              "      <td>0.0</td>\n",
              "      <td>0.0</td>\n",
              "      <td>0.0</td>\n",
              "      <td>34.047</td>\n",
              "      <td>0</td>\n",
              "      <td>0.0</td>\n",
              "      <td>1.0</td>\n",
              "      <td>1.0</td>\n",
              "      <td>0.0</td>\n",
              "      <td>1006</td>\n",
              "      <td>0.0</td>\n",
              "      <td>0.0</td>\n",
              "      <td>0.00</td>\n",
              "      <td>0.00</td>\n",
              "      <td>0.0</td>\n",
              "      <td>0.0</td>\n",
              "      <td>0.0</td>\n",
              "      <td>False</td>\n",
              "    </tr>\n",
              "    <tr>\n",
              "      <th>2</th>\n",
              "      <td>7001625959</td>\n",
              "      <td>109</td>\n",
              "      <td>0.0</td>\n",
              "      <td>0.0</td>\n",
              "      <td>0.0</td>\n",
              "      <td>167.690</td>\n",
              "      <td>0</td>\n",
              "      <td>0.0</td>\n",
              "      <td>0.0</td>\n",
              "      <td>0.0</td>\n",
              "      <td>1.0</td>\n",
              "      <td>1103</td>\n",
              "      <td>0.0</td>\n",
              "      <td>0.0</td>\n",
              "      <td>4.17</td>\n",
              "      <td>0.00</td>\n",
              "      <td>0.0</td>\n",
              "      <td>0.0</td>\n",
              "      <td>0.0</td>\n",
              "      <td>False</td>\n",
              "    </tr>\n",
              "    <tr>\n",
              "      <th>3</th>\n",
              "      <td>7001204172</td>\n",
              "      <td>109</td>\n",
              "      <td>0.0</td>\n",
              "      <td>0.0</td>\n",
              "      <td>0.0</td>\n",
              "      <td>221.338</td>\n",
              "      <td>0</td>\n",
              "      <td>0.0</td>\n",
              "      <td>0.0</td>\n",
              "      <td>0.0</td>\n",
              "      <td>0.0</td>\n",
              "      <td>2491</td>\n",
              "      <td>0.0</td>\n",
              "      <td>0.0</td>\n",
              "      <td>0.00</td>\n",
              "      <td>0.00</td>\n",
              "      <td>0.0</td>\n",
              "      <td>0.0</td>\n",
              "      <td>0.0</td>\n",
              "      <td>False</td>\n",
              "    </tr>\n",
              "    <tr>\n",
              "      <th>4</th>\n",
              "      <td>7000142493</td>\n",
              "      <td>109</td>\n",
              "      <td>0.0</td>\n",
              "      <td>0.0</td>\n",
              "      <td>0.0</td>\n",
              "      <td>261.636</td>\n",
              "      <td>0</td>\n",
              "      <td>0.0</td>\n",
              "      <td>0.0</td>\n",
              "      <td>0.0</td>\n",
              "      <td>0.0</td>\n",
              "      <td>1526</td>\n",
              "      <td>0.0</td>\n",
              "      <td>0.0</td>\n",
              "      <td>0.00</td>\n",
              "      <td>0.00</td>\n",
              "      <td>0.0</td>\n",
              "      <td>0.0</td>\n",
              "      <td>0.0</td>\n",
              "      <td>False</td>\n",
              "    </tr>\n",
              "  </tbody>\n",
              "</table>\n",
              "</div>\n",
              "    <div class=\"colab-df-buttons\">\n",
              "\n",
              "  <div class=\"colab-df-container\">\n",
              "    <button class=\"colab-df-convert\" onclick=\"convertToInteractive('df-1284ea54-eb1d-4348-b031-8fe45bd03ffc')\"\n",
              "            title=\"Convert this dataframe to an interactive table.\"\n",
              "            style=\"display:none;\">\n",
              "\n",
              "  <svg xmlns=\"http://www.w3.org/2000/svg\" height=\"24px\" viewBox=\"0 -960 960 960\">\n",
              "    <path d=\"M120-120v-720h720v720H120Zm60-500h600v-160H180v160Zm220 220h160v-160H400v160Zm0 220h160v-160H400v160ZM180-400h160v-160H180v160Zm440 0h160v-160H620v160ZM180-180h160v-160H180v160Zm440 0h160v-160H620v160Z\"/>\n",
              "  </svg>\n",
              "    </button>\n",
              "\n",
              "  <style>\n",
              "    .colab-df-container {\n",
              "      display:flex;\n",
              "      gap: 12px;\n",
              "    }\n",
              "\n",
              "    .colab-df-convert {\n",
              "      background-color: #E8F0FE;\n",
              "      border: none;\n",
              "      border-radius: 50%;\n",
              "      cursor: pointer;\n",
              "      display: none;\n",
              "      fill: #1967D2;\n",
              "      height: 32px;\n",
              "      padding: 0 0 0 0;\n",
              "      width: 32px;\n",
              "    }\n",
              "\n",
              "    .colab-df-convert:hover {\n",
              "      background-color: #E2EBFA;\n",
              "      box-shadow: 0px 1px 2px rgba(60, 64, 67, 0.3), 0px 1px 3px 1px rgba(60, 64, 67, 0.15);\n",
              "      fill: #174EA6;\n",
              "    }\n",
              "\n",
              "    .colab-df-buttons div {\n",
              "      margin-bottom: 4px;\n",
              "    }\n",
              "\n",
              "    [theme=dark] .colab-df-convert {\n",
              "      background-color: #3B4455;\n",
              "      fill: #D2E3FC;\n",
              "    }\n",
              "\n",
              "    [theme=dark] .colab-df-convert:hover {\n",
              "      background-color: #434B5C;\n",
              "      box-shadow: 0px 1px 3px 1px rgba(0, 0, 0, 0.15);\n",
              "      filter: drop-shadow(0px 1px 2px rgba(0, 0, 0, 0.3));\n",
              "      fill: #FFFFFF;\n",
              "    }\n",
              "  </style>\n",
              "\n",
              "    <script>\n",
              "      const buttonEl =\n",
              "        document.querySelector('#df-1284ea54-eb1d-4348-b031-8fe45bd03ffc button.colab-df-convert');\n",
              "      buttonEl.style.display =\n",
              "        google.colab.kernel.accessAllowed ? 'block' : 'none';\n",
              "\n",
              "      async function convertToInteractive(key) {\n",
              "        const element = document.querySelector('#df-1284ea54-eb1d-4348-b031-8fe45bd03ffc');\n",
              "        const dataTable =\n",
              "          await google.colab.kernel.invokeFunction('convertToInteractive',\n",
              "                                                    [key], {});\n",
              "        if (!dataTable) return;\n",
              "\n",
              "        const docLinkHtml = 'Like what you see? Visit the ' +\n",
              "          '<a target=\"_blank\" href=https://colab.research.google.com/notebooks/data_table.ipynb>data table notebook</a>'\n",
              "          + ' to learn more about interactive tables.';\n",
              "        element.innerHTML = '';\n",
              "        dataTable['output_type'] = 'display_data';\n",
              "        await google.colab.output.renderOutput(dataTable, element);\n",
              "        const docLink = document.createElement('div');\n",
              "        docLink.innerHTML = docLinkHtml;\n",
              "        element.appendChild(docLink);\n",
              "      }\n",
              "    </script>\n",
              "  </div>\n",
              "\n",
              "\n",
              "<div id=\"df-1538466d-2eae-45b4-a3d7-5a360bffbffa\">\n",
              "  <button class=\"colab-df-quickchart\" onclick=\"quickchart('df-1538466d-2eae-45b4-a3d7-5a360bffbffa')\"\n",
              "            title=\"Suggest charts\"\n",
              "            style=\"display:none;\">\n",
              "\n",
              "<svg xmlns=\"http://www.w3.org/2000/svg\" height=\"24px\"viewBox=\"0 0 24 24\"\n",
              "     width=\"24px\">\n",
              "    <g>\n",
              "        <path d=\"M19 3H5c-1.1 0-2 .9-2 2v14c0 1.1.9 2 2 2h14c1.1 0 2-.9 2-2V5c0-1.1-.9-2-2-2zM9 17H7v-7h2v7zm4 0h-2V7h2v10zm4 0h-2v-4h2v4z\"/>\n",
              "    </g>\n",
              "</svg>\n",
              "  </button>\n",
              "\n",
              "<style>\n",
              "  .colab-df-quickchart {\n",
              "      --bg-color: #E8F0FE;\n",
              "      --fill-color: #1967D2;\n",
              "      --hover-bg-color: #E2EBFA;\n",
              "      --hover-fill-color: #174EA6;\n",
              "      --disabled-fill-color: #AAA;\n",
              "      --disabled-bg-color: #DDD;\n",
              "  }\n",
              "\n",
              "  [theme=dark] .colab-df-quickchart {\n",
              "      --bg-color: #3B4455;\n",
              "      --fill-color: #D2E3FC;\n",
              "      --hover-bg-color: #434B5C;\n",
              "      --hover-fill-color: #FFFFFF;\n",
              "      --disabled-bg-color: #3B4455;\n",
              "      --disabled-fill-color: #666;\n",
              "  }\n",
              "\n",
              "  .colab-df-quickchart {\n",
              "    background-color: var(--bg-color);\n",
              "    border: none;\n",
              "    border-radius: 50%;\n",
              "    cursor: pointer;\n",
              "    display: none;\n",
              "    fill: var(--fill-color);\n",
              "    height: 32px;\n",
              "    padding: 0;\n",
              "    width: 32px;\n",
              "  }\n",
              "\n",
              "  .colab-df-quickchart:hover {\n",
              "    background-color: var(--hover-bg-color);\n",
              "    box-shadow: 0 1px 2px rgba(60, 64, 67, 0.3), 0 1px 3px 1px rgba(60, 64, 67, 0.15);\n",
              "    fill: var(--button-hover-fill-color);\n",
              "  }\n",
              "\n",
              "  .colab-df-quickchart-complete:disabled,\n",
              "  .colab-df-quickchart-complete:disabled:hover {\n",
              "    background-color: var(--disabled-bg-color);\n",
              "    fill: var(--disabled-fill-color);\n",
              "    box-shadow: none;\n",
              "  }\n",
              "\n",
              "  .colab-df-spinner {\n",
              "    border: 2px solid var(--fill-color);\n",
              "    border-color: transparent;\n",
              "    border-bottom-color: var(--fill-color);\n",
              "    animation:\n",
              "      spin 1s steps(1) infinite;\n",
              "  }\n",
              "\n",
              "  @keyframes spin {\n",
              "    0% {\n",
              "      border-color: transparent;\n",
              "      border-bottom-color: var(--fill-color);\n",
              "      border-left-color: var(--fill-color);\n",
              "    }\n",
              "    20% {\n",
              "      border-color: transparent;\n",
              "      border-left-color: var(--fill-color);\n",
              "      border-top-color: var(--fill-color);\n",
              "    }\n",
              "    30% {\n",
              "      border-color: transparent;\n",
              "      border-left-color: var(--fill-color);\n",
              "      border-top-color: var(--fill-color);\n",
              "      border-right-color: var(--fill-color);\n",
              "    }\n",
              "    40% {\n",
              "      border-color: transparent;\n",
              "      border-right-color: var(--fill-color);\n",
              "      border-top-color: var(--fill-color);\n",
              "    }\n",
              "    60% {\n",
              "      border-color: transparent;\n",
              "      border-right-color: var(--fill-color);\n",
              "    }\n",
              "    80% {\n",
              "      border-color: transparent;\n",
              "      border-right-color: var(--fill-color);\n",
              "      border-bottom-color: var(--fill-color);\n",
              "    }\n",
              "    90% {\n",
              "      border-color: transparent;\n",
              "      border-bottom-color: var(--fill-color);\n",
              "    }\n",
              "  }\n",
              "</style>\n",
              "\n",
              "  <script>\n",
              "    async function quickchart(key) {\n",
              "      const quickchartButtonEl =\n",
              "        document.querySelector('#' + key + ' button');\n",
              "      quickchartButtonEl.disabled = true;  // To prevent multiple clicks.\n",
              "      quickchartButtonEl.classList.add('colab-df-spinner');\n",
              "      try {\n",
              "        const charts = await google.colab.kernel.invokeFunction(\n",
              "            'suggestCharts', [key], {});\n",
              "      } catch (error) {\n",
              "        console.error('Error during call to suggestCharts:', error);\n",
              "      }\n",
              "      quickchartButtonEl.classList.remove('colab-df-spinner');\n",
              "      quickchartButtonEl.classList.add('colab-df-quickchart-complete');\n",
              "    }\n",
              "    (() => {\n",
              "      let quickchartButtonEl =\n",
              "        document.querySelector('#df-1538466d-2eae-45b4-a3d7-5a360bffbffa button');\n",
              "      quickchartButtonEl.style.display =\n",
              "        google.colab.kernel.accessAllowed ? 'block' : 'none';\n",
              "    })();\n",
              "  </script>\n",
              "</div>\n",
              "\n",
              "    </div>\n",
              "  </div>\n"
            ],
            "application/vnd.google.colaboratory.intrinsic+json": {
              "type": "dataframe",
              "variable_name": "high_value_customers",
              "summary": "{\n  \"name\": \"high_value_customers\",\n  \"rows\": 5,\n  \"fields\": [\n    {\n      \"column\": \"mobile_number\",\n      \"properties\": {\n        \"dtype\": \"string\",\n        \"num_unique_values\": 5,\n        \"samples\": [\n          \"7001865778\",\n          \"7000142493\",\n          \"7001625959\"\n        ],\n        \"semantic_type\": \"\",\n        \"description\": \"\"\n      }\n    },\n    {\n      \"column\": \"circle_id\",\n      \"properties\": {\n        \"dtype\": \"number\",\n        \"std\": 0,\n        \"min\": 109,\n        \"max\": 109,\n        \"num_unique_values\": 1,\n        \"samples\": [\n          109\n        ],\n        \"semantic_type\": \"\",\n        \"description\": \"\"\n      }\n    },\n    {\n      \"column\": \"loc_og_t2o_mou\",\n      \"properties\": {\n        \"dtype\": \"number\",\n        \"std\": 0.0,\n        \"min\": 0.0,\n        \"max\": 0.0,\n        \"num_unique_values\": 1,\n        \"samples\": [\n          0.0\n        ],\n        \"semantic_type\": \"\",\n        \"description\": \"\"\n      }\n    },\n    {\n      \"column\": \"std_og_t2o_mou\",\n      \"properties\": {\n        \"dtype\": \"number\",\n        \"std\": 0.0,\n        \"min\": 0.0,\n        \"max\": 0.0,\n        \"num_unique_values\": 1,\n        \"samples\": [\n          0.0\n        ],\n        \"semantic_type\": \"\",\n        \"description\": \"\"\n      }\n    },\n    {\n      \"column\": \"loc_ic_t2o_mou\",\n      \"properties\": {\n        \"dtype\": \"number\",\n        \"std\": 0.0,\n        \"min\": 0.0,\n        \"max\": 0.0,\n        \"num_unique_values\": 1,\n        \"samples\": [\n          0.0\n        ],\n        \"semantic_type\": \"\",\n        \"description\": \"\"\n      }\n    },\n    {\n      \"column\": \"arpu_6\",\n      \"properties\": {\n        \"dtype\": \"number\",\n        \"std\": 86.69660983971634,\n        \"min\": 34.047,\n        \"max\": 261.636,\n        \"num_unique_values\": 5,\n        \"samples\": [\n          34.047\n        ],\n        \"semantic_type\": \"\",\n        \"description\": \"\"\n      }\n    },\n    {\n      \"column\": \"sachet_3g_9\",\n      \"properties\": {\n        \"dtype\": \"number\",\n        \"std\": 0,\n        \"min\": 0,\n        \"max\": 0,\n        \"num_unique_values\": 1,\n        \"samples\": [\n          0\n        ],\n        \"semantic_type\": \"\",\n        \"description\": \"\"\n      }\n    },\n    {\n      \"column\": \"fb_user_6\",\n      \"properties\": {\n        \"dtype\": \"number\",\n        \"std\": 0.44721359549995804,\n        \"min\": 0.0,\n        \"max\": 1.0,\n        \"num_unique_values\": 2,\n        \"samples\": [\n          0.0\n        ],\n        \"semantic_type\": \"\",\n        \"description\": \"\"\n      }\n    },\n    {\n      \"column\": \"fb_user_7\",\n      \"properties\": {\n        \"dtype\": \"number\",\n        \"std\": 0.5477225575051662,\n        \"min\": 0.0,\n        \"max\": 1.0,\n        \"num_unique_values\": 2,\n        \"samples\": [\n          0.0\n        ],\n        \"semantic_type\": \"\",\n        \"description\": \"\"\n      }\n    },\n    {\n      \"column\": \"fb_user_8\",\n      \"properties\": {\n        \"dtype\": \"number\",\n        \"std\": 0.5477225575051662,\n        \"min\": 0.0,\n        \"max\": 1.0,\n        \"num_unique_values\": 2,\n        \"samples\": [\n          0.0\n        ],\n        \"semantic_type\": \"\",\n        \"description\": \"\"\n      }\n    },\n    {\n      \"column\": \"fb_user_9\",\n      \"properties\": {\n        \"dtype\": \"number\",\n        \"std\": 0.44721359549995804,\n        \"min\": 0.0,\n        \"max\": 1.0,\n        \"num_unique_values\": 2,\n        \"samples\": [\n          1.0\n        ],\n        \"semantic_type\": \"\",\n        \"description\": \"\"\n      }\n    },\n    {\n      \"column\": \"aon\",\n      \"properties\": {\n        \"dtype\": \"number\",\n        \"std\": 639,\n        \"min\": 968,\n        \"max\": 2491,\n        \"num_unique_values\": 5,\n        \"samples\": [\n          1006\n        ],\n        \"semantic_type\": \"\",\n        \"description\": \"\"\n      }\n    },\n    {\n      \"column\": \"aug_vbc_3g\",\n      \"properties\": {\n        \"dtype\": \"number\",\n        \"std\": 13.595293303198723,\n        \"min\": 0.0,\n        \"max\": 30.4,\n        \"num_unique_values\": 2,\n        \"samples\": [\n          0.0\n        ],\n        \"semantic_type\": \"\",\n        \"description\": \"\"\n      }\n    },\n    {\n      \"column\": \"jul_vbc_3g\",\n      \"properties\": {\n        \"dtype\": \"number\",\n        \"std\": 0.0,\n        \"min\": 0.0,\n        \"max\": 0.0,\n        \"num_unique_values\": 1,\n        \"samples\": [\n          0.0\n        ],\n        \"semantic_type\": \"\",\n        \"description\": \"\"\n      }\n    },\n    {\n      \"column\": \"jun_vbc_3g\",\n      \"properties\": {\n        \"dtype\": \"number\",\n        \"std\": 44.828176184181316,\n        \"min\": 0.0,\n        \"max\": 101.2,\n        \"num_unique_values\": 3,\n        \"samples\": [\n          101.2\n        ],\n        \"semantic_type\": \"\",\n        \"description\": \"\"\n      }\n    },\n    {\n      \"column\": \"sep_vbc_3g\",\n      \"properties\": {\n        \"dtype\": \"number\",\n        \"std\": 1.6010246718898493,\n        \"min\": 0.0,\n        \"max\": 3.58,\n        \"num_unique_values\": 2,\n        \"samples\": [\n          0.0\n        ],\n        \"semantic_type\": \"\",\n        \"description\": \"\"\n      }\n    },\n    {\n      \"column\": \"total_rech_amt_6\",\n      \"properties\": {\n        \"dtype\": \"number\",\n        \"std\": 0.0,\n        \"min\": 0.0,\n        \"max\": 0.0,\n        \"num_unique_values\": 1,\n        \"samples\": [\n          0.0\n        ],\n        \"semantic_type\": \"\",\n        \"description\": \"\"\n      }\n    },\n    {\n      \"column\": \"total_rech_amt_7\",\n      \"properties\": {\n        \"dtype\": \"number\",\n        \"std\": 0.0,\n        \"min\": 0.0,\n        \"max\": 0.0,\n        \"num_unique_values\": 1,\n        \"samples\": [\n          0.0\n        ],\n        \"semantic_type\": \"\",\n        \"description\": \"\"\n      }\n    },\n    {\n      \"column\": \"avg_recharge_amt\",\n      \"properties\": {\n        \"dtype\": \"number\",\n        \"std\": 0.0,\n        \"min\": 0.0,\n        \"max\": 0.0,\n        \"num_unique_values\": 1,\n        \"samples\": [\n          0.0\n        ],\n        \"semantic_type\": \"\",\n        \"description\": \"\"\n      }\n    },\n    {\n      \"column\": \"churn\",\n      \"properties\": {\n        \"dtype\": \"boolean\",\n        \"num_unique_values\": 1,\n        \"samples\": [\n          false\n        ],\n        \"semantic_type\": \"\",\n        \"description\": \"\"\n      }\n    }\n  ]\n}"
            }
          },
          "metadata": {},
          "execution_count": 38
        }
      ]
    },
    {
      "cell_type": "code",
      "source": [
        "feature_columns = high_value_customers.columns.difference(['mobile_number', 'avg_recharge_amt', 'churn'])\n",
        "target = 'churn'\n"
      ],
      "metadata": {
        "id": "CuCPJup-W9Yg"
      },
      "execution_count": null,
      "outputs": []
    },
    {
      "cell_type": "code",
      "source": [
        "from sklearn.ensemble import RandomForestClassifier\n",
        "from sklearn.model_selection import train_test_split\n",
        "\n",
        "# Split the data into training and testing sets\n",
        "X = high_value_customers[feature_columns]\n",
        "y = high_value_customers[target]\n",
        "X_train, X_test, y_train, y_test = train_test_split(X, y, test_size=0.2, random_state=42)\n",
        "\n",
        "# Initialize and train the Random Forest model\n",
        "model = RandomForestClassifier()\n",
        "model.fit(X_train, y_train)\n",
        "\n",
        "# Get feature importances\n",
        "feature_importances = model.feature_importances_\n",
        "\n",
        "# Create a DataFrame for visualization\n",
        "importances_df = pd.DataFrame({'feature': feature_columns, 'importance': feature_importances})\n",
        "importances_df = importances_df.sort_values(by='importance', ascending=False)\n",
        "\n",
        "# Plot feature importances\n",
        "import matplotlib.pyplot as plt\n",
        "\n",
        "plt.figure(figsize=(10, 6))\n",
        "plt.barh(importances_df['feature'][:20], importances_df['importance'][:20], color='skyblue')\n",
        "plt.xlabel('Feature Importance')\n",
        "plt.ylabel('Feature')\n",
        "plt.title('Top 20 Feature Importances')\n",
        "plt.gca().invert_yaxis()  # Invert y-axis to have the highest importance at the top\n",
        "plt.show()\n"
      ],
      "metadata": {
        "colab": {
          "base_uri": "https://localhost:8080/",
          "height": 381
        },
        "id": "3jgIhMlgW9bP",
        "outputId": "2a1ee2a1-bdee-4363-ff90-628c7ea2fcc6"
      },
      "execution_count": null,
      "outputs": [
        {
          "output_type": "display_data",
          "data": {
            "text/plain": [
              "<Figure size 1000x600 with 1 Axes>"
            ],
            "image/png": "[encoded data removed]"
          },
          "metadata": {}
        }
      ]
    },
    {
      "cell_type": "code",
      "source": [
        "# Tag churners based on the given criteria\n",
        "# Verify that the column 'total_ic_mou_9' and other relevant columns exist in the DataFrame\n",
        "print(df.columns)\n",
        "\n",
        "# If the columns are present, proceed with the tagging\n",
        "if 'total_ic_mou_9' in df.columns and 'total_og_mou_9' in df.columns and 'vol_2g_mb_9' in df.columns and 'vol_3g_mb_9' in df.columns:\n",
        "    df['churn'] = ((df['total_ic_mou_9'] == 0) &\n",
        "                   (df['total_og_mou_9'] == 0) &\n",
        "                   (df['vol_2g_mb_9'] == 0) &\n",
        "                   (df['vol_3g_mb_9'] == 0)).astype(int)\n",
        "\n",
        "    # Verify the tagging\n",
        "    print(df['churn'].value_counts())\n",
        "else:\n",
        "    print(\"Error: One or more required columns are missing from the DataFrame.\")"
      ],
      "metadata": {
        "colab": {
          "base_uri": "https://localhost:8080/"
        },
        "id": "9i-lnKOZZjQR",
        "outputId": "5465e187-8ec2-47f0-f639-11c30685e05b"
      },
      "execution_count": null,
      "outputs": [
        {
          "output_type": "stream",
          "name": "stdout",
          "text": [
            "Index(['mobile_number', 'circle_id', 'loc_og_t2o_mou', 'std_og_t2o_mou',\n",
            "       'loc_ic_t2o_mou', 'arpu_6', 'sachet_3g_9', 'fb_user_6', 'fb_user_7',\n",
            "       'fb_user_8', 'fb_user_9', 'aon', 'aug_vbc_3g', 'jul_vbc_3g',\n",
            "       'jun_vbc_3g', 'sep_vbc_3g', 'total_rech_amt_6', 'total_rech_amt_7',\n",
            "       'avg_recharge_amt', 'churn'],\n",
            "      dtype='object')\n",
            "Error: One or more required columns are missing from the DataFrame.\n"
          ]
        }
      ]
    },
    {
      "cell_type": "code",
      "source": [
        "# Remove all attributes corresponding to the churn phase\n",
        "columns_to_remove = [col for col in df.columns if '_9' in col]\n",
        "df_cleaned = df.drop(columns=columns_to_remove)\n",
        "\n",
        "# Verify the removal\n",
        "print(f\"Remaining columns: {df_cleaned.columns}\")\n"
      ],
      "metadata": {
        "colab": {
          "base_uri": "https://localhost:8080/"
        },
        "id": "n2j2RaoYZjUp",
        "outputId": "a1c401f5-20a4-4513-b1ca-f12563522919"
      },
      "execution_count": null,
      "outputs": [
        {
          "output_type": "stream",
          "name": "stdout",
          "text": [
            "Remaining columns: Index(['mobile_number', 'circle_id', 'loc_og_t2o_mou', 'std_og_t2o_mou',\n",
            "       'loc_ic_t2o_mou', 'arpu_6', 'fb_user_6', 'fb_user_7', 'fb_user_8',\n",
            "       'aon', 'aug_vbc_3g', 'jul_vbc_3g', 'jun_vbc_3g', 'sep_vbc_3g',\n",
            "       'total_rech_amt_6', 'total_rech_amt_7', 'avg_recharge_amt', 'churn'],\n",
            "      dtype='object')\n"
          ]
        }
      ]
    },
    {
      "cell_type": "code",
      "source": [
        "# Check for missing values\n",
        "missing_values = df_cleaned.isnull().sum()\n",
        "print(missing_values[missing_values > 0])\n"
      ],
      "metadata": {
        "colab": {
          "base_uri": "https://localhost:8080/"
        },
        "id": "wUprLp9SZjcy",
        "outputId": "84f943ed-9dbd-4d92-febb-e98e02ac9aef"
      },
      "execution_count": null,
      "outputs": [
        {
          "output_type": "stream",
          "name": "stdout",
          "text": [
            "Series([], dtype: int64)\n"
          ]
        }
      ]
    },
    {
      "cell_type": "code",
      "source": [
        "from sklearn.model_selection import train_test_split\n",
        "from sklearn.ensemble import RandomForestClassifier\n",
        "from sklearn.metrics import accuracy_score, precision_score, recall_score, f1_score, roc_auc_score\n",
        "\n",
        "# Split the data\n",
        "X = df_cleaned.drop(['mobile_number', 'churn'], axis=1)\n",
        "y = df_cleaned['churn']\n",
        "\n",
        "X_train, X_test, y_train, y_test = train_test_split(X, y, test_size=0.2, random_state=42)\n",
        "\n",
        "# Train a RandomForestClassifier\n",
        "model = RandomForestClassifier(random_state=42)\n",
        "model.fit(X_train, y_train)\n",
        "\n",
        "# Make predictions\n",
        "y_pred = model.predict(X_test)\n",
        "\n",
        "# Check the number of unique classes predicted\n",
        "num_classes_predicted = len(np.unique(y_pred))\n",
        "print(\"Number of unique classes predicted:\", num_classes_predicted)\n",
        "\n",
        "if num_classes_predicted > 1:\n",
        "    y_pred_proba = model.predict_proba(X_test)[:, 1]  # Proceed if more than one class is predicted\n",
        "\n",
        "    # Evaluate the model\n",
        "    accuracy = accuracy_score(y_test, y_pred)\n",
        "    precision = precision_score(y_test, y_pred)\n",
        "    recall = recall_score(y_test, y_pred)\n",
        "    f1 = f1_score(y_test, y_pred)\n",
        "    roc_auc = roc_auc_score(y_test, y_pred_proba)\n",
        "\n",
        "    print(f\"Accuracy: {accuracy}\")\n",
        "    print(f\"Precision: {precision}\")\n",
        "    print(f\"Recall: {recall}\")\n",
        "    print(f\"F1 Score: {f1}\")\n",
        "    print(f\"ROC-AUC: {roc_auc}\")\n",
        "else:\n",
        "    print(\"Warning: The model is predicting only a single class. Check for class imbalance in the target variable.\")\n",
        "\n",
        "# Add this import at the top of your script\n",
        "import numpy as np"
      ],
      "metadata": {
        "colab": {
          "base_uri": "https://localhost:8080/"
        },
        "id": "s5Ldc850a2yt",
        "outputId": "c6808deb-d492-4c34-d89c-2306805ae89d"
      },
      "execution_count": null,
      "outputs": [
        {
          "output_type": "stream",
          "name": "stdout",
          "text": [
            "Number of unique classes predicted: 1\n",
            "Warning: The model is predicting only a single class. Check for class imbalance in the target variable.\n"
          ]
        }
      ]
    },
    {
      "cell_type": "code",
      "source": [
        "# Check the distribution of classes in y_train\n",
        "class_distribution = pd.Series(y_train).value_counts()\n",
        "print(class_distribution)\n"
      ],
      "metadata": {
        "colab": {
          "base_uri": "https://localhost:8080/"
        },
        "id": "0ghMi2PJahJu",
        "outputId": "0cff7caa-77de-42da-a636-9bcc98a6a1e5"
      },
      "execution_count": null,
      "outputs": [
        {
          "output_type": "stream",
          "name": "stdout",
          "text": [
            "churn\n",
            "False    4\n",
            "Name: count, dtype: int64\n"
          ]
        }
      ]
    },
    {
      "cell_type": "code",
      "source": [
        "# Verify if 'churn' column exists and contains multiple classes\n",
        "if 'churn' in X_train.columns:\n",
        "    print(X_train['churn'].value_counts())\n"
      ],
      "metadata": {
        "id": "i9Chx4AAahPA"
      },
      "execution_count": null,
      "outputs": []
    },
    {
      "cell_type": "code",
      "source": [
        "# Check the distribution in the entire dataset\n",
        "print(df['churn'].value_counts())\n",
        "\n",
        "# Check the distribution in the training set\n",
        "print(pd.Series(y_train).value_counts())\n"
      ],
      "metadata": {
        "colab": {
          "base_uri": "https://localhost:8080/"
        },
        "id": "hqTwLN4HahXE",
        "outputId": "27c361ba-63d1-42f7-8854-9db2b1d025e7"
      },
      "execution_count": null,
      "outputs": [
        {
          "output_type": "stream",
          "name": "stdout",
          "text": [
            "churn\n",
            "False    5\n",
            "Name: count, dtype: int64\n",
            "churn\n",
            "False    4\n",
            "Name: count, dtype: int64\n"
          ]
        }
      ]
    },
    {
      "cell_type": "code",
      "source": [
        "# Sample code to ensure both classes are present in the training set\n",
        "if 'churn' in df.columns:\n",
        "    X = df.drop('churn', axis=1)\n",
        "    y = df['churn']\n",
        "    print(y.value_counts())  # To see if both classes are present\n",
        "\n",
        "    # Proceed with splitting the dataset ensuring class balance\n",
        "    from sklearn.model_selection import train_test_split\n",
        "    X_train, X_test, y_train, y_test = train_test_split(X, y, test_size=0.2, random_state=42, stratify=y)\n"
      ],
      "metadata": {
        "colab": {
          "base_uri": "https://localhost:8080/"
        },
        "id": "JB83Xtf4ZjhI",
        "outputId": "be645922-6bc8-4dee-b8a2-cf091113a4b9"
      },
      "execution_count": null,
      "outputs": [
        {
          "output_type": "stream",
          "name": "stdout",
          "text": [
            "churn\n",
            "False    5\n",
            "Name: count, dtype: int64\n"
          ]
        }
      ]
    },
    {
      "cell_type": "code",
      "source": [
        "import pandas as pd\n",
        "\n",
        "# Assuming your DataFrame is named df\n",
        "\n",
        "# Tag churners based on criteria\n",
        "df['churn'] = (\n",
        "    (df['total_ic_mou_9'] == 0) &\n",
        "    (df['total_og_mou_9'] == 0) &\n",
        "    (df['vol_2g_mb_9'] == 0) &\n",
        "    (df['vol_3g_mb_9'] == 0)\n",
        ").astype(int)\n",
        "\n",
        "# Check the distribution of churn labels\n",
        "print(df['churn'].value_counts())\n",
        "\n",
        "# Remove columns related to the churn phase (those with '_9' in their names)\n",
        "df_cleaned = df.loc[:, ~df.columns.str.contains('_9')]\n",
        "\n",
        "# Print the remaining columns to verify\n",
        "print(df_cleaned.columns)\n"
      ],
      "metadata": {
        "colab": {
          "base_uri": "https://localhost:8080/",
          "height": 616
        },
        "id": "QeQ8pkDmcjN5",
        "outputId": "42d83448-a8aa-47f8-c25a-0c040c3cf9c7"
      },
      "execution_count": null,
      "outputs": [
        {
          "output_type": "error",
          "ename": "KeyError",
          "evalue": "'total_ic_mou_9'",
          "traceback": [
            "\u001b[0;31m---------------------------------------------------------------------------\u001b[0m",
            "\u001b[0;31mKeyError\u001b[0m                                  Traceback (most recent call last)",
            "\u001b[0;32m/usr/local/lib/python3.10/dist-packages/pandas/core/indexes/base.py\u001b[0m in \u001b[0;36mget_loc\u001b[0;34m(self, key)\u001b[0m\n\u001b[1;32m   3790\u001b[0m         \u001b[0;32mtry\u001b[0m\u001b[0;34m:\u001b[0m\u001b[0;34m\u001b[0m\u001b[0;34m\u001b[0m\u001b[0m\n\u001b[0;32m-> 3791\u001b[0;31m             \u001b[0;32mreturn\u001b[0m \u001b[0mself\u001b[0m\u001b[0;34m.\u001b[0m\u001b[0m_engine\u001b[0m\u001b[0;34m.\u001b[0m\u001b[0mget_loc\u001b[0m\u001b[0;34m(\u001b[0m\u001b[0mcasted_key\u001b[0m\u001b[0;34m)\u001b[0m\u001b[0;34m\u001b[0m\u001b[0;34m\u001b[0m\u001b[0m\n\u001b[0m\u001b[1;32m   3792\u001b[0m         \u001b[0;32mexcept\u001b[0m \u001b[0mKeyError\u001b[0m \u001b[0;32mas\u001b[0m \u001b[0merr\u001b[0m\u001b[0;34m:\u001b[0m\u001b[0;34m\u001b[0m\u001b[0;34m\u001b[0m\u001b[0m\n",
            "\u001b[0;32mindex.pyx\u001b[0m in \u001b[0;36mpandas._libs.index.IndexEngine.get_loc\u001b[0;34m()\u001b[0m\n",
            "\u001b[0;32mindex.pyx\u001b[0m in \u001b[0;36mpandas._libs.index.IndexEngine.get_loc\u001b[0;34m()\u001b[0m\n",
            "\u001b[0;32mpandas/_libs/hashtable_class_helper.pxi\u001b[0m in \u001b[0;36mpandas._libs.hashtable.PyObjectHashTable.get_item\u001b[0;34m()\u001b[0m\n",
            "\u001b[0;32mpandas/_libs/hashtable_class_helper.pxi\u001b[0m in \u001b[0;36mpandas._libs.hashtable.PyObjectHashTable.get_item\u001b[0;34m()\u001b[0m\n",
            "\u001b[0;31mKeyError\u001b[0m: 'total_ic_mou_9'",
            "\nThe above exception was the direct cause of the following exception:\n",
            "\u001b[0;31mKeyError\u001b[0m                                  Traceback (most recent call last)",
            "\u001b[0;32m<ipython-input-52-019875da367a>\u001b[0m in \u001b[0;36m<cell line: 7>\u001b[0;34m()\u001b[0m\n\u001b[1;32m      5\u001b[0m \u001b[0;31m# Tag churners based on criteria\u001b[0m\u001b[0;34m\u001b[0m\u001b[0;34m\u001b[0m\u001b[0m\n\u001b[1;32m      6\u001b[0m df['churn'] = (\n\u001b[0;32m----> 7\u001b[0;31m     \u001b[0;34m(\u001b[0m\u001b[0mdf\u001b[0m\u001b[0;34m[\u001b[0m\u001b[0;34m'total_ic_mou_9'\u001b[0m\u001b[0;34m]\u001b[0m \u001b[0;34m==\u001b[0m \u001b[0;36m0\u001b[0m\u001b[0;34m)\u001b[0m \u001b[0;34m&\u001b[0m\u001b[0;34m\u001b[0m\u001b[0;34m\u001b[0m\u001b[0m\n\u001b[0m\u001b[1;32m      8\u001b[0m     \u001b[0;34m(\u001b[0m\u001b[0mdf\u001b[0m\u001b[0;34m[\u001b[0m\u001b[0;34m'total_og_mou_9'\u001b[0m\u001b[0;34m]\u001b[0m \u001b[0;34m==\u001b[0m \u001b[0;36m0\u001b[0m\u001b[0;34m)\u001b[0m \u001b[0;34m&\u001b[0m\u001b[0;34m\u001b[0m\u001b[0;34m\u001b[0m\u001b[0m\n\u001b[1;32m      9\u001b[0m     \u001b[0;34m(\u001b[0m\u001b[0mdf\u001b[0m\u001b[0;34m[\u001b[0m\u001b[0;34m'vol_2g_mb_9'\u001b[0m\u001b[0;34m]\u001b[0m \u001b[0;34m==\u001b[0m \u001b[0;36m0\u001b[0m\u001b[0;34m)\u001b[0m \u001b[0;34m&\u001b[0m\u001b[0;34m\u001b[0m\u001b[0;34m\u001b[0m\u001b[0m\n",
            "\u001b[0;32m/usr/local/lib/python3.10/dist-packages/pandas/core/frame.py\u001b[0m in \u001b[0;36m__getitem__\u001b[0;34m(self, key)\u001b[0m\n\u001b[1;32m   3891\u001b[0m             \u001b[0;32mif\u001b[0m \u001b[0mself\u001b[0m\u001b[0;34m.\u001b[0m\u001b[0mcolumns\u001b[0m\u001b[0;34m.\u001b[0m\u001b[0mnlevels\u001b[0m \u001b[0;34m>\u001b[0m \u001b[0;36m1\u001b[0m\u001b[0;34m:\u001b[0m\u001b[0;34m\u001b[0m\u001b[0;34m\u001b[0m\u001b[0m\n\u001b[1;32m   3892\u001b[0m                 \u001b[0;32mreturn\u001b[0m \u001b[0mself\u001b[0m\u001b[0;34m.\u001b[0m\u001b[0m_getitem_multilevel\u001b[0m\u001b[0;34m(\u001b[0m\u001b[0mkey\u001b[0m\u001b[0;34m)\u001b[0m\u001b[0;34m\u001b[0m\u001b[0;34m\u001b[0m\u001b[0m\n\u001b[0;32m-> 3893\u001b[0;31m             \u001b[0mindexer\u001b[0m \u001b[0;34m=\u001b[0m \u001b[0mself\u001b[0m\u001b[0;34m.\u001b[0m\u001b[0mcolumns\u001b[0m\u001b[0;34m.\u001b[0m\u001b[0mget_loc\u001b[0m\u001b[0;34m(\u001b[0m\u001b[0mkey\u001b[0m\u001b[0;34m)\u001b[0m\u001b[0;34m\u001b[0m\u001b[0;34m\u001b[0m\u001b[0m\n\u001b[0m\u001b[1;32m   3894\u001b[0m             \u001b[0;32mif\u001b[0m \u001b[0mis_integer\u001b[0m\u001b[0;34m(\u001b[0m\u001b[0mindexer\u001b[0m\u001b[0;34m)\u001b[0m\u001b[0;34m:\u001b[0m\u001b[0;34m\u001b[0m\u001b[0;34m\u001b[0m\u001b[0m\n\u001b[1;32m   3895\u001b[0m                 \u001b[0mindexer\u001b[0m \u001b[0;34m=\u001b[0m \u001b[0;34m[\u001b[0m\u001b[0mindexer\u001b[0m\u001b[0;34m]\u001b[0m\u001b[0;34m\u001b[0m\u001b[0;34m\u001b[0m\u001b[0m\n",
            "\u001b[0;32m/usr/local/lib/python3.10/dist-packages/pandas/core/indexes/base.py\u001b[0m in \u001b[0;36mget_loc\u001b[0;34m(self, key)\u001b[0m\n\u001b[1;32m   3796\u001b[0m             ):\n\u001b[1;32m   3797\u001b[0m                 \u001b[0;32mraise\u001b[0m \u001b[0mInvalidIndexError\u001b[0m\u001b[0;34m(\u001b[0m\u001b[0mkey\u001b[0m\u001b[0;34m)\u001b[0m\u001b[0;34m\u001b[0m\u001b[0;34m\u001b[0m\u001b[0m\n\u001b[0;32m-> 3798\u001b[0;31m             \u001b[0;32mraise\u001b[0m \u001b[0mKeyError\u001b[0m\u001b[0;34m(\u001b[0m\u001b[0mkey\u001b[0m\u001b[0;34m)\u001b[0m \u001b[0;32mfrom\u001b[0m \u001b[0merr\u001b[0m\u001b[0;34m\u001b[0m\u001b[0;34m\u001b[0m\u001b[0m\n\u001b[0m\u001b[1;32m   3799\u001b[0m         \u001b[0;32mexcept\u001b[0m \u001b[0mTypeError\u001b[0m\u001b[0;34m:\u001b[0m\u001b[0;34m\u001b[0m\u001b[0;34m\u001b[0m\u001b[0m\n\u001b[1;32m   3800\u001b[0m             \u001b[0;31m# If we have a listlike key, _check_indexing_error will raise\u001b[0m\u001b[0;34m\u001b[0m\u001b[0;34m\u001b[0m\u001b[0m\n",
            "\u001b[0;31mKeyError\u001b[0m: 'total_ic_mou_9'"
          ]
        }
      ]
    },
    {
      "cell_type": "code",
      "source": [
        "# Print the available columns to verify\n",
        "print(df.columns)\n"
      ],
      "metadata": {
        "colab": {
          "base_uri": "https://localhost:8080/"
        },
        "id": "tLH3INl2cjS7",
        "outputId": "f308658c-7d89-4516-8274-b973b78ab3ce"
      },
      "execution_count": null,
      "outputs": [
        {
          "output_type": "stream",
          "name": "stdout",
          "text": [
            "Index(['mobile_number', 'circle_id', 'loc_og_t2o_mou', 'std_og_t2o_mou',\n",
            "       'loc_ic_t2o_mou', 'arpu_6', 'sachet_3g_9', 'fb_user_6', 'fb_user_7',\n",
            "       'fb_user_8', 'fb_user_9', 'aon', 'aug_vbc_3g', 'jul_vbc_3g',\n",
            "       'jun_vbc_3g', 'sep_vbc_3g', 'total_rech_amt_6', 'total_rech_amt_7',\n",
            "       'avg_recharge_amt', 'churn'],\n",
            "      dtype='object')\n"
          ]
        }
      ]
    },
    {
      "cell_type": "code",
      "source": [
        "# Find columns related to the churn phase by checking for '_9' in their names\n",
        "churn_phase_columns = [col for col in df.columns if '_9' in col]\n",
        "print(churn_phase_columns)\n"
      ],
      "metadata": {
        "colab": {
          "base_uri": "https://localhost:8080/"
        },
        "id": "QqJS6x0JcjZo",
        "outputId": "fa21f479-930c-44bd-b939-36af6995f913"
      },
      "execution_count": null,
      "outputs": [
        {
          "output_type": "stream",
          "name": "stdout",
          "text": [
            "['sachet_3g_9', 'fb_user_9']\n"
          ]
        }
      ]
    },
    {
      "cell_type": "code",
      "source": [
        "import pandas as pd\n",
        "\n",
        "# Assuming df is your DataFrame\n",
        "\n",
        "# Identify churn phase columns\n",
        "churn_phase_columns = [col for col in df.columns if '_9' in col]\n",
        "print(\"Churn phase columns:\", churn_phase_columns)\n",
        "\n",
        "# Define churn criteria based on available columns\n",
        "df['churn'] = (\n",
        "    (df['loc_og_t2o_mou'] == 0) &\n",
        "    (df['std_og_t2o_mou'] == 0) &\n",
        "    (df['sachet_3g_9'].fillna(0) == 0)\n",
        ").astype(int)\n",
        "\n",
        "# Drop churn phase columns\n",
        "df_cleaned = df.drop(columns=churn_phase_columns)\n",
        "print(\"Remaining columns after cleaning:\", df_cleaned.columns)\n"
      ],
      "metadata": {
        "colab": {
          "base_uri": "https://localhost:8080/"
        },
        "id": "AyktuzZwdfKF",
        "outputId": "046859c2-db44-4774-ce4d-7e999e2a6f3b"
      },
      "execution_count": null,
      "outputs": [
        {
          "output_type": "stream",
          "name": "stdout",
          "text": [
            "Churn phase columns: ['sachet_3g_9', 'fb_user_9']\n",
            "Remaining columns after cleaning: Index(['mobile_number', 'circle_id', 'loc_og_t2o_mou', 'std_og_t2o_mou',\n",
            "       'loc_ic_t2o_mou', 'arpu_6', 'fb_user_6', 'fb_user_7', 'fb_user_8',\n",
            "       'aon', 'aug_vbc_3g', 'jul_vbc_3g', 'jun_vbc_3g', 'sep_vbc_3g',\n",
            "       'total_rech_amt_6', 'total_rech_amt_7', 'avg_recharge_amt', 'churn'],\n",
            "      dtype='object')\n"
          ]
        }
      ]
    },
    {
      "cell_type": "code",
      "source": [
        "print(df_cleaned.columns)"
      ],
      "metadata": {
        "id": "kjNU4bQ6el4G",
        "colab": {
          "base_uri": "https://localhost:8080/"
        },
        "outputId": "af2d70c4-3f79-4152-a019-935978af2f9b"
      },
      "execution_count": null,
      "outputs": [
        {
          "output_type": "stream",
          "name": "stdout",
          "text": [
            "Index(['mobile_number', 'circle_id', 'loc_og_t2o_mou', 'std_og_t2o_mou',\n",
            "       'loc_ic_t2o_mou', 'arpu_6', 'fb_user_6', 'fb_user_7', 'fb_user_8',\n",
            "       'aon', 'aug_vbc_3g', 'jul_vbc_3g', 'jun_vbc_3g', 'sep_vbc_3g',\n",
            "       'total_rech_amt_6', 'total_rech_amt_7', 'avg_recharge_amt', 'churn'],\n",
            "      dtype='object')\n"
          ]
        }
      ]
    },
    {
      "cell_type": "code",
      "source": [
        "# List of churn phase columns to remove\n",
        "churn_phase_columns = [col for col in df_cleaned.columns if '_9' in col] # Use df_cleaned instead of data_cleaned\n",
        "\n",
        "# Drop churn phase columns\n",
        "df_cleaned = df_cleaned.drop(columns=churn_phase_columns) # Use df_cleaned instead of data_cleaned"
      ],
      "metadata": {
        "id": "IHQAepcUe0V5"
      },
      "execution_count": null,
      "outputs": []
    },
    {
      "cell_type": "code",
      "source": [
        "import pandas as pd\n",
        "from imblearn.over_sampling import SMOTE\n",
        "\n",
        "# ... (Your existing code)\n",
        "\n",
        "# Check the class distribution in y_train\n",
        "print(y_train.value_counts())  # Use value_counts() for a clearer view\n",
        "\n",
        "# If y_train only contains one class, investigate why and fix the issue\n",
        "# For example, check if the churn criteria are too strict,\n",
        "# or if there's an issue with how y_train was created\n",
        "\n",
        "# Adjust data splitting or target variable definition as needed\n",
        "\n",
        "# Only proceed with SMOTE if y_train has more than one class\n",
        "if len(y_train.unique()) > 1:\n",
        "    smote = SMOTE(random_state=42)\n",
        "    X_resampled, y_resampled = smote.fit_resample(X_train, y_train)\n",
        "\n",
        "    # ... (Your remaining code)\n",
        "else:\n",
        "    print(\"Warning: y_train contains only one class. SMOTE cannot be applied.\")"
      ],
      "metadata": {
        "colab": {
          "base_uri": "https://localhost:8080/"
        },
        "id": "eu9WI3sJfu14",
        "outputId": "2f5ced3d-cb4f-4401-b159-fbba2738f83c"
      },
      "execution_count": null,
      "outputs": [
        {
          "output_type": "stream",
          "name": "stdout",
          "text": [
            "churn\n",
            "False    4\n",
            "Name: count, dtype: int64\n",
            "Warning: y_train contains only one class. SMOTE cannot be applied.\n"
          ]
        }
      ]
    },
    {
      "cell_type": "code",
      "source": [
        "print(y_train.value_counts())\n",
        "print(y_test.value_counts())\n"
      ],
      "metadata": {
        "colab": {
          "base_uri": "https://localhost:8080/"
        },
        "id": "gmbhM0hsfvBW",
        "outputId": "d933ffb5-a3de-4bcc-815b-8c468d871587"
      },
      "execution_count": null,
      "outputs": [
        {
          "output_type": "stream",
          "name": "stdout",
          "text": [
            "churn\n",
            "False    4\n",
            "Name: count, dtype: int64\n",
            "churn\n",
            "False    1\n",
            "Name: count, dtype: int64\n"
          ]
        }
      ]
    },
    {
      "cell_type": "code",
      "source": [
        "from sklearn.linear_model import LogisticRegression\n",
        "\n",
        "model = LogisticRegression(class_weight='balanced')\n",
        "model.fit(X_train, y_train)\n"
      ],
      "metadata": {
        "colab": {
          "base_uri": "https://localhost:8080/",
          "height": 233
        },
        "id": "v5n-3ejJfvGV",
        "outputId": "a4a274b5-3469-4891-81b8-08350092b436"
      },
      "execution_count": null,
      "outputs": [
        {
          "output_type": "stream",
          "name": "stderr",
          "text": [
            "/usr/local/lib/python3.10/dist-packages/sklearn/linear_model/_logistic.py:460: ConvergenceWarning: lbfgs failed to converge (status=1):\n",
            "STOP: TOTAL NO. of ITERATIONS REACHED LIMIT.\n",
            "\n",
            "Increase the number of iterations (max_iter) or scale the data as shown in:\n",
            "    https://scikit-learn.org/stable/modules/preprocessing.html\n",
            "Please also refer to the documentation for alternative solver options:\n",
            "    https://scikit-learn.org/stable/modules/linear_model.html#logistic-regression\n",
            "  n_iter_i = _check_optimize_result(\n"
          ]
        },
        {
          "output_type": "execute_result",
          "data": {
            "text/plain": [
              "LogisticRegression(class_weight='balanced')"
            ],
            "text/html": [
              "<style>#sk-container-id-2 {color: black;}#sk-container-id-2 pre{padding: 0;}#sk-container-id-2 div.sk-toggleable {background-color: white;}#sk-container-id-2 label.sk-toggleable__label {cursor: pointer;display: block;width: 100%;margin-bottom: 0;padding: 0.3em;box-sizing: border-box;text-align: center;}#sk-container-id-2 label.sk-toggleable__label-arrow:before {content: \"▸\";float: left;margin-right: 0.25em;color: #696969;}#sk-container-id-2 label.sk-toggleable__label-arrow:hover:before {color: black;}#sk-container-id-2 div.sk-estimator:hover label.sk-toggleable__label-arrow:before {color: black;}#sk-container-id-2 div.sk-toggleable__content {max-height: 0;max-width: 0;overflow: hidden;text-align: left;background-color: #f0f8ff;}#sk-container-id-2 div.sk-toggleable__content pre {margin: 0.2em;color: black;border-radius: 0.25em;background-color: #f0f8ff;}#sk-container-id-2 input.sk-toggleable__control:checked~div.sk-toggleable__content {max-height: 200px;max-width: 100%;overflow: auto;}#sk-container-id-2 input.sk-toggleable__control:checked~label.sk-toggleable__label-arrow:before {content: \"▾\";}#sk-container-id-2 div.sk-estimator input.sk-toggleable__control:checked~label.sk-toggleable__label {background-color: #d4ebff;}#sk-container-id-2 div.sk-label input.sk-toggleable__control:checked~label.sk-toggleable__label {background-color: #d4ebff;}#sk-container-id-2 input.sk-hidden--visually {border: 0;clip: rect(1px 1px 1px 1px);clip: rect(1px, 1px, 1px, 1px);height: 1px;margin: -1px;overflow: hidden;padding: 0;position: absolute;width: 1px;}#sk-container-id-2 div.sk-estimator {font-family: monospace;background-color: #f0f8ff;border: 1px dotted black;border-radius: 0.25em;box-sizing: border-box;margin-bottom: 0.5em;}#sk-container-id-2 div.sk-estimator:hover {background-color: #d4ebff;}#sk-container-id-2 div.sk-parallel-item::after {content: \"\";width: 100%;border-bottom: 1px solid gray;flex-grow: 1;}#sk-container-id-2 div.sk-label:hover label.sk-toggleable__label {background-color: #d4ebff;}#sk-container-id-2 div.sk-serial::before {content: \"\";position: absolute;border-left: 1px solid gray;box-sizing: border-box;top: 0;bottom: 0;left: 50%;z-index: 0;}#sk-container-id-2 div.sk-serial {display: flex;flex-direction: column;align-items: center;background-color: white;padding-right: 0.2em;padding-left: 0.2em;position: relative;}#sk-container-id-2 div.sk-item {position: relative;z-index: 1;}#sk-container-id-2 div.sk-parallel {display: flex;align-items: stretch;justify-content: center;background-color: white;position: relative;}#sk-container-id-2 div.sk-item::before, #sk-container-id-2 div.sk-parallel-item::before {content: \"\";position: absolute;border-left: 1px solid gray;box-sizing: border-box;top: 0;bottom: 0;left: 50%;z-index: -1;}#sk-container-id-2 div.sk-parallel-item {display: flex;flex-direction: column;z-index: 1;position: relative;background-color: white;}#sk-container-id-2 div.sk-parallel-item:first-child::after {align-self: flex-end;width: 50%;}#sk-container-id-2 div.sk-parallel-item:last-child::after {align-self: flex-start;width: 50%;}#sk-container-id-2 div.sk-parallel-item:only-child::after {width: 0;}#sk-container-id-2 div.sk-dashed-wrapped {border: 1px dashed gray;margin: 0 0.4em 0.5em 0.4em;box-sizing: border-box;padding-bottom: 0.4em;background-color: white;}#sk-container-id-2 div.sk-label label {font-family: monospace;font-weight: bold;display: inline-block;line-height: 1.2em;}#sk-container-id-2 div.sk-label-container {text-align: center;}#sk-container-id-2 div.sk-container {/* jupyter's `normalize.less` sets `[hidden] { display: none; }` but bootstrap.min.css set `[hidden] { display: none !important; }` so we also need the `!important` here to be able to override the default hidden behavior on the sphinx rendered scikit-learn.org. See: https://github.com/scikit-learn/scikit-learn/issues/21755 */display: inline-block !important;position: relative;}#sk-container-id-2 div.sk-text-repr-fallback {display: none;}</style><div id=\"sk-container-id-2\" class=\"sk-top-container\"><div class=\"sk-text-repr-fallback\"><pre>LogisticRegression(class_weight=&#x27;balanced&#x27;)</pre><b>In a Jupyter environment, please rerun this cell to show the HTML representation or trust the notebook. <br />On GitHub, the HTML representation is unable to render, please try loading this page with nbviewer.org.</b></div><div class=\"sk-container\" hidden><div class=\"sk-item\"><div class=\"sk-estimator sk-toggleable\"><input class=\"sk-toggleable__control sk-hidden--visually\" id=\"sk-estimator-id-2\" type=\"checkbox\" checked><label for=\"sk-estimator-id-2\" class=\"sk-toggleable__label sk-toggleable__label-arrow\">LogisticRegression</label><div class=\"sk-toggleable__content\"><pre>LogisticRegression(class_weight=&#x27;balanced&#x27;)</pre></div></div></div></div></div>"
            ]
          },
          "metadata": {},
          "execution_count": 84
        }
      ]
    },
    {
      "cell_type": "code",
      "source": [
        "from sklearn.ensemble import RandomForestClassifier\n",
        "\n",
        "# Adjust class weights\n",
        "rf_model = RandomForestClassifier(class_weight='balanced')\n",
        "rf_model.fit(X_train, y_train)\n"
      ],
      "metadata": {
        "colab": {
          "base_uri": "https://localhost:8080/",
          "height": 74
        },
        "id": "k3qq6GCofvMn",
        "outputId": "a0ffd511-e277-4ad9-9e1b-98a711b4d6b3"
      },
      "execution_count": null,
      "outputs": [
        {
          "output_type": "execute_result",
          "data": {
            "text/plain": [
              "RandomForestClassifier(class_weight='balanced')"
            ],
            "text/html": [
              "<style>#sk-container-id-1 {color: black;}#sk-container-id-1 pre{padding: 0;}#sk-container-id-1 div.sk-toggleable {background-color: white;}#sk-container-id-1 label.sk-toggleable__label {cursor: pointer;display: block;width: 100%;margin-bottom: 0;padding: 0.3em;box-sizing: border-box;text-align: center;}#sk-container-id-1 label.sk-toggleable__label-arrow:before {content: \"▸\";float: left;margin-right: 0.25em;color: #696969;}#sk-container-id-1 label.sk-toggleable__label-arrow:hover:before {color: black;}#sk-container-id-1 div.sk-estimator:hover label.sk-toggleable__label-arrow:before {color: black;}#sk-container-id-1 div.sk-toggleable__content {max-height: 0;max-width: 0;overflow: hidden;text-align: left;background-color: #f0f8ff;}#sk-container-id-1 div.sk-toggleable__content pre {margin: 0.2em;color: black;border-radius: 0.25em;background-color: #f0f8ff;}#sk-container-id-1 input.sk-toggleable__control:checked~div.sk-toggleable__content {max-height: 200px;max-width: 100%;overflow: auto;}#sk-container-id-1 input.sk-toggleable__control:checked~label.sk-toggleable__label-arrow:before {content: \"▾\";}#sk-container-id-1 div.sk-estimator input.sk-toggleable__control:checked~label.sk-toggleable__label {background-color: #d4ebff;}#sk-container-id-1 div.sk-label input.sk-toggleable__control:checked~label.sk-toggleable__label {background-color: #d4ebff;}#sk-container-id-1 input.sk-hidden--visually {border: 0;clip: rect(1px 1px 1px 1px);clip: rect(1px, 1px, 1px, 1px);height: 1px;margin: -1px;overflow: hidden;padding: 0;position: absolute;width: 1px;}#sk-container-id-1 div.sk-estimator {font-family: monospace;background-color: #f0f8ff;border: 1px dotted black;border-radius: 0.25em;box-sizing: border-box;margin-bottom: 0.5em;}#sk-container-id-1 div.sk-estimator:hover {background-color: #d4ebff;}#sk-container-id-1 div.sk-parallel-item::after {content: \"\";width: 100%;border-bottom: 1px solid gray;flex-grow: 1;}#sk-container-id-1 div.sk-label:hover label.sk-toggleable__label {background-color: #d4ebff;}#sk-container-id-1 div.sk-serial::before {content: \"\";position: absolute;border-left: 1px solid gray;box-sizing: border-box;top: 0;bottom: 0;left: 50%;z-index: 0;}#sk-container-id-1 div.sk-serial {display: flex;flex-direction: column;align-items: center;background-color: white;padding-right: 0.2em;padding-left: 0.2em;position: relative;}#sk-container-id-1 div.sk-item {position: relative;z-index: 1;}#sk-container-id-1 div.sk-parallel {display: flex;align-items: stretch;justify-content: center;background-color: white;position: relative;}#sk-container-id-1 div.sk-item::before, #sk-container-id-1 div.sk-parallel-item::before {content: \"\";position: absolute;border-left: 1px solid gray;box-sizing: border-box;top: 0;bottom: 0;left: 50%;z-index: -1;}#sk-container-id-1 div.sk-parallel-item {display: flex;flex-direction: column;z-index: 1;position: relative;background-color: white;}#sk-container-id-1 div.sk-parallel-item:first-child::after {align-self: flex-end;width: 50%;}#sk-container-id-1 div.sk-parallel-item:last-child::after {align-self: flex-start;width: 50%;}#sk-container-id-1 div.sk-parallel-item:only-child::after {width: 0;}#sk-container-id-1 div.sk-dashed-wrapped {border: 1px dashed gray;margin: 0 0.4em 0.5em 0.4em;box-sizing: border-box;padding-bottom: 0.4em;background-color: white;}#sk-container-id-1 div.sk-label label {font-family: monospace;font-weight: bold;display: inline-block;line-height: 1.2em;}#sk-container-id-1 div.sk-label-container {text-align: center;}#sk-container-id-1 div.sk-container {/* jupyter's `normalize.less` sets `[hidden] { display: none; }` but bootstrap.min.css set `[hidden] { display: none !important; }` so we also need the `!important` here to be able to override the default hidden behavior on the sphinx rendered scikit-learn.org. See: https://github.com/scikit-learn/scikit-learn/issues/21755 */display: inline-block !important;position: relative;}#sk-container-id-1 div.sk-text-repr-fallback {display: none;}</style><div id=\"sk-container-id-1\" class=\"sk-top-container\"><div class=\"sk-text-repr-fallback\"><pre>RandomForestClassifier(class_weight=&#x27;balanced&#x27;)</pre><b>In a Jupyter environment, please rerun this cell to show the HTML representation or trust the notebook. <br />On GitHub, the HTML representation is unable to render, please try loading this page with nbviewer.org.</b></div><div class=\"sk-container\" hidden><div class=\"sk-item\"><div class=\"sk-estimator sk-toggleable\"><input class=\"sk-toggleable__control sk-hidden--visually\" id=\"sk-estimator-id-1\" type=\"checkbox\" checked><label for=\"sk-estimator-id-1\" class=\"sk-toggleable__label sk-toggleable__label-arrow\">RandomForestClassifier</label><div class=\"sk-toggleable__content\"><pre>RandomForestClassifier(class_weight=&#x27;balanced&#x27;)</pre></div></div></div></div></div>"
            ]
          },
          "metadata": {},
          "execution_count": 61
        }
      ]
    },
    {
      "cell_type": "code",
      "source": [
        "from sklearn.model_selection import train_test_split\n",
        "\n",
        "# Ensure correct split\n",
        "X_train, X_test, y_train, y_test = train_test_split(X, y, test_size=0.3, random_state=42)\n",
        "\n",
        "print(y_train.value_counts())\n",
        "print(y_test.value_counts())\n"
      ],
      "metadata": {
        "colab": {
          "base_uri": "https://localhost:8080/"
        },
        "id": "A6jcP5OngkWn",
        "outputId": "799b61b4-a6c8-401c-b8a3-ea55010ab086"
      },
      "execution_count": null,
      "outputs": [
        {
          "output_type": "stream",
          "name": "stdout",
          "text": [
            "churn\n",
            "False    3\n",
            "Name: count, dtype: int64\n",
            "churn\n",
            "False    2\n",
            "Name: count, dtype: int64\n"
          ]
        }
      ]
    },
    {
      "cell_type": "code",
      "source": [
        "print(\"Class distribution in the entire dataset:\")\n",
        "print(y.value_counts())\n"
      ],
      "metadata": {
        "id": "ShwlVhuOgkkl"
      },
      "execution_count": null,
      "outputs": []
    },
    {
      "cell_type": "code",
      "source": [
        "from sklearn.model_selection import train_test_split\n",
        "\n",
        "# Perform stratified split to maintain class distribution\n",
        "X_train, X_test, y_train, y_test = train_test_split(X, y, test_size=0.3, stratify=y, random_state=42)\n",
        "\n",
        "print(\"Class distribution in training set:\")\n",
        "print(y_train.value_counts())\n",
        "\n",
        "print(\"Class distribution in test set:\")\n",
        "print(y_test.value_counts())\n"
      ],
      "metadata": {
        "id": "RfoQuHq_hDlz",
        "outputId": "7e9f06ad-9ad6-40ae-b131-9b526e06e349",
        "colab": {
          "base_uri": "https://localhost:8080/"
        }
      },
      "execution_count": null,
      "outputs": [
        {
          "output_type": "stream",
          "name": "stdout",
          "text": [
            "Class distribution in training set:\n",
            "churn\n",
            "False    3\n",
            "Name: count, dtype: int64\n",
            "Class distribution in test set:\n",
            "churn\n",
            "False    2\n",
            "Name: count, dtype: int64\n"
          ]
        }
      ]
    },
    {
      "cell_type": "markdown",
      "source": [
        "# Data Cleaning and Feature Engineering"
      ],
      "metadata": {
        "id": "bBIx6nqSUO2-"
      }
    },
    {
      "cell_type": "code",
      "source": [
        "import pandas as pd\n",
        "\n",
        "# Load the data with the correct file path\n",
        "file_path = '/content/drive/MyDrive/telecom_churn_data (1).csv'\n",
        "df = pd.read_csv(file_path)\n",
        "\n",
        "# Proceed with data preparation\n",
        "# 1.1 Clean and Preprocess the Data\n",
        "df.dropna(inplace=True)\n",
        "\n",
        "# Convert categorical columns to numeric if necessary\n",
        "# For example, if there are any categorical columns, you can use pd.get_dummies\n",
        "# df = pd.get_dummies(df, columns=['categorical_column'])\n",
        "\n",
        "# 1.2 Identify High-Value Customers\n",
        "df['avg_recharge_amt'] = df[['total_rech_amt_6', 'total_rech_amt_7']].mean(axis=1)\n",
        "high_value_threshold = df['avg_recharge_amt'].quantile(0.7)\n",
        "high_value_customers = df[df['avg_recharge_amt'] >= high_value_threshold]\n",
        "\n",
        "# 1.3 Tag Churners\n",
        "churn_criteria = (high_value_customers['total_ic_mou_9'] == 0) & \\\n",
        "                 (high_value_customers['total_og_mou_9'] == 0) & \\\n",
        "                 (high_value_customers['vol_2g_mb_9'] == 0) & \\\n",
        "                 (high_value_customers['vol_3g_mb_9'] == 0)\n",
        "high_value_customers['churn'] = churn_criteria.astype(int)\n",
        "\n",
        "# Remove churn phase columns\n",
        "churn_phase_columns = [col for col in high_value_customers.columns if '_9' in col]\n",
        "df_cleaned = high_value_customers.drop(columns=churn_phase_columns)\n",
        "\n",
        "# Inspect the cleaned DataFrame\n",
        "print(df_cleaned.head())\n",
        "print(df_cleaned.columns)\n"
      ],
      "metadata": {
        "colab": {
          "base_uri": "https://localhost:8080/"
        },
        "id": "MMLe1xo_Aaum",
        "outputId": "17169c79-f3d2-413a-ffcc-1046bcb0c963"
      },
      "execution_count": null,
      "outputs": [
        {
          "output_type": "stream",
          "name": "stdout",
          "text": [
            "    mobile_number  circle_id  loc_og_t2o_mou  std_og_t2o_mou  loc_ic_t2o_mou  \\\n",
            "33     7000149764        109             0.0             0.0             0.0   \n",
            "53     7002188521        109             0.0             0.0             0.0   \n",
            "57     7001682585        109             0.0             0.0             0.0   \n",
            "61     7000152517        109             0.0             0.0             0.0   \n",
            "92     7001606600        109             0.0             0.0             0.0   \n",
            "\n",
            "   last_date_of_month_6 last_date_of_month_7 last_date_of_month_8    arpu_6  \\\n",
            "33            6/30/2014            7/31/2014            8/31/2014   977.020   \n",
            "53            6/30/2014            7/31/2014            8/31/2014   978.077   \n",
            "57            6/30/2014            7/31/2014            8/31/2014  1201.298   \n",
            "61            6/30/2014            7/31/2014            8/31/2014   565.516   \n",
            "92            6/30/2014            7/31/2014            8/31/2014   465.794   \n",
            "\n",
            "      arpu_7  ...  fb_user_6  fb_user_7  fb_user_8   aon  aug_vbc_3g  \\\n",
            "33  2362.833  ...        1.0        1.0        1.0  1328      358.10   \n",
            "53  1141.296  ...        1.0        0.0        0.0   697        0.00   \n",
            "57   687.704  ...        1.0        1.0        1.0  3106     1799.09   \n",
            "61   390.307  ...        1.0        1.0        1.0  1131        0.00   \n",
            "92   530.596  ...        1.0        1.0        1.0  3226        0.00   \n",
            "\n",
            "    jul_vbc_3g  jun_vbc_3g  sep_vbc_3g  avg_recharge_amt  churn  \n",
            "33     2706.83     1714.67         0.0            1932.0      0  \n",
            "53        0.00        0.00         0.0            1265.5      0  \n",
            "57     3649.39     1892.32         0.0            1147.0      0  \n",
            "61        0.00        0.00         0.0             573.0      0  \n",
            "92        0.00        0.00         0.0             591.0      0  \n",
            "\n",
            "[5 rows x 174 columns]\n",
            "Index(['mobile_number', 'circle_id', 'loc_og_t2o_mou', 'std_og_t2o_mou',\n",
            "       'loc_ic_t2o_mou', 'last_date_of_month_6', 'last_date_of_month_7',\n",
            "       'last_date_of_month_8', 'arpu_6', 'arpu_7',\n",
            "       ...\n",
            "       'fb_user_6', 'fb_user_7', 'fb_user_8', 'aon', 'aug_vbc_3g',\n",
            "       'jul_vbc_3g', 'jun_vbc_3g', 'sep_vbc_3g', 'avg_recharge_amt', 'churn'],\n",
            "      dtype='object', length=174)\n"
          ]
        },
        {
          "output_type": "stream",
          "name": "stderr",
          "text": [
            "<ipython-input-64-5e95a3015c76>:25: SettingWithCopyWarning: \n",
            "A value is trying to be set on a copy of a slice from a DataFrame.\n",
            "Try using .loc[row_indexer,col_indexer] = value instead\n",
            "\n",
            "See the caveats in the documentation: https://pandas.pydata.org/pandas-docs/stable/user_guide/indexing.html#returning-a-view-versus-a-copy\n",
            "  high_value_customers['churn'] = churn_criteria.astype(int)\n"
          ]
        }
      ]
    },
    {
      "cell_type": "code",
      "source": [
        "df.columns"
      ],
      "metadata": {
        "colab": {
          "base_uri": "https://localhost:8080/"
        },
        "id": "IfIUKN9xHNKO",
        "outputId": "70284421-63db-4620-cf6b-74796b109f58"
      },
      "execution_count": null,
      "outputs": [
        {
          "output_type": "execute_result",
          "data": {
            "text/plain": [
              "Index(['mobile_number', 'circle_id', 'loc_og_t2o_mou', 'std_og_t2o_mou',\n",
              "       'loc_ic_t2o_mou', 'last_date_of_month_6', 'last_date_of_month_7',\n",
              "       'last_date_of_month_8', 'last_date_of_month_9', 'arpu_6',\n",
              "       ...\n",
              "       'fb_user_6', 'fb_user_7', 'fb_user_8', 'fb_user_9', 'aon', 'aug_vbc_3g',\n",
              "       'jul_vbc_3g', 'jun_vbc_3g', 'sep_vbc_3g', 'avg_recharge_amt'],\n",
              "      dtype='object', length=227)"
            ]
          },
          "metadata": {},
          "execution_count": 65
        }
      ]
    },
    {
      "cell_type": "code",
      "source": [
        "# Inspect DataFrame columns\n",
        "print(df.columns)\n"
      ],
      "metadata": {
        "colab": {
          "base_uri": "https://localhost:8080/"
        },
        "id": "2qN-sFfOISvH",
        "outputId": "27567de7-c01a-4af0-f04d-2ce9b10a046b"
      },
      "execution_count": null,
      "outputs": [
        {
          "output_type": "stream",
          "name": "stdout",
          "text": [
            "Index(['mobile_number', 'circle_id', 'loc_og_t2o_mou', 'std_og_t2o_mou',\n",
            "       'loc_ic_t2o_mou', 'last_date_of_month_6', 'last_date_of_month_7',\n",
            "       'last_date_of_month_8', 'last_date_of_month_9', 'arpu_6',\n",
            "       ...\n",
            "       'fb_user_6', 'fb_user_7', 'fb_user_8', 'fb_user_9', 'aon', 'aug_vbc_3g',\n",
            "       'jul_vbc_3g', 'jun_vbc_3g', 'sep_vbc_3g', 'avg_recharge_amt'],\n",
            "      dtype='object', length=227)\n"
          ]
        }
      ]
    },
    {
      "cell_type": "code",
      "source": [
        "import pandas as pd\n",
        "from sklearn.model_selection import train_test_split\n",
        "from imblearn.over_sampling import SMOTE\n",
        "from sklearn.linear_model import LogisticRegression\n",
        "from sklearn.metrics import classification_report, confusion_matrix, roc_auc_score\n",
        "import seaborn as sns\n",
        "import matplotlib.pyplot as plt\n",
        "\n",
        "# Load the data\n",
        "df = pd.read_csv(r'/content/drive/MyDrive/telecom_churn_data (1).csv')\n",
        "\n",
        "# Print the first few rows to understand the data structure\n",
        "print(df.head())\n",
        "\n",
        "# Calculate average recharge amount\n",
        "# Check if the recharge amount columns exist and calculate the average\n",
        "recharge_columns = ['total_rech_amt_6', 'total_rech_amt_7', 'total_rech_amt_8']\n",
        "if all(col in df.columns for col in recharge_columns):\n",
        "    df['avg_recharge_amt'] = df[recharge_columns].mean(axis=1)\n",
        "else:\n",
        "    print(\"Recharge amount columns are not found in the dataset.\")\n",
        "\n",
        "# Identify high-value customers\n",
        "high_value_threshold = df['avg_recharge_amt'].quantile(0.70)\n",
        "high_value_customers = df[df['avg_recharge_amt'] >= high_value_threshold]\n",
        "\n",
        "# Create churn column based on some criteria\n",
        "# Assuming churn is defined if total recharge amount is 0 in the last month (for simplicity)\n",
        "high_value_customers['churn'] = (high_value_customers['total_rech_amt_9'] == 0).astype(int)\n",
        "\n",
        "# Drop date columns\n",
        "date_columns = ['last_date_of_month_6', 'last_date_of_month_7', 'last_date_of_month_8', 'last_date_of_month_9']\n",
        "df_cleaned = high_value_customers.drop(columns=date_columns)\n",
        "\n",
        "# Ensure numeric conversion and fill NaNs with 0\n",
        "df_cleaned = df_cleaned.apply(pd.to_numeric, errors='coerce').fillna(0)\n",
        "\n",
        "# Separate features and target variable\n",
        "X = df_cleaned.drop(columns=['mobile_number', 'churn'])\n",
        "y = df_cleaned['churn']\n",
        "\n",
        "# Split the data into training and testing sets\n",
        "X_train, X_test, y_train, y_test = train_test_split(X, y, test_size=0.3, random_state=42, stratify=y)\n",
        "\n",
        "# Check the class distribution in the training set\n",
        "print(\"Class distribution in y_train:\")\n",
        "print(y_train.value_counts())\n",
        "\n",
        "# Apply SMOTE to balance the classes in the training set\n",
        "smote = SMOTE(random_state=42, k_neighbors=1)\n",
        "X_resampled, y_resampled = smote.fit_resample(X_train, y_train)\n",
        "\n",
        "# Train the Logistic Regression Model\n",
        "model = LogisticRegression(class_weight='balanced', max_iter=1000)\n",
        "model.fit(X_resampled, y_resampled)\n",
        "\n",
        "# Evaluate the model on the test set\n",
        "y_pred = model.predict(X_test)\n",
        "y_pred_proba = model.predict_proba(X_test)[:, 1]\n",
        "\n",
        "# Classification report and confusion matrix\n",
        "print(classification_report(y_test, y_pred))\n",
        "print(confusion_matrix(y_test, y_pred))\n",
        "\n",
        "# ROC AUC Score\n",
        "roc_auc = roc_auc_score(y_test, y_pred_proba)\n",
        "print(f'ROC AUC Score: {roc_auc:.2f}')\n",
        "\n",
        "# Identify Important Predictors\n",
        "coefficients = model.coef_[0]\n",
        "features = X.columns\n",
        "important_features = pd.DataFrame({'Feature': features, 'Coefficient': coefficients})\n",
        "important_features['Abs_Coefficient'] = important_features['Coefficient'].abs()\n",
        "important_features = important_features.sort_values(by='Abs_Coefficient', ascending=False).head(10)\n",
        "\n",
        "# Visualize the important features\n",
        "plt.figure(figsize=(10, 6))\n",
        "sns.barplot(x='Abs_Coefficient', y='Feature', data=important_features, palette='viridis')\n",
        "plt.title('Top 10 Important Features for Churn Prediction')\n",
        "plt.xlabel('Absolute Coefficient Value')\n",
        "plt.ylabel('Feature')\n",
        "plt.show()\n",
        "\n",
        "# Recommendations\n",
        "print(\"Recommendations to manage customer churn based on the identified important features:\")\n",
        "print(\"1. Monitor the usage patterns of customers for early signs of churn and offer personalized plans.\")\n",
        "print(\"2. Increase customer engagement through targeted promotions and loyalty programs.\")\n",
        "print(\"3. Improve customer service quality to enhance overall customer satisfaction and reduce churn risk.\")\n"
      ],
      "metadata": {
        "colab": {
          "base_uri": "https://localhost:8080/",
          "height": 1000
        },
        "id": "w265_LHTIS7M",
        "outputId": "81afe118-3302-4ade-839c-6b96144a8a8c"
      },
      "execution_count": null,
      "outputs": [
        {
          "output_type": "stream",
          "name": "stdout",
          "text": [
            "   mobile_number  circle_id  loc_og_t2o_mou  std_og_t2o_mou  loc_ic_t2o_mou  \\\n",
            "0     7000842753        109             0.0             0.0             0.0   \n",
            "1     7001865778        109             0.0             0.0             0.0   \n",
            "2     7001625959        109             0.0             0.0             0.0   \n",
            "3     7001204172        109             0.0             0.0             0.0   \n",
            "4     7000142493        109             0.0             0.0             0.0   \n",
            "\n",
            "  last_date_of_month_6 last_date_of_month_7 last_date_of_month_8  \\\n",
            "0            6/30/2014            7/31/2014            8/31/2014   \n",
            "1            6/30/2014            7/31/2014            8/31/2014   \n",
            "2            6/30/2014            7/31/2014            8/31/2014   \n",
            "3            6/30/2014            7/31/2014            8/31/2014   \n",
            "4            6/30/2014            7/31/2014            8/31/2014   \n",
            "\n",
            "  last_date_of_month_9   arpu_6  ...  sachet_3g_9  fb_user_6  fb_user_7  \\\n",
            "0            9/30/2014  197.385  ...            0        1.0        1.0   \n",
            "1            9/30/2014   34.047  ...            0        NaN        1.0   \n",
            "2            9/30/2014  167.690  ...            0        NaN        NaN   \n",
            "3            9/30/2014  221.338  ...            0        NaN        NaN   \n",
            "4            9/30/2014  261.636  ...            0        0.0        NaN   \n",
            "\n",
            "   fb_user_8  fb_user_9   aon  aug_vbc_3g  jul_vbc_3g  jun_vbc_3g  sep_vbc_3g  \n",
            "0        1.0        NaN   968        30.4         0.0      101.20        3.58  \n",
            "1        1.0        NaN  1006         0.0         0.0        0.00        0.00  \n",
            "2        NaN        1.0  1103         0.0         0.0        4.17        0.00  \n",
            "3        NaN        NaN  2491         0.0         0.0        0.00        0.00  \n",
            "4        NaN        NaN  1526         0.0         0.0        0.00        0.00  \n",
            "\n",
            "[5 rows x 226 columns]\n"
          ]
        },
        {
          "output_type": "stream",
          "name": "stderr",
          "text": [
            "<ipython-input-67-52c131e5b0a9>:29: SettingWithCopyWarning: \n",
            "A value is trying to be set on a copy of a slice from a DataFrame.\n",
            "Try using .loc[row_indexer,col_indexer] = value instead\n",
            "\n",
            "See the caveats in the documentation: https://pandas.pydata.org/pandas-docs/stable/user_guide/indexing.html#returning-a-view-versus-a-copy\n",
            "  high_value_customers['churn'] = (high_value_customers['total_rech_amt_9'] == 0).astype(int)\n"
          ]
        },
        {
          "output_type": "stream",
          "name": "stdout",
          "text": [
            "Class distribution in y_train:\n",
            "churn\n",
            "0    19324\n",
            "1     1692\n",
            "Name: count, dtype: int64\n"
          ]
        },
        {
          "output_type": "stream",
          "name": "stderr",
          "text": [
            "/usr/local/lib/python3.10/dist-packages/sklearn/linear_model/_logistic.py:460: ConvergenceWarning: lbfgs failed to converge (status=1):\n",
            "STOP: TOTAL NO. of ITERATIONS REACHED LIMIT.\n",
            "\n",
            "Increase the number of iterations (max_iter) or scale the data as shown in:\n",
            "    https://scikit-learn.org/stable/modules/preprocessing.html\n",
            "Please also refer to the documentation for alternative solver options:\n",
            "    https://scikit-learn.org/stable/modules/linear_model.html#logistic-regression\n",
            "  n_iter_i = _check_optimize_result(\n",
            "<ipython-input-67-52c131e5b0a9>:78: FutureWarning: \n",
            "\n",
            "Passing `palette` without assigning `hue` is deprecated and will be removed in v0.14.0. Assign the `y` variable to `hue` and set `legend=False` for the same effect.\n",
            "\n",
            "  sns.barplot(x='Abs_Coefficient', y='Feature', data=important_features, palette='viridis')\n"
          ]
        },
        {
          "output_type": "stream",
          "name": "stdout",
          "text": [
            "              precision    recall  f1-score   support\n",
            "\n",
            "           0       1.00      1.00      1.00      8283\n",
            "           1       1.00      1.00      1.00       725\n",
            "\n",
            "    accuracy                           1.00      9008\n",
            "   macro avg       1.00      1.00      1.00      9008\n",
            "weighted avg       1.00      1.00      1.00      9008\n",
            "\n",
            "[[8282    1]\n",
            " [   2  723]]\n",
            "ROC AUC Score: 1.00\n"
          ]
        },
        {
          "output_type": "display_data",
          "data": {
            "text/plain": [
              "<Figure size 1000x600 with 1 Axes>"
            ],
            "image/png": "[encoded data removed]"
          },
          "metadata": {}
        },
        {
          "output_type": "stream",
          "name": "stdout",
          "text": [
            "Recommendations to manage customer churn based on the identified important features:\n",
            "1. Monitor the usage patterns of customers for early signs of churn and offer personalized plans.\n",
            "2. Increase customer engagement through targeted promotions and loyalty programs.\n",
            "3. Improve customer service quality to enhance overall customer satisfaction and reduce churn risk.\n"
          ]
        }
      ]
    },
    {
      "cell_type": "code",
      "source": [
        "from sklearn.model_selection import train_test_split\n",
        "\n",
        "# Separate features and target variable\n",
        "X = df_cleaned.drop(columns=['mobile_number', 'churn'])\n",
        "y = df_cleaned['churn']\n",
        "\n",
        "# Split the data into training and testing sets with stratified sampling\n",
        "X_train, X_test, y_train, y_test = train_test_split(\n",
        "    X, y,\n",
        "    test_size=0.3,\n",
        "    random_state=42,\n",
        "    stratify=y\n",
        ")\n",
        "\n",
        "# Check the class distribution in the training and test sets\n",
        "print(\"Class distribution in y_train:\")\n",
        "print(y_train.value_counts())\n",
        "print(\"\\nClass distribution in y_test:\")\n",
        "print(y_test.value_counts())\n"
      ],
      "metadata": {
        "colab": {
          "base_uri": "https://localhost:8080/"
        },
        "id": "Z63vo2IWJw8Y",
        "outputId": "ed7d690e-8237-4680-e0df-8a393395e1c5"
      },
      "execution_count": null,
      "outputs": [
        {
          "output_type": "stream",
          "name": "stdout",
          "text": [
            "Class distribution in y_train:\n",
            "churn\n",
            "0    19324\n",
            "1     1692\n",
            "Name: count, dtype: int64\n",
            "\n",
            "Class distribution in y_test:\n",
            "churn\n",
            "0    8283\n",
            "1     725\n",
            "Name: count, dtype: int64\n"
          ]
        }
      ]
    },
    {
      "cell_type": "code",
      "source": [
        "from imblearn.over_sampling import SMOTE\n"
      ],
      "metadata": {
        "id": "b2F59CkeJw_z"
      },
      "execution_count": null,
      "outputs": []
    },
    {
      "cell_type": "code",
      "source": [
        "# Instantiate SMOTE\n",
        "smote = SMOTE(random_state=42)\n",
        "\n",
        "# Fit SMOTE to the training data\n",
        "X_train_resampled, y_train_resampled = smote.fit_resample(X_train, y_train)\n"
      ],
      "metadata": {
        "id": "XRk3ZXJ4LvFW"
      },
      "execution_count": null,
      "outputs": []
    },
    {
      "cell_type": "code",
      "source": [
        "from collections import Counter\n",
        "\n",
        "# Check the class distribution after resampling\n",
        "print(f\"Class distribution in the resampled training set: {Counter(y_train_resampled)}\")\n"
      ],
      "metadata": {
        "colab": {
          "base_uri": "https://localhost:8080/"
        },
        "id": "XZc3cJ4VLvKE",
        "outputId": "782fd497-498f-46c6-fade-3b13e9d69c15"
      },
      "execution_count": null,
      "outputs": [
        {
          "output_type": "stream",
          "name": "stdout",
          "text": [
            "Class distribution in the resampled training set: Counter({0: 19324, 1: 19324})\n"
          ]
        }
      ]
    },
    {
      "cell_type": "markdown",
      "source": [
        " Train the Logistic Regression Model"
      ],
      "metadata": {
        "id": "2zx_-KhbMTOQ"
      }
    },
    {
      "cell_type": "code",
      "source": [
        "from sklearn.linear_model import LogisticRegression\n",
        "from sklearn.metrics import classification_report, confusion_matrix\n",
        "import matplotlib.pyplot as plt\n",
        "import seaborn as sns\n",
        "\n",
        "# Initialize the logistic regression model\n",
        "model = LogisticRegression(class_weight='balanced', random_state=42)\n",
        "\n",
        "# Train the model on the resampled data\n",
        "model.fit(X_train_resampled, y_train_resampled)\n",
        "\n",
        "# Predict on the test set\n",
        "y_pred = model.predict(X_test)\n",
        "\n",
        "# Evaluate the model\n",
        "print(\"Confusion Matrix:\")\n",
        "print(confusion_matrix(y_test, y_pred))\n",
        "\n",
        "print(\"\\nClassification Report:\")\n",
        "print(classification_report(y_test, y_pred))\n",
        "\n",
        "# Optionally, plot the confusion matrix\n",
        "conf_matrix = confusion_matrix(y_test, y_pred)\n",
        "plt.figure(figsize=(8, 6))\n",
        "sns.heatmap(conf_matrix, annot=True, fmt='d', cmap='Blues',\n",
        "            xticklabels=['Not Churn', 'Churn'], yticklabels=['Not Churn', 'Churn'])\n",
        "plt.xlabel('Predicted')\n",
        "plt.ylabel('Actual')\n",
        "plt.title('Confusion Matrix')\n",
        "plt.show()\n"
      ],
      "metadata": {
        "colab": {
          "base_uri": "https://localhost:8080/",
          "height": 941
        },
        "id": "vWRmbCzsL_4w",
        "outputId": "29681e04-b385-4996-85e6-be6a00dcec3d"
      },
      "execution_count": null,
      "outputs": [
        {
          "output_type": "stream",
          "name": "stderr",
          "text": [
            "/usr/local/lib/python3.10/dist-packages/sklearn/linear_model/_logistic.py:460: ConvergenceWarning: lbfgs failed to converge (status=1):\n",
            "STOP: TOTAL NO. of ITERATIONS REACHED LIMIT.\n",
            "\n",
            "Increase the number of iterations (max_iter) or scale the data as shown in:\n",
            "    https://scikit-learn.org/stable/modules/preprocessing.html\n",
            "Please also refer to the documentation for alternative solver options:\n",
            "    https://scikit-learn.org/stable/modules/linear_model.html#logistic-regression\n",
            "  n_iter_i = _check_optimize_result(\n"
          ]
        },
        {
          "output_type": "stream",
          "name": "stdout",
          "text": [
            "Confusion Matrix:\n",
            "[[8276    7]\n",
            " [  10  715]]\n",
            "\n",
            "Classification Report:\n",
            "              precision    recall  f1-score   support\n",
            "\n",
            "           0       1.00      1.00      1.00      8283\n",
            "           1       0.99      0.99      0.99       725\n",
            "\n",
            "    accuracy                           1.00      9008\n",
            "   macro avg       0.99      0.99      0.99      9008\n",
            "weighted avg       1.00      1.00      1.00      9008\n",
            "\n"
          ]
        },
        {
          "output_type": "display_data",
          "data": {
            "text/plain": [
              "<Figure size 800x600 with 2 Axes>"
            ],
            "image/png": "[encoded data removed]"
          },
          "metadata": {}
        }
      ]
    },
    {
      "cell_type": "markdown",
      "source": [
        " Feature Importance"
      ],
      "metadata": {
        "id": "DwFss81lMdB_"
      }
    },
    {
      "cell_type": "code",
      "source": [
        "import numpy as np\n",
        "\n",
        "# Get feature names\n",
        "feature_names = X_train.columns\n",
        "\n",
        "# Get model coefficients\n",
        "coefficients = model.coef_[0]\n",
        "\n",
        "# Create a DataFrame to view coefficients\n",
        "feature_importance = pd.DataFrame({\n",
        "    'Feature': feature_names,\n",
        "    'Coefficient': coefficients\n",
        "}).sort_values(by='Coefficient', ascending=False)\n",
        "\n",
        "print(\"Feature Importance:\")\n",
        "print(feature_importance.head(10))  # Display top 10 features\n"
      ],
      "metadata": {
        "colab": {
          "base_uri": "https://localhost:8080/"
        },
        "id": "Qon4DxsYMACz",
        "outputId": "085a7361-f7be-45c2-eb27-8702708d9459"
      },
      "execution_count": null,
      "outputs": [
        {
          "output_type": "stream",
          "name": "stdout",
          "text": [
            "Feature Importance:\n",
            "              Feature  Coefficient\n",
            "0           circle_id     0.087867\n",
            "51   std_og_t2m_mou_9     0.023153\n",
            "63       std_og_mou_9     0.020754\n",
            "191         arpu_2g_9     0.020728\n",
            "22      roam_og_mou_8     0.019831\n",
            "187         arpu_3g_9     0.016481\n",
            "185         arpu_3g_7     0.014518\n",
            "83   loc_ic_t2t_mou_9     0.012291\n",
            "126      isd_ic_mou_8     0.012146\n",
            "162   max_rech_data_8     0.010247\n"
          ]
        }
      ]
    },
    {
      "cell_type": "markdown",
      "source": [
        "Visualize Feature Importance"
      ],
      "metadata": {
        "id": "jjVD3eTjMwHp"
      }
    },
    {
      "cell_type": "code",
      "source": [
        "# Plot top features\n",
        "plt.figure(figsize=(12, 8))\n",
        "top_features = feature_importance.head(10)\n",
        "sns.barplot(x='Coefficient', y='Feature', data=top_features)\n",
        "plt.title('Top 10 Features for Churn Prediction')\n",
        "plt.xlabel('Coefficient')\n",
        "plt.ylabel('Feature')\n",
        "plt.show()\n"
      ],
      "metadata": {
        "colab": {
          "base_uri": "https://localhost:8080/",
          "height": 412
        },
        "id": "V8bt5pcgMAH2",
        "outputId": "809d04c7-f625-4351-f7f1-14ff6165c332"
      },
      "execution_count": null,
      "outputs": [
        {
          "output_type": "display_data",
          "data": {
            "text/plain": [
              "<Figure size 1200x800 with 1 Axes>"
            ],
            "image/png": "[encoded data removed]"
          },
          "metadata": {}
        }
      ]
    },
    {
      "cell_type": "markdown",
      "source": [
        "Extract Important Predictors"
      ],
      "metadata": {
        "id": "iZbVqI4sNIR7"
      }
    },
    {
      "cell_type": "code",
      "source": [
        "import pandas as pd\n",
        "import numpy as np\n",
        "\n",
        "# Get feature names\n",
        "feature_names = X_train.columns\n",
        "\n",
        "# Get model coefficients\n",
        "coefficients = model.coef_[0]\n",
        "\n",
        "# Create a DataFrame to view coefficients\n",
        "feature_importance = pd.DataFrame({\n",
        "    'Feature': feature_names,\n",
        "    'Coefficient': coefficients\n",
        "}).sort_values(by='Coefficient', ascending=False)\n",
        "\n",
        "# Display the top important features\n",
        "print(\"Feature Importance:\")\n",
        "print(feature_importance.head(10))  # Display top 10 features\n"
      ],
      "metadata": {
        "colab": {
          "base_uri": "https://localhost:8080/"
        },
        "id": "k4lyE7n1JxM-",
        "outputId": "65261bf0-80dc-4240-e12a-ddaf03a0e9d1"
      },
      "execution_count": null,
      "outputs": [
        {
          "output_type": "stream",
          "name": "stdout",
          "text": [
            "Feature Importance:\n",
            "              Feature  Coefficient\n",
            "0           circle_id     0.087867\n",
            "51   std_og_t2m_mou_9     0.023153\n",
            "63       std_og_mou_9     0.020754\n",
            "191         arpu_2g_9     0.020728\n",
            "22      roam_og_mou_8     0.019831\n",
            "187         arpu_3g_9     0.016481\n",
            "185         arpu_3g_7     0.014518\n",
            "83   loc_ic_t2t_mou_9     0.012291\n",
            "126      isd_ic_mou_8     0.012146\n",
            "162   max_rech_data_8     0.010247\n"
          ]
        }
      ]
    },
    {
      "cell_type": "markdown",
      "source": [
        "Visualizing Important Predictors"
      ],
      "metadata": {
        "id": "47lGdqctOJwl"
      }
    },
    {
      "cell_type": "code",
      "source": [
        "#Plot the Top Predictors\n",
        "\n",
        "plt.figure(figsize=(12, 8))\n",
        "top_features = feature_importance.head(10)\n",
        "sns.barplot(x='Coefficient', y='Feature', data=top_features, palette='viridis')\n",
        "plt.title('Top 10 Features for Churn Prediction')\n",
        "plt.xlabel('Coefficient')\n",
        "plt.ylabel('Feature')\n",
        "plt.show()"
      ],
      "metadata": {
        "colab": {
          "base_uri": "https://localhost:8080/",
          "height": 519
        },
        "id": "e0FW6kUMOLGP",
        "outputId": "a634c5e4-1b5a-4735-9978-3031887c4ab1"
      },
      "execution_count": null,
      "outputs": [
        {
          "output_type": "stream",
          "name": "stderr",
          "text": [
            "<ipython-input-79-798ea0b8e59a>:5: FutureWarning: \n",
            "\n",
            "Passing `palette` without assigning `hue` is deprecated and will be removed in v0.14.0. Assign the `y` variable to `hue` and set `legend=False` for the same effect.\n",
            "\n",
            "  sns.barplot(x='Coefficient', y='Feature', data=top_features, palette='viridis')\n"
          ]
        },
        {
          "output_type": "display_data",
          "data": {
            "text/plain": [
              "<Figure size 1200x800 with 1 Axes>"
            ],
            "image/png": "[encoded data removed]"
          },
          "metadata": {}
        }
      ]
    },
    {
      "cell_type": "markdown",
      "source": [
        "Visualizing Important Predictors"
      ],
      "metadata": {
        "id": "dRogKZF3O2ij"
      }
    },
    {
      "cell_type": "code",
      "source": [
        "import matplotlib.pyplot as plt\n",
        "import seaborn as sns\n",
        "\n",
        "# Data for visualization\n",
        "top_features = pd.DataFrame({\n",
        "    'Feature': [\n",
        "        'circle_id', 'std_og_t2m_mou_9', 'std_og_mou_9', 'arpu_2g_9',\n",
        "        'roam_og_mou_8', 'arpu_3g_9', 'arpu_3g_7', 'loc_ic_t2t_mou_9',\n",
        "        'isd_ic_mou_8', 'max_rech_data_8'\n",
        "    ],\n",
        "    'Coefficient': [\n",
        "        0.087867, 0.023153, 0.020754, 0.020728, 0.019831,\n",
        "        0.016481, 0.014518, 0.012291, 0.012146, 0.010247\n",
        "    ]\n",
        "})\n",
        "\n",
        "# Plot\n",
        "plt.figure(figsize=(10, 8))\n",
        "sns.barplot(x='Coefficient', y='Feature', data=top_features, palette='viridis')\n",
        "plt.title('Top Predictors of Churn')\n",
        "plt.xlabel('Coefficient')\n",
        "plt.ylabel('Feature')\n",
        "plt.show()\n"
      ],
      "metadata": {
        "colab": {
          "base_uri": "https://localhost:8080/",
          "height": 583
        },
        "id": "NgHFKPElM14Z",
        "outputId": "75a69b39-a171-41f7-8b20-3dfec82b4d35"
      },
      "execution_count": null,
      "outputs": [
        {
          "output_type": "stream",
          "name": "stderr",
          "text": [
            "<ipython-input-81-45491b66d966>:19: FutureWarning: \n",
            "\n",
            "Passing `palette` without assigning `hue` is deprecated and will be removed in v0.14.0. Assign the `y` variable to `hue` and set `legend=False` for the same effect.\n",
            "\n",
            "  sns.barplot(x='Coefficient', y='Feature', data=top_features, palette='viridis')\n"
          ]
        },
        {
          "output_type": "display_data",
          "data": {
            "text/plain": [
              "<Figure size 1000x800 with 1 Axes>"
            ],
            "image/png": "[encoded data removed]"
          },
          "metadata": {}
        }
      ]
    },
    {
      "cell_type": "markdown",
      "source": [
        "Recommendations Based on Model Findings\n",
        "Increase Engagement for Low circle_id: Since circle_id has a positive coefficient, customers with certain circle IDs may be at a higher risk of churn. Target these customers with special plans or discounts.\n",
        "\n",
        "Incentives for Low std_og_t2m_mou_9: If a customer's usage of STD outgoing calls is low, consider offering incentives to increase their engagement.\n",
        "\n",
        "Address Low std_og_mou_9: Similarly, for customers with low STD outgoing minutes of usage, targeted promotions might help retain them.\n",
        "\n",
        "Enhance Services for Low arpu_2g_9: Customers with lower ARPU on 2G services may need tailored offers or improved service plans.\n",
        "\n",
        "Increase Engagement for Low roam_og_mou_8: If roaming outgoing minutes are low, consider providing attractive roaming packages.\n",
        "\n",
        "Focus on Low arpu_3g_9: Customers with lower ARPU on 3G might benefit from better data plans or offers to boost their usage.\n",
        "\n",
        "Improve Services for Low arpu_3g_7: Similarly, improve the services for customers with lower ARPU in 3G from previous periods.\n",
        "\n",
        "Target Low loc_ic_t2t_mou_9: Customers with low local incoming call minutes might need engagement strategies to increase their usage.\n",
        "\n",
        "Incentivize Low isd_ic_mou_8: For customers with lower ISD incoming minutes, offer special international call packages.\n",
        "\n",
        "Enhance Plans for Low max_rech_data_8: Customers with lower maximum recharge amounts might benefit from better or more affordable data plans."
      ],
      "metadata": {
        "id": "KV9vQdysPA42"
      }
    },
    {
      "cell_type": "markdown",
      "source": [
        "Actionable Strategies to Reduce Customer Churn\n",
        "Based on the model's findings, here are actionable strategies for reducing customer churn:\n",
        "\n",
        "Targeted Incentives Based on circle_id:\n",
        "\n",
        "Strategy: Develop customized promotions or discounts specifically for customers with circle IDs that have been identified as having a higher risk of churn.\n",
        "Action: Analyze the customer base by circle_id and design region-specific offers to retain customers.\n",
        "Increase Engagement for Low std_og_t2m_mou_9:\n",
        "\n",
        "Strategy: Introduce incentives or special offers to customers with low STD outgoing minutes in the current period.\n",
        "Action: Implement targeted marketing campaigns that include bonus talk time or discounts on STD calls for these customers.\n",
        "Promotional Offers for Low std_og_mou_9:\n",
        "\n",
        "Strategy: Offer special rates or bundles for STD outgoing minutes to increase usage.\n",
        "Action: Create limited-time promotions with additional STD call benefits or reduced rates to encourage more usage.\n",
        "Enhance Value for Low arpu_2g_9:\n",
        "\n",
        "Strategy: Provide enhanced 2G data plans or additional services to customers with low ARPU on 2G services.\n",
        "Action: Review and adjust pricing structures, offer data boosts, or create loyalty rewards for increased engagement.\n",
        "Roaming Packages for Low roam_og_mou_8:\n",
        "\n",
        "Strategy: Offer attractive roaming packages to customers with low roaming outgoing minutes.\n",
        "Action: Develop and promote cost-effective roaming plans, including discounted rates for international calls and data.\n",
        "Data Plans for Low arpu_3g_9:\n",
        "\n",
        "Strategy: Improve or offer additional data plans for customers with low ARPU on 3G services.\n",
        "Action: Design targeted campaigns with higher data allowances or lower rates to boost 3G usage.\n",
        "Incentives for Low arpu_3g_7:\n",
        "\n",
        "Strategy: Provide enhanced 3G services or rewards for customers with lower ARPU from previous periods.\n",
        "Action: Introduce retention plans with better data offers or loyalty programs to increase usage.\n",
        "Engagement for Low loc_ic_t2t_mou_9:\n",
        "\n",
        "Strategy: Increase local incoming call minutes through special incentives or value-added services.\n",
        "Action: Offer bonus minutes or lower rates for local calls to customers with low incoming usage.\n",
        "Special Offers for Low isd_ic_mou_8:\n",
        "\n",
        "Strategy: Create special offers for international incoming calls to encourage more usage.\n",
        "Action: Develop competitive ISD call packages or loyalty rewards to increase the use of international services.\n",
        "Revise Plans for Low max_rech_data_8:\n",
        "\n",
        "Strategy: Offer better data plans or affordable options for customers with lower maximum recharge amounts.\n",
        "Action: Design flexible recharge plans with varying data benefits to cater to different customer needs and encourage higher recharge amounts.\n",
        "By implementing these strategies, the company can address the specific needs of customers at risk of churn, improve their engagement, and ultimately reduce the overall churn rate."
      ],
      "metadata": {
        "id": "saBKBPXrPS8T"
      }
    },
    {
      "cell_type": "markdown",
      "source": [
        " The steps you had  follow:\n",
        "\n",
        "Load the Data:\n",
        "Ensure the dataset is accessible and correctly loaded.\n",
        "\n",
        "Data Preprocessing:\n",
        "Handle missing values, encode categorical variables, and normalize numerical features.\n",
        "\n",
        "Exploratory Data Analysis (EDA):\n",
        "Visualize key insights and distributions, such as customer behaviors and churn rates.\n",
        "\n",
        "Feature Engineering:\n",
        "Create new features, if necessary, and select important ones.\n",
        "\n",
        "Model Building:\n",
        "Train models to predict churn, address class imbalance, and evaluate performance.\n",
        "\n",
        "Feature Importance:\n",
        "Identify and visualize key predictors.\n",
        "\n",
        "Recommendations:\n",
        "Based on the model results and feature importance, provide actionable business recommendations.\n",
        "\n",
        "Presentation:\n",
        "Summarize findings and implications in a PDF presentation.\n",
        "\n",
        "GitHub Repository:\n",
        "Upload the Python notebook, presentation, and README.md to GitHub."
      ],
      "metadata": {
        "id": "rcKIzZ_9P_dz"
      }
    }
  ]
}